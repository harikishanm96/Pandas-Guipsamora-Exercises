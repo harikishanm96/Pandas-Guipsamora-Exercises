{
  "cells": [
    {
      "cell_type": "markdown",
      "metadata": {
        "id": "N8p_yoc2eG4a"
      },
      "source": [
        "# Ex2 - Getting and Knowing your Data"
      ]
    },
    {
      "cell_type": "markdown",
      "metadata": {
        "id": "bJRb6fdJeG4b"
      },
      "source": [
        "This time we are going to pull data directly from the internet.\n",
        "Special thanks to: https://github.com/justmarkham for sharing the dataset and materials.\n",
        "\n",
        "### Step 1. Import the necessary libraries"
      ]
    },
    {
      "cell_type": "code",
      "execution_count": 1,
      "metadata": {
        "id": "dieBI_mfeG4c"
      },
      "outputs": [],
      "source": [
        "import pandas as pd\n",
        "import numpy as np"
      ]
    },
    {
      "cell_type": "markdown",
      "metadata": {
        "id": "ppWpMPCWeG4d"
      },
      "source": [
        "### Step 2. Import the dataset from this [address](https://raw.githubusercontent.com/justmarkham/DAT8/master/data/chipotle.tsv)."
      ]
    },
    {
      "cell_type": "markdown",
      "metadata": {
        "id": "vuwq_2UkeG4d"
      },
      "source": [
        "### Step 3. Assign it to a variable called chipo."
      ]
    },
    {
      "cell_type": "code",
      "execution_count": 3,
      "metadata": {
        "id": "pwG1quxOeG4d"
      },
      "outputs": [],
      "source": [
        "chipo = pd.read_csv('https://raw.githubusercontent.com/justmarkham/DAT8/master/data/chipotle.tsv', sep='\\t')"
      ]
    },
    {
      "cell_type": "markdown",
      "metadata": {
        "id": "kpqoqgxUeG4d"
      },
      "source": [
        "### Step 4. See the first 10 entries"
      ]
    },
    {
      "cell_type": "code",
      "execution_count": 4,
      "metadata": {
        "scrolled": false,
        "colab": {
          "base_uri": "https://localhost:8080/",
          "height": 363
        },
        "id": "DFupHyt1eG4e",
        "outputId": "802f86e9-0c72-41ed-e502-3e1f68c4e084"
      },
      "outputs": [
        {
          "output_type": "execute_result",
          "data": {
            "text/plain": [
              "   order_id  quantity                              item_name  \\\n",
              "0         1         1           Chips and Fresh Tomato Salsa   \n",
              "1         1         1                                   Izze   \n",
              "2         1         1                       Nantucket Nectar   \n",
              "3         1         1  Chips and Tomatillo-Green Chili Salsa   \n",
              "4         2         2                           Chicken Bowl   \n",
              "5         3         1                           Chicken Bowl   \n",
              "6         3         1                          Side of Chips   \n",
              "7         4         1                          Steak Burrito   \n",
              "8         4         1                       Steak Soft Tacos   \n",
              "9         5         1                          Steak Burrito   \n",
              "\n",
              "                                  choice_description item_price  \n",
              "0                                                NaN     $2.39   \n",
              "1                                       [Clementine]     $3.39   \n",
              "2                                            [Apple]     $3.39   \n",
              "3                                                NaN     $2.39   \n",
              "4  [Tomatillo-Red Chili Salsa (Hot), [Black Beans...    $16.98   \n",
              "5  [Fresh Tomato Salsa (Mild), [Rice, Cheese, Sou...    $10.98   \n",
              "6                                                NaN     $1.69   \n",
              "7  [Tomatillo Red Chili Salsa, [Fajita Vegetables...    $11.75   \n",
              "8  [Tomatillo Green Chili Salsa, [Pinto Beans, Ch...     $9.25   \n",
              "9  [Fresh Tomato Salsa, [Rice, Black Beans, Pinto...     $9.25   "
            ],
            "text/html": [
              "\n",
              "  <div id=\"df-213e1b38-571c-4779-9b62-e294e4a10f5a\" class=\"colab-df-container\">\n",
              "    <div>\n",
              "<style scoped>\n",
              "    .dataframe tbody tr th:only-of-type {\n",
              "        vertical-align: middle;\n",
              "    }\n",
              "\n",
              "    .dataframe tbody tr th {\n",
              "        vertical-align: top;\n",
              "    }\n",
              "\n",
              "    .dataframe thead th {\n",
              "        text-align: right;\n",
              "    }\n",
              "</style>\n",
              "<table border=\"1\" class=\"dataframe\">\n",
              "  <thead>\n",
              "    <tr style=\"text-align: right;\">\n",
              "      <th></th>\n",
              "      <th>order_id</th>\n",
              "      <th>quantity</th>\n",
              "      <th>item_name</th>\n",
              "      <th>choice_description</th>\n",
              "      <th>item_price</th>\n",
              "    </tr>\n",
              "  </thead>\n",
              "  <tbody>\n",
              "    <tr>\n",
              "      <th>0</th>\n",
              "      <td>1</td>\n",
              "      <td>1</td>\n",
              "      <td>Chips and Fresh Tomato Salsa</td>\n",
              "      <td>NaN</td>\n",
              "      <td>$2.39</td>\n",
              "    </tr>\n",
              "    <tr>\n",
              "      <th>1</th>\n",
              "      <td>1</td>\n",
              "      <td>1</td>\n",
              "      <td>Izze</td>\n",
              "      <td>[Clementine]</td>\n",
              "      <td>$3.39</td>\n",
              "    </tr>\n",
              "    <tr>\n",
              "      <th>2</th>\n",
              "      <td>1</td>\n",
              "      <td>1</td>\n",
              "      <td>Nantucket Nectar</td>\n",
              "      <td>[Apple]</td>\n",
              "      <td>$3.39</td>\n",
              "    </tr>\n",
              "    <tr>\n",
              "      <th>3</th>\n",
              "      <td>1</td>\n",
              "      <td>1</td>\n",
              "      <td>Chips and Tomatillo-Green Chili Salsa</td>\n",
              "      <td>NaN</td>\n",
              "      <td>$2.39</td>\n",
              "    </tr>\n",
              "    <tr>\n",
              "      <th>4</th>\n",
              "      <td>2</td>\n",
              "      <td>2</td>\n",
              "      <td>Chicken Bowl</td>\n",
              "      <td>[Tomatillo-Red Chili Salsa (Hot), [Black Beans...</td>\n",
              "      <td>$16.98</td>\n",
              "    </tr>\n",
              "    <tr>\n",
              "      <th>5</th>\n",
              "      <td>3</td>\n",
              "      <td>1</td>\n",
              "      <td>Chicken Bowl</td>\n",
              "      <td>[Fresh Tomato Salsa (Mild), [Rice, Cheese, Sou...</td>\n",
              "      <td>$10.98</td>\n",
              "    </tr>\n",
              "    <tr>\n",
              "      <th>6</th>\n",
              "      <td>3</td>\n",
              "      <td>1</td>\n",
              "      <td>Side of Chips</td>\n",
              "      <td>NaN</td>\n",
              "      <td>$1.69</td>\n",
              "    </tr>\n",
              "    <tr>\n",
              "      <th>7</th>\n",
              "      <td>4</td>\n",
              "      <td>1</td>\n",
              "      <td>Steak Burrito</td>\n",
              "      <td>[Tomatillo Red Chili Salsa, [Fajita Vegetables...</td>\n",
              "      <td>$11.75</td>\n",
              "    </tr>\n",
              "    <tr>\n",
              "      <th>8</th>\n",
              "      <td>4</td>\n",
              "      <td>1</td>\n",
              "      <td>Steak Soft Tacos</td>\n",
              "      <td>[Tomatillo Green Chili Salsa, [Pinto Beans, Ch...</td>\n",
              "      <td>$9.25</td>\n",
              "    </tr>\n",
              "    <tr>\n",
              "      <th>9</th>\n",
              "      <td>5</td>\n",
              "      <td>1</td>\n",
              "      <td>Steak Burrito</td>\n",
              "      <td>[Fresh Tomato Salsa, [Rice, Black Beans, Pinto...</td>\n",
              "      <td>$9.25</td>\n",
              "    </tr>\n",
              "  </tbody>\n",
              "</table>\n",
              "</div>\n",
              "    <div class=\"colab-df-buttons\">\n",
              "\n",
              "  <div class=\"colab-df-container\">\n",
              "    <button class=\"colab-df-convert\" onclick=\"convertToInteractive('df-213e1b38-571c-4779-9b62-e294e4a10f5a')\"\n",
              "            title=\"Convert this dataframe to an interactive table.\"\n",
              "            style=\"display:none;\">\n",
              "\n",
              "  <svg xmlns=\"http://www.w3.org/2000/svg\" height=\"24px\" viewBox=\"0 -960 960 960\">\n",
              "    <path d=\"M120-120v-720h720v720H120Zm60-500h600v-160H180v160Zm220 220h160v-160H400v160Zm0 220h160v-160H400v160ZM180-400h160v-160H180v160Zm440 0h160v-160H620v160ZM180-180h160v-160H180v160Zm440 0h160v-160H620v160Z\"/>\n",
              "  </svg>\n",
              "    </button>\n",
              "\n",
              "  <style>\n",
              "    .colab-df-container {\n",
              "      display:flex;\n",
              "      gap: 12px;\n",
              "    }\n",
              "\n",
              "    .colab-df-convert {\n",
              "      background-color: #E8F0FE;\n",
              "      border: none;\n",
              "      border-radius: 50%;\n",
              "      cursor: pointer;\n",
              "      display: none;\n",
              "      fill: #1967D2;\n",
              "      height: 32px;\n",
              "      padding: 0 0 0 0;\n",
              "      width: 32px;\n",
              "    }\n",
              "\n",
              "    .colab-df-convert:hover {\n",
              "      background-color: #E2EBFA;\n",
              "      box-shadow: 0px 1px 2px rgba(60, 64, 67, 0.3), 0px 1px 3px 1px rgba(60, 64, 67, 0.15);\n",
              "      fill: #174EA6;\n",
              "    }\n",
              "\n",
              "    .colab-df-buttons div {\n",
              "      margin-bottom: 4px;\n",
              "    }\n",
              "\n",
              "    [theme=dark] .colab-df-convert {\n",
              "      background-color: #3B4455;\n",
              "      fill: #D2E3FC;\n",
              "    }\n",
              "\n",
              "    [theme=dark] .colab-df-convert:hover {\n",
              "      background-color: #434B5C;\n",
              "      box-shadow: 0px 1px 3px 1px rgba(0, 0, 0, 0.15);\n",
              "      filter: drop-shadow(0px 1px 2px rgba(0, 0, 0, 0.3));\n",
              "      fill: #FFFFFF;\n",
              "    }\n",
              "  </style>\n",
              "\n",
              "    <script>\n",
              "      const buttonEl =\n",
              "        document.querySelector('#df-213e1b38-571c-4779-9b62-e294e4a10f5a button.colab-df-convert');\n",
              "      buttonEl.style.display =\n",
              "        google.colab.kernel.accessAllowed ? 'block' : 'none';\n",
              "\n",
              "      async function convertToInteractive(key) {\n",
              "        const element = document.querySelector('#df-213e1b38-571c-4779-9b62-e294e4a10f5a');\n",
              "        const dataTable =\n",
              "          await google.colab.kernel.invokeFunction('convertToInteractive',\n",
              "                                                    [key], {});\n",
              "        if (!dataTable) return;\n",
              "\n",
              "        const docLinkHtml = 'Like what you see? Visit the ' +\n",
              "          '<a target=\"_blank\" href=https://colab.research.google.com/notebooks/data_table.ipynb>data table notebook</a>'\n",
              "          + ' to learn more about interactive tables.';\n",
              "        element.innerHTML = '';\n",
              "        dataTable['output_type'] = 'display_data';\n",
              "        await google.colab.output.renderOutput(dataTable, element);\n",
              "        const docLink = document.createElement('div');\n",
              "        docLink.innerHTML = docLinkHtml;\n",
              "        element.appendChild(docLink);\n",
              "      }\n",
              "    </script>\n",
              "  </div>\n",
              "\n",
              "\n",
              "<div id=\"df-569004fb-3dde-4e65-a687-7587a7802af2\">\n",
              "  <button class=\"colab-df-quickchart\" onclick=\"quickchart('df-569004fb-3dde-4e65-a687-7587a7802af2')\"\n",
              "            title=\"Suggest charts\"\n",
              "            style=\"display:none;\">\n",
              "\n",
              "<svg xmlns=\"http://www.w3.org/2000/svg\" height=\"24px\"viewBox=\"0 0 24 24\"\n",
              "     width=\"24px\">\n",
              "    <g>\n",
              "        <path d=\"M19 3H5c-1.1 0-2 .9-2 2v14c0 1.1.9 2 2 2h14c1.1 0 2-.9 2-2V5c0-1.1-.9-2-2-2zM9 17H7v-7h2v7zm4 0h-2V7h2v10zm4 0h-2v-4h2v4z\"/>\n",
              "    </g>\n",
              "</svg>\n",
              "  </button>\n",
              "\n",
              "<style>\n",
              "  .colab-df-quickchart {\n",
              "      --bg-color: #E8F0FE;\n",
              "      --fill-color: #1967D2;\n",
              "      --hover-bg-color: #E2EBFA;\n",
              "      --hover-fill-color: #174EA6;\n",
              "      --disabled-fill-color: #AAA;\n",
              "      --disabled-bg-color: #DDD;\n",
              "  }\n",
              "\n",
              "  [theme=dark] .colab-df-quickchart {\n",
              "      --bg-color: #3B4455;\n",
              "      --fill-color: #D2E3FC;\n",
              "      --hover-bg-color: #434B5C;\n",
              "      --hover-fill-color: #FFFFFF;\n",
              "      --disabled-bg-color: #3B4455;\n",
              "      --disabled-fill-color: #666;\n",
              "  }\n",
              "\n",
              "  .colab-df-quickchart {\n",
              "    background-color: var(--bg-color);\n",
              "    border: none;\n",
              "    border-radius: 50%;\n",
              "    cursor: pointer;\n",
              "    display: none;\n",
              "    fill: var(--fill-color);\n",
              "    height: 32px;\n",
              "    padding: 0;\n",
              "    width: 32px;\n",
              "  }\n",
              "\n",
              "  .colab-df-quickchart:hover {\n",
              "    background-color: var(--hover-bg-color);\n",
              "    box-shadow: 0 1px 2px rgba(60, 64, 67, 0.3), 0 1px 3px 1px rgba(60, 64, 67, 0.15);\n",
              "    fill: var(--button-hover-fill-color);\n",
              "  }\n",
              "\n",
              "  .colab-df-quickchart-complete:disabled,\n",
              "  .colab-df-quickchart-complete:disabled:hover {\n",
              "    background-color: var(--disabled-bg-color);\n",
              "    fill: var(--disabled-fill-color);\n",
              "    box-shadow: none;\n",
              "  }\n",
              "\n",
              "  .colab-df-spinner {\n",
              "    border: 2px solid var(--fill-color);\n",
              "    border-color: transparent;\n",
              "    border-bottom-color: var(--fill-color);\n",
              "    animation:\n",
              "      spin 1s steps(1) infinite;\n",
              "  }\n",
              "\n",
              "  @keyframes spin {\n",
              "    0% {\n",
              "      border-color: transparent;\n",
              "      border-bottom-color: var(--fill-color);\n",
              "      border-left-color: var(--fill-color);\n",
              "    }\n",
              "    20% {\n",
              "      border-color: transparent;\n",
              "      border-left-color: var(--fill-color);\n",
              "      border-top-color: var(--fill-color);\n",
              "    }\n",
              "    30% {\n",
              "      border-color: transparent;\n",
              "      border-left-color: var(--fill-color);\n",
              "      border-top-color: var(--fill-color);\n",
              "      border-right-color: var(--fill-color);\n",
              "    }\n",
              "    40% {\n",
              "      border-color: transparent;\n",
              "      border-right-color: var(--fill-color);\n",
              "      border-top-color: var(--fill-color);\n",
              "    }\n",
              "    60% {\n",
              "      border-color: transparent;\n",
              "      border-right-color: var(--fill-color);\n",
              "    }\n",
              "    80% {\n",
              "      border-color: transparent;\n",
              "      border-right-color: var(--fill-color);\n",
              "      border-bottom-color: var(--fill-color);\n",
              "    }\n",
              "    90% {\n",
              "      border-color: transparent;\n",
              "      border-bottom-color: var(--fill-color);\n",
              "    }\n",
              "  }\n",
              "</style>\n",
              "\n",
              "  <script>\n",
              "    async function quickchart(key) {\n",
              "      const quickchartButtonEl =\n",
              "        document.querySelector('#' + key + ' button');\n",
              "      quickchartButtonEl.disabled = true;  // To prevent multiple clicks.\n",
              "      quickchartButtonEl.classList.add('colab-df-spinner');\n",
              "      try {\n",
              "        const charts = await google.colab.kernel.invokeFunction(\n",
              "            'suggestCharts', [key], {});\n",
              "      } catch (error) {\n",
              "        console.error('Error during call to suggestCharts:', error);\n",
              "      }\n",
              "      quickchartButtonEl.classList.remove('colab-df-spinner');\n",
              "      quickchartButtonEl.classList.add('colab-df-quickchart-complete');\n",
              "    }\n",
              "    (() => {\n",
              "      let quickchartButtonEl =\n",
              "        document.querySelector('#df-569004fb-3dde-4e65-a687-7587a7802af2 button');\n",
              "      quickchartButtonEl.style.display =\n",
              "        google.colab.kernel.accessAllowed ? 'block' : 'none';\n",
              "    })();\n",
              "  </script>\n",
              "</div>\n",
              "\n",
              "    </div>\n",
              "  </div>\n"
            ],
            "application/vnd.google.colaboratory.intrinsic+json": {
              "type": "dataframe",
              "variable_name": "chipo",
              "summary": "{\n  \"name\": \"chipo\",\n  \"rows\": 4622,\n  \"fields\": [\n    {\n      \"column\": \"order_id\",\n      \"properties\": {\n        \"dtype\": \"number\",\n        \"std\": 528,\n        \"min\": 1,\n        \"max\": 1834,\n        \"num_unique_values\": 1834,\n        \"samples\": [\n          644,\n          333,\n          991\n        ],\n        \"semantic_type\": \"\",\n        \"description\": \"\"\n      }\n    },\n    {\n      \"column\": \"quantity\",\n      \"properties\": {\n        \"dtype\": \"number\",\n        \"std\": 0,\n        \"min\": 1,\n        \"max\": 15,\n        \"num_unique_values\": 9,\n        \"samples\": [\n          8,\n          2,\n          15\n        ],\n        \"semantic_type\": \"\",\n        \"description\": \"\"\n      }\n    },\n    {\n      \"column\": \"item_name\",\n      \"properties\": {\n        \"dtype\": \"category\",\n        \"num_unique_values\": 50,\n        \"samples\": [\n          \"Barbacoa Burrito\",\n          \"Crispy Tacos\",\n          \"Chips and Roasted Chili Corn Salsa\"\n        ],\n        \"semantic_type\": \"\",\n        \"description\": \"\"\n      }\n    },\n    {\n      \"column\": \"choice_description\",\n      \"properties\": {\n        \"dtype\": \"category\",\n        \"num_unique_values\": 1043,\n        \"samples\": [\n          \"[Roasted Chili Corn Salsa, [Black Beans, Sour Cream, Cheese, Guacamole]]\",\n          \"[Tomatillo Red Chili Salsa, [Guacamole, Cheese]]\",\n          \"[Fresh Tomato Salsa, [Rice, Cheese, Sour Cream, Guacamole, Lettuce]]\"\n        ],\n        \"semantic_type\": \"\",\n        \"description\": \"\"\n      }\n    },\n    {\n      \"column\": \"item_price\",\n      \"properties\": {\n        \"dtype\": \"category\",\n        \"num_unique_values\": 78,\n        \"samples\": [\n          \"$23.50 \",\n          \"$2.39 \",\n          \"$7.40 \"\n        ],\n        \"semantic_type\": \"\",\n        \"description\": \"\"\n      }\n    }\n  ]\n}"
            }
          },
          "metadata": {},
          "execution_count": 4
        }
      ],
      "source": [
        "chipo.head(10)"
      ]
    },
    {
      "cell_type": "markdown",
      "metadata": {
        "id": "gmYJ-IFQeG4e"
      },
      "source": [
        "### Step 5. What is the number of observations in the dataset?"
      ]
    },
    {
      "cell_type": "code",
      "execution_count": 5,
      "metadata": {
        "colab": {
          "base_uri": "https://localhost:8080/"
        },
        "id": "SNy47wXqeG4e",
        "outputId": "9fecc119-87b3-4e4b-e4d1-11d92d5e75b9"
      },
      "outputs": [
        {
          "output_type": "execute_result",
          "data": {
            "text/plain": [
              "(4622, 5)"
            ]
          },
          "metadata": {},
          "execution_count": 5
        }
      ],
      "source": [
        "# Solution 1\n",
        "\n",
        "chipo.shape"
      ]
    },
    {
      "cell_type": "code",
      "execution_count": 6,
      "metadata": {
        "colab": {
          "base_uri": "https://localhost:8080/"
        },
        "id": "kRLFlOsGeG4e",
        "outputId": "04d488f0-0910-4be8-a65b-e6d91ad1a825"
      },
      "outputs": [
        {
          "output_type": "stream",
          "name": "stdout",
          "text": [
            "<class 'pandas.core.frame.DataFrame'>\n",
            "RangeIndex: 4622 entries, 0 to 4621\n",
            "Data columns (total 5 columns):\n",
            " #   Column              Non-Null Count  Dtype \n",
            "---  ------              --------------  ----- \n",
            " 0   order_id            4622 non-null   int64 \n",
            " 1   quantity            4622 non-null   int64 \n",
            " 2   item_name           4622 non-null   object\n",
            " 3   choice_description  3376 non-null   object\n",
            " 4   item_price          4622 non-null   object\n",
            "dtypes: int64(2), object(3)\n",
            "memory usage: 180.7+ KB\n"
          ]
        }
      ],
      "source": [
        "# Solution 2\n",
        "\n",
        "chipo.info()"
      ]
    },
    {
      "cell_type": "markdown",
      "metadata": {
        "id": "pP700npFeG4e"
      },
      "source": [
        "### Step 6. What is the number of columns in the dataset?"
      ]
    },
    {
      "cell_type": "code",
      "execution_count": 8,
      "metadata": {
        "colab": {
          "base_uri": "https://localhost:8080/"
        },
        "id": "YGcm-RP_eG4e",
        "outputId": "231faeea-802f-462b-8ac1-77113a5407da"
      },
      "outputs": [
        {
          "output_type": "execute_result",
          "data": {
            "text/plain": [
              "5"
            ]
          },
          "metadata": {},
          "execution_count": 8
        }
      ],
      "source": [
        "len(chipo.columns)"
      ]
    },
    {
      "cell_type": "markdown",
      "metadata": {
        "id": "ynGD5FKbeG4e"
      },
      "source": [
        "### Step 7. Print the name of all the columns."
      ]
    },
    {
      "cell_type": "code",
      "execution_count": 9,
      "metadata": {
        "colab": {
          "base_uri": "https://localhost:8080/"
        },
        "id": "7UhJhqAweG4f",
        "outputId": "8fc206d7-b0c8-4053-f584-c022b9ad3bdb"
      },
      "outputs": [
        {
          "output_type": "execute_result",
          "data": {
            "text/plain": [
              "Index(['order_id', 'quantity', 'item_name', 'choice_description',\n",
              "       'item_price'],\n",
              "      dtype='object')"
            ]
          },
          "metadata": {},
          "execution_count": 9
        }
      ],
      "source": [
        "chipo.columns"
      ]
    },
    {
      "cell_type": "markdown",
      "metadata": {
        "id": "8oGL_0DZeG4f"
      },
      "source": [
        "### Step 8. How is the dataset indexed?"
      ]
    },
    {
      "cell_type": "code",
      "execution_count": 10,
      "metadata": {
        "colab": {
          "base_uri": "https://localhost:8080/"
        },
        "id": "iznxYRzseG4f",
        "outputId": "66780be9-1b4c-435f-c499-e05f6270ee2d"
      },
      "outputs": [
        {
          "output_type": "execute_result",
          "data": {
            "text/plain": [
              "RangeIndex(start=0, stop=4622, step=1)"
            ]
          },
          "metadata": {},
          "execution_count": 10
        }
      ],
      "source": [
        "chipo.index"
      ]
    },
    {
      "cell_type": "markdown",
      "metadata": {
        "id": "mYQn5YXEeG4f"
      },
      "source": [
        "### Step 9. Which was the most-ordered item?"
      ]
    },
    {
      "cell_type": "code",
      "execution_count": 18,
      "metadata": {
        "colab": {
          "base_uri": "https://localhost:8080/",
          "height": 112
        },
        "id": "L5JwwBfKeG4f",
        "outputId": "f174f499-fee2-4cfa-8485-22ef27792bd5"
      },
      "outputs": [
        {
          "output_type": "execute_result",
          "data": {
            "text/plain": [
              "              order_id  quantity  \\\n",
              "item_name                          \n",
              "Chicken Bowl    713926       761   \n",
              "\n",
              "                                             choice_description  \\\n",
              "item_name                                                         \n",
              "Chicken Bowl  [Tomatillo-Red Chili Salsa (Hot), [Black Beans...   \n",
              "\n",
              "                                                     item_price  \n",
              "item_name                                                        \n",
              "Chicken Bowl  $16.98 $10.98 $11.25 $8.75 $8.49 $11.25 $8.75 ...  "
            ],
            "text/html": [
              "\n",
              "  <div id=\"df-8450a844-9397-403c-97c6-bde3209b53fe\" class=\"colab-df-container\">\n",
              "    <div>\n",
              "<style scoped>\n",
              "    .dataframe tbody tr th:only-of-type {\n",
              "        vertical-align: middle;\n",
              "    }\n",
              "\n",
              "    .dataframe tbody tr th {\n",
              "        vertical-align: top;\n",
              "    }\n",
              "\n",
              "    .dataframe thead th {\n",
              "        text-align: right;\n",
              "    }\n",
              "</style>\n",
              "<table border=\"1\" class=\"dataframe\">\n",
              "  <thead>\n",
              "    <tr style=\"text-align: right;\">\n",
              "      <th></th>\n",
              "      <th>order_id</th>\n",
              "      <th>quantity</th>\n",
              "      <th>choice_description</th>\n",
              "      <th>item_price</th>\n",
              "    </tr>\n",
              "    <tr>\n",
              "      <th>item_name</th>\n",
              "      <th></th>\n",
              "      <th></th>\n",
              "      <th></th>\n",
              "      <th></th>\n",
              "    </tr>\n",
              "  </thead>\n",
              "  <tbody>\n",
              "    <tr>\n",
              "      <th>Chicken Bowl</th>\n",
              "      <td>713926</td>\n",
              "      <td>761</td>\n",
              "      <td>[Tomatillo-Red Chili Salsa (Hot), [Black Beans...</td>\n",
              "      <td>$16.98 $10.98 $11.25 $8.75 $8.49 $11.25 $8.75 ...</td>\n",
              "    </tr>\n",
              "  </tbody>\n",
              "</table>\n",
              "</div>\n",
              "    <div class=\"colab-df-buttons\">\n",
              "\n",
              "  <div class=\"colab-df-container\">\n",
              "    <button class=\"colab-df-convert\" onclick=\"convertToInteractive('df-8450a844-9397-403c-97c6-bde3209b53fe')\"\n",
              "            title=\"Convert this dataframe to an interactive table.\"\n",
              "            style=\"display:none;\">\n",
              "\n",
              "  <svg xmlns=\"http://www.w3.org/2000/svg\" height=\"24px\" viewBox=\"0 -960 960 960\">\n",
              "    <path d=\"M120-120v-720h720v720H120Zm60-500h600v-160H180v160Zm220 220h160v-160H400v160Zm0 220h160v-160H400v160ZM180-400h160v-160H180v160Zm440 0h160v-160H620v160ZM180-180h160v-160H180v160Zm440 0h160v-160H620v160Z\"/>\n",
              "  </svg>\n",
              "    </button>\n",
              "\n",
              "  <style>\n",
              "    .colab-df-container {\n",
              "      display:flex;\n",
              "      gap: 12px;\n",
              "    }\n",
              "\n",
              "    .colab-df-convert {\n",
              "      background-color: #E8F0FE;\n",
              "      border: none;\n",
              "      border-radius: 50%;\n",
              "      cursor: pointer;\n",
              "      display: none;\n",
              "      fill: #1967D2;\n",
              "      height: 32px;\n",
              "      padding: 0 0 0 0;\n",
              "      width: 32px;\n",
              "    }\n",
              "\n",
              "    .colab-df-convert:hover {\n",
              "      background-color: #E2EBFA;\n",
              "      box-shadow: 0px 1px 2px rgba(60, 64, 67, 0.3), 0px 1px 3px 1px rgba(60, 64, 67, 0.15);\n",
              "      fill: #174EA6;\n",
              "    }\n",
              "\n",
              "    .colab-df-buttons div {\n",
              "      margin-bottom: 4px;\n",
              "    }\n",
              "\n",
              "    [theme=dark] .colab-df-convert {\n",
              "      background-color: #3B4455;\n",
              "      fill: #D2E3FC;\n",
              "    }\n",
              "\n",
              "    [theme=dark] .colab-df-convert:hover {\n",
              "      background-color: #434B5C;\n",
              "      box-shadow: 0px 1px 3px 1px rgba(0, 0, 0, 0.15);\n",
              "      filter: drop-shadow(0px 1px 2px rgba(0, 0, 0, 0.3));\n",
              "      fill: #FFFFFF;\n",
              "    }\n",
              "  </style>\n",
              "\n",
              "    <script>\n",
              "      const buttonEl =\n",
              "        document.querySelector('#df-8450a844-9397-403c-97c6-bde3209b53fe button.colab-df-convert');\n",
              "      buttonEl.style.display =\n",
              "        google.colab.kernel.accessAllowed ? 'block' : 'none';\n",
              "\n",
              "      async function convertToInteractive(key) {\n",
              "        const element = document.querySelector('#df-8450a844-9397-403c-97c6-bde3209b53fe');\n",
              "        const dataTable =\n",
              "          await google.colab.kernel.invokeFunction('convertToInteractive',\n",
              "                                                    [key], {});\n",
              "        if (!dataTable) return;\n",
              "\n",
              "        const docLinkHtml = 'Like what you see? Visit the ' +\n",
              "          '<a target=\"_blank\" href=https://colab.research.google.com/notebooks/data_table.ipynb>data table notebook</a>'\n",
              "          + ' to learn more about interactive tables.';\n",
              "        element.innerHTML = '';\n",
              "        dataTable['output_type'] = 'display_data';\n",
              "        await google.colab.output.renderOutput(dataTable, element);\n",
              "        const docLink = document.createElement('div');\n",
              "        docLink.innerHTML = docLinkHtml;\n",
              "        element.appendChild(docLink);\n",
              "      }\n",
              "    </script>\n",
              "  </div>\n",
              "\n",
              "\n",
              "  <div id=\"id_9a0ed9c5-2a33-44ba-9c78-08425ce1e127\">\n",
              "    <style>\n",
              "      .colab-df-generate {\n",
              "        background-color: #E8F0FE;\n",
              "        border: none;\n",
              "        border-radius: 50%;\n",
              "        cursor: pointer;\n",
              "        display: none;\n",
              "        fill: #1967D2;\n",
              "        height: 32px;\n",
              "        padding: 0 0 0 0;\n",
              "        width: 32px;\n",
              "      }\n",
              "\n",
              "      .colab-df-generate:hover {\n",
              "        background-color: #E2EBFA;\n",
              "        box-shadow: 0px 1px 2px rgba(60, 64, 67, 0.3), 0px 1px 3px 1px rgba(60, 64, 67, 0.15);\n",
              "        fill: #174EA6;\n",
              "      }\n",
              "\n",
              "      [theme=dark] .colab-df-generate {\n",
              "        background-color: #3B4455;\n",
              "        fill: #D2E3FC;\n",
              "      }\n",
              "\n",
              "      [theme=dark] .colab-df-generate:hover {\n",
              "        background-color: #434B5C;\n",
              "        box-shadow: 0px 1px 3px 1px rgba(0, 0, 0, 0.15);\n",
              "        filter: drop-shadow(0px 1px 2px rgba(0, 0, 0, 0.3));\n",
              "        fill: #FFFFFF;\n",
              "      }\n",
              "    </style>\n",
              "    <button class=\"colab-df-generate\" onclick=\"generateWithVariable('c')\"\n",
              "            title=\"Generate code using this dataframe.\"\n",
              "            style=\"display:none;\">\n",
              "\n",
              "  <svg xmlns=\"http://www.w3.org/2000/svg\" height=\"24px\"viewBox=\"0 0 24 24\"\n",
              "       width=\"24px\">\n",
              "    <path d=\"M7,19H8.4L18.45,9,17,7.55,7,17.6ZM5,21V16.75L18.45,3.32a2,2,0,0,1,2.83,0l1.4,1.43a1.91,1.91,0,0,1,.58,1.4,1.91,1.91,0,0,1-.58,1.4L9.25,21ZM18.45,9,17,7.55Zm-12,3A5.31,5.31,0,0,0,4.9,8.1,5.31,5.31,0,0,0,1,6.5,5.31,5.31,0,0,0,4.9,4.9,5.31,5.31,0,0,0,6.5,1,5.31,5.31,0,0,0,8.1,4.9,5.31,5.31,0,0,0,12,6.5,5.46,5.46,0,0,0,6.5,12Z\"/>\n",
              "  </svg>\n",
              "    </button>\n",
              "    <script>\n",
              "      (() => {\n",
              "      const buttonEl =\n",
              "        document.querySelector('#id_9a0ed9c5-2a33-44ba-9c78-08425ce1e127 button.colab-df-generate');\n",
              "      buttonEl.style.display =\n",
              "        google.colab.kernel.accessAllowed ? 'block' : 'none';\n",
              "\n",
              "      buttonEl.onclick = () => {\n",
              "        google.colab.notebook.generateWithVariable('c');\n",
              "      }\n",
              "      })();\n",
              "    </script>\n",
              "  </div>\n",
              "\n",
              "    </div>\n",
              "  </div>\n"
            ],
            "application/vnd.google.colaboratory.intrinsic+json": {
              "type": "dataframe",
              "variable_name": "c",
              "summary": "{\n  \"name\": \"c\",\n  \"rows\": 1,\n  \"fields\": [\n    {\n      \"column\": \"item_name\",\n      \"properties\": {\n        \"dtype\": \"string\",\n        \"num_unique_values\": 1,\n        \"samples\": [\n          \"Chicken Bowl\"\n        ],\n        \"semantic_type\": \"\",\n        \"description\": \"\"\n      }\n    },\n    {\n      \"column\": \"order_id\",\n      \"properties\": {\n        \"dtype\": \"number\",\n        \"std\": null,\n        \"min\": 713926,\n        \"max\": 713926,\n        \"num_unique_values\": 1,\n        \"samples\": [\n          713926\n        ],\n        \"semantic_type\": \"\",\n        \"description\": \"\"\n      }\n    },\n    {\n      \"column\": \"quantity\",\n      \"properties\": {\n        \"dtype\": \"number\",\n        \"std\": null,\n        \"min\": 761,\n        \"max\": 761,\n        \"num_unique_values\": 1,\n        \"samples\": [\n          761\n        ],\n        \"semantic_type\": \"\",\n        \"description\": \"\"\n      }\n    },\n    {\n      \"column\": \"choice_description\",\n      \"properties\": {\n        \"dtype\": \"string\",\n        \"num_unique_values\": 1,\n        \"samples\": [\n          \"[Tomatillo-Red Chili Salsa (Hot), [Black Beans, Rice, Cheese, Sour Cream]][Fresh Tomato Salsa (Mild), [Rice, Cheese, Sour Cream, Guacamole, Lettuce]][Fresh Tomato Salsa, [Fajita Vegetables, Rice, Cheese, Sour Cream, Guacamole]][Tomatillo Red Chili Salsa, [Fajita Vegetables, Black Beans, Sour Cream, Cheese, Lettuce]][Roasted Chili Corn Salsa (Medium), [Pinto Beans, Rice, Fajita Veggies, Cheese, Sour Cream, Lettuce]][Roasted Chili Corn Salsa, [Rice, Black Beans, Cheese, Sour Cream, Guacamole, Lettuce]][Fresh Tomato Salsa, [Rice, Black Beans, Pinto Beans, Cheese, Lettuce]][Fresh Tomato Salsa, [Rice, Black Beans, Cheese, Sour Cream, Lettuce]][Tomatillo Red Chili Salsa, [Rice, Fajita Vegetables, Sour Cream, Lettuce]][Tomatillo Red Chili Salsa, [Rice, Black Beans, Cheese, Sour Cream, Lettuce]][Fresh Tomato Salsa, [Guacamole, Cheese, Sour Cream, Fajita Vegetables, Rice]][Fresh Tomato Salsa, [Rice, Fajita Vegetables, Sour Cream, Cheese, Guacamole]][Tomatillo Green Chili Salsa, [Rice, Sour Cream, Cheese, Guacamole]][Fresh Tomato Salsa, [Fajita Vegetables, Rice, Black Beans, Cheese, Guacamole, Lettuce]][Fresh Tomato Salsa, [Fajita Vegetables, Rice, Lettuce]][Fresh Tomato Salsa (Mild), [Black Beans, Rice, Fajita Veggies, Cheese, Sour Cream, Lettuce]][Roasted Chili Corn Salsa (Medium), [Black Beans, Rice, Fajita Veggies, Cheese, Sour Cream, Guacamole, Lettuce]][Fresh Tomato Salsa, [Rice, Black Beans, Sour Cream]][Fresh Tomato Salsa, [Rice, Cheese, Sour Cream]][[Roasted Chili Corn Salsa (Medium), Tomatillo-Red Chili Salsa (Hot)], [Black Beans, Rice, Fajita Veggies, Guacamole, Lettuce]][Fresh Tomato Salsa, [Rice, Cheese, Lettuce]][Roasted Chili Corn Salsa, [Fajita Vegetables, Rice, Black Beans, Cheese, Sour Cream, Guacamole, Lettuce]][Roasted Chili Corn Salsa, [Fajita Vegetables, Rice, Black Beans, Pinto Beans, Cheese, Sour Cream, Guacamole, Lettuce]][Tomatillo Green Chili Salsa, [Rice, Black Beans, Cheese, Sour Cream]][Roasted Chili Corn Salsa, [Rice, Black Beans, Cheese, Sour Cream]][Tomatillo Green Chili Salsa, [Rice, Pinto Beans, Sour Cream, Lettuce]][Fresh Tomato Salsa, [Fajita Vegetables, Rice, Black Beans, Cheese, Sour Cream, Lettuce]][Tomatillo Red Chili Salsa, [Rice, Cheese, Lettuce]][Fresh Tomato Salsa, [Rice, Black Beans, Cheese]][Fresh Tomato Salsa, [Rice, Black Beans, Cheese, Sour Cream]][Fresh Tomato Salsa, [Rice, Cheese, Sour Cream]][Roasted Chili Corn Salsa, [Fajita Vegetables, Rice, Black Beans, Guacamole, Lettuce]][Tomatillo Green Chili Salsa, [Rice, Sour Cream, Guacamole, Lettuce]][Fresh Tomato Salsa (Mild), [Rice, Fajita Veggies, Cheese, Sour Cream, Lettuce]][Fresh Tomato Salsa, [Rice, Black Beans, Cheese, Sour Cream, Guacamole, Lettuce]][Fresh Tomato Salsa, [Rice, Black Beans, Cheese, Sour Cream, Lettuce]][Fresh Tomato Salsa, [Rice, Black Beans, Cheese, Sour Cream]][Fresh Tomato Salsa, [Fajita Vegetables, Rice, Black Beans, Sour Cream]][Tomatillo Red Chili Salsa, [Rice, Cheese]][Tomatillo-Red Chili Salsa (Hot), [Rice, Fajita Veggies, Cheese, Sour Cream, Lettuce]][Fresh Tomato Salsa, [Rice, Cheese, Sour Cream]][Fresh Tomato Salsa, [Rice, Black Beans, Cheese, Sour Cream, Guacamole]][Tomatillo Red Chili Salsa, [Rice, Black Beans, Cheese, Sour Cream, Guacamole, Lettuce]][[Fresh Tomato Salsa (Mild), Tomatillo-Green Chili Salsa (Medium), Roasted Chili Corn Salsa (Medium)], [Black Beans, Rice, Fajita Veggies, Cheese, Guacamole, Lettuce]][Tomatillo Green Chili Salsa, [Sour Cream, Cheese, Guacamole]][Tomatillo Red Chili Salsa][Roasted Chili Corn Salsa, [Rice, Lettuce]][Fresh Tomato Salsa, [Rice, Black Beans, Cheese, Lettuce]][Fresh Tomato Salsa, [Rice, Black Beans, Cheese, Sour Cream, Guacamole, Lettuce]][Fresh Tomato Salsa, [Rice, Black Beans, Cheese]][Fresh Tomato Salsa (Mild), [Black Beans, Rice, Fajita Veggies, Cheese, Sour Cream, Lettuce]][Tomatillo Green Chili Salsa, [Rice, Black Beans, Cheese]][Roasted Chili Corn Salsa, [Rice, Fajita Vegetables, Black Beans, Sour Cream, Cheese, Lettuce]][Fresh Tomato Salsa, [Fajita Vegetables, Rice, Black Beans, Cheese]][Fresh Tomato Salsa, [Rice, Black Beans, Cheese, Sour Cream, Guacamole, Lettuce]][Fresh Tomato Salsa, [Fajita Vegetables, Rice, Black Beans, Cheese]][Fresh Tomato Salsa, [Rice, Black Beans, Cheese, Sour Cream, Lettuce]][Fresh Tomato Salsa, [Fajita Vegetables, Rice, Cheese, Sour Cream, Guacamole]][Roasted Chili Corn Salsa, [Fajita Vegetables, Rice, Black Beans, Guacamole]][Tomatillo-Red Chili Salsa (Hot), Rice][Fresh Tomato Salsa, [Rice, Black Beans, Sour Cream, Cheese]][Fresh Tomato Salsa, [Rice, Cheese, Lettuce]][Tomatillo Green Chili Salsa, [Rice, Black Beans, Cheese]][Roasted Chili Corn Salsa, [Rice, Pinto Beans, Lettuce, Guacamole]][Roasted Chili Corn Salsa (Medium), [Black Beans, Fajita Veggies, Cheese, Guacamole, Lettuce]][Fresh Tomato Salsa, [Rice, Cheese, Lettuce]][Roasted Chili Corn Salsa, [Rice, Black Beans, Cheese, Sour Cream, Guacamole, Lettuce]][Fresh Tomato Salsa (Mild), [Rice, Cheese, Sour Cream, Lettuce]][Fresh Tomato Salsa, [Rice, Pinto Beans, Sour Cream, Cheese, Lettuce]][Tomatillo Green Chili Salsa, [Rice, Black Beans, Sour Cream, Lettuce]][Roasted Chili Corn Salsa, [Rice, Cheese, Lettuce]][Fresh Tomato Salsa, [Rice, Pinto Beans, Cheese, Sour Cream, Lettuce]][Tomatillo-Red Chili Salsa (Hot), [Black Beans, Rice, Fajita Veggies, Cheese, Lettuce]][Fresh Tomato Salsa, [Fajita Vegetables, Rice, Lettuce]][Tomatillo-Red Chili Salsa (Hot), [Black Beans, Rice, Cheese, Sour Cream, Lettuce]][Fresh Tomato Salsa, [Rice, Black Beans, Cheese, Sour Cream, Guacamole, Lettuce]][Fresh Tomato Salsa, [Fajita Vegetables, Rice, Cheese, Sour Cream, Guacamole]][Tomatillo Green Chili Salsa, [Rice, Sour Cream, Cheese, Guacamole]][Tomatillo Green Chili Salsa, [Fajita Vegetables, Rice, Black Beans, Cheese, Sour Cream, Guacamole, Lettuce]][Roasted Chili Corn Salsa, [Rice, Black Beans, Cheese, Sour Cream, Lettuce]][Fresh Tomato Salsa, [Rice, Black Beans, Sour Cream, Cheese]][Roasted Chili Corn Salsa, [Fajita Vegetables, Rice, Black Beans, Cheese, Sour Cream, Guacamole, Lettuce]][Tomatillo-Green Chili Salsa (Medium), Black Beans][Tomatillo-Green Chili Salsa (Medium), Black Beans][Fresh Tomato Salsa, [Rice, Black Beans, Cheese, Sour Cream, Lettuce]][Roasted Chili Corn Salsa, [Fajita Vegetables, Rice, Black Beans, Cheese, Lettuce]][Tomatillo Red Chili Salsa, [Fajita Vegetables, Rice, Black Beans, Cheese, Sour Cream, Lettuce]][[Fresh Tomato Salsa (Mild), Roasted Chili Corn Salsa (Medium)], [Rice, Sour Cream, Guacamole, Lettuce]][Tomatillo Red Chili Salsa, [Rice, Fajita Vegetables, Black Beans, Sour Cream, Cheese]][Tomatillo Red Chili Salsa, [Rice, Cheese, Sour Cream, Lettuce]][[Roasted Chili Corn Salsa (Medium), Fresh Tomato Salsa (Mild)], [Rice, Black Beans, Fajita Veggies, Cheese, Sour Cream, Guacamole]][Tomatillo Red Chili Salsa, [Rice, Black Beans, Cheese, Sour Cream, Lettuce]][Fresh Tomato Salsa, [Rice, Guacamole]][Fresh Tomato Salsa, [Rice, Black Beans, Cheese, Sour Cream, Guacamole]][Tomatillo Green Chili Salsa, [Rice, Pinto Beans, Sour Cream, Lettuce]][Tomatillo Red Chili Salsa, [Rice, Sour Cream, Cheese, Guacamole]][Roasted Chili Corn Salsa, [Fajita Vegetables, Pinto Beans, Sour Cream, Guacamole]][Tomatillo Green Chili Salsa, [Rice, Cheese, Sour Cream, Lettuce]][Tomatillo-Red Chili Salsa (Hot), [Pinto Beans, Rice, Fajita Veggies, Cheese, Sour Cream, Lettuce]][Fresh Tomato Salsa (Mild), [Rice, Fajita Veggies, Sour Cream, Guacamole]][Fresh Tomato Salsa, [Rice, Cheese, Sour Cream]][Roasted Chili Corn Salsa, [Fajita Vegetables, Rice, Cheese, Sour Cream, Guacamole, Lettuce]][Roasted Chili Corn Salsa, [Rice, Cheese, Sour Cream, Lettuce]][Tomatillo Green Chili Salsa, [Rice, Cheese, Sour Cream, Lettuce]][Fresh Tomato Salsa, [Rice, Black Beans, Cheese, Sour Cream]][Fresh Tomato Salsa, [Fajita Vegetables, Rice, Cheese, Sour Cream, Lettuce]][Fresh Tomato Salsa (Mild), [Pinto Beans, Rice, Cheese, Sour Cream, Lettuce]][Tomatillo-Red Chili Salsa (Hot), [Rice, Fajita Veggies, Cheese, Sour Cream, Lettuce]][Fresh Tomato Salsa, [Fajita Vegetables, Rice, Black Beans, Sour Cream]][Roasted Chili Corn Salsa, [Fajita Vegetables, Rice, Black Beans, Cheese, Sour Cream]][Tomatillo Red Chili Salsa, [Rice, Black Beans, Cheese, Lettuce, Guacamole]][Fresh Tomato Salsa, [Fajita Vegetables, Rice, Lettuce]][Fresh Tomato Salsa, [Rice, Black Beans, Cheese, Lettuce]][Fresh Tomato Salsa, [Fajita Vegetables, Rice, Black Beans, Cheese, Sour Cream, Lettuce]][Tomatillo Green Chili Salsa, [Fajita Vegetables, Rice, Black Beans, Cheese, Sour Cream, Lettuce]][Tomatillo Green Chili Salsa, [Rice, Sour Cream, Cheese, Guacamole]][Fresh Tomato Salsa, [Rice, Fajita Vegetables, Pinto Beans, Sour Cream, Cheese, Lettuce, Guacamole]][[Fresh Tomato Salsa (Mild), Tomatillo-Red Chili Salsa (Hot)], [Black Beans, Rice, Cheese, Sour Cream]][Roasted Chili Corn Salsa (Medium), [Black Beans, Rice, Sour Cream, Guacamole]][Roasted Chili Corn Salsa (Medium), [Rice, Cheese]][Roasted Chili Corn Salsa (Medium), [Black Beans, Rice, Cheese, Sour Cream, Lettuce]][Fresh Tomato Salsa, [Rice, Sour Cream, Cheese, Lettuce]][Fresh Tomato Salsa][Fresh Tomato Salsa, [Rice, Cheese, Black Beans]][Fresh Tomato Salsa, [Rice, Cheese, Sour Cream, Lettuce]][Fresh Tomato Salsa, [Rice, Cheese, Sour Cream, Lettuce]][Fresh Tomato Salsa, [Fajita Vegetables, Rice]][[Fresh Tomato Salsa (Mild), Tomatillo-Red Chili Salsa (Hot)], [Black Beans, Rice, Cheese, Sour Cream]][Fresh Tomato Salsa, [Fajita Vegetables, Rice]][[Tomatillo-Green Chili Salsa (Medium), Roasted Chili Corn Salsa (Medium)], [Black Beans, Rice, Cheese, Sour Cream, Lettuce]][Fresh Tomato Salsa, [Fajita Vegetables, Rice, Black Beans, Cheese, Guacamole, Lettuce]][Tomatillo Green Chili Salsa, [Fajita Vegetables, Rice, Cheese, Lettuce]][Fresh Tomato Salsa, [Rice, Fajita Vegetables]][Tomatillo Red Chili Salsa, [Fajita Vegetables, Rice, Black Beans, Cheese, Sour Cream, Guacamole, Lettuce]][Fresh Tomato Salsa, [Fajita Vegetables, Rice, Lettuce]][Fresh Tomato Salsa, [Rice, Black Beans, Cheese]][Fresh Tomato Salsa, [Rice, Cheese, Sour Cream, Lettuce]][Tomatillo Red Chili Salsa, [Rice, Black Beans, Cheese, Sour Cream, Lettuce]][Roasted Chili Corn Salsa, [Rice, Pinto Beans, Cheese, Sour Cream, Guacamole, Lettuce]][Roasted Chili Corn Salsa, [Rice, Cheese, Lettuce]][Fresh Tomato Salsa, [Fajita Vegetables, Rice]][Roasted Chili Corn Salsa, [Fajita Vegetables, Rice, Pinto Beans, Cheese, Sour Cream, Lettuce]][[Roasted Chili Corn Salsa (Medium), Tomatillo-Red Chili Salsa (Hot)], [Pinto Beans, Rice, Fajita Veggies]][Roasted Chili Corn Salsa, [Fajita Vegetables, Rice, Black Beans, Cheese]][Fresh Tomato Salsa, [Fajita Vegetables, Rice, Black Beans, Cheese, Guacamole, Lettuce]][Roasted Chili Corn Salsa, [Rice, Black Beans, Cheese, Guacamole]][Fresh Tomato Salsa, [Rice, Black Beans, Cheese, Sour Cream, Lettuce]][Roasted Chili Corn Salsa, [Rice, Black Beans, Cheese, Sour Cream, Guacamole]][Fresh Tomato Salsa, [Rice, Black Beans, Cheese, Guacamole]][[Fresh Tomato Salsa (Mild), Tomatillo-Red Chili Salsa (Hot)], [Black Beans, Rice, Cheese, Sour Cream, Guacamole]][Tomatillo-Red Chili Salsa (Hot), [Pinto Beans, Rice, Cheese, Sour Cream, Guacamole]][Roasted Chili Corn Salsa, [Rice, Black Beans, Sour Cream, Guacamole]][Tomatillo Green Chili Salsa, [Rice, Cheese, Guacamole, Lettuce]][Fresh Tomato Salsa, [Fajita Vegetables, Rice]][Fresh Tomato Salsa, [Rice, Black Beans]][Fresh Tomato Salsa, [Fajita Vegetables, Rice]][Fresh Tomato Salsa, [Fajita Vegetables, Rice, Cheese, Sour Cream, Guacamole, Lettuce]][Fresh Tomato Salsa (Mild), [Rice, Black Beans, Fajita Veggies, Cheese, Guacamole, Lettuce]][Roasted Chili Corn Salsa, [Rice, Black Beans, Cheese, Sour Cream, Lettuce]][Roasted Chili Corn Salsa, [Fajita Vegetables, Black Beans, Guacamole]][Tomatillo Green Chili Salsa, [Rice, Pinto Beans, Sour Cream, Lettuce]][[Fresh Tomato Salsa (Mild), Tomatillo-Red Chili Salsa (Hot)], [Black Beans, Rice, Cheese, Sour Cream]][Fresh Tomato Salsa (Mild), [Black Beans, Rice, Cheese]][Tomatillo Red Chili Salsa, [Black Beans, Cheese, Sour Cream]][Fresh Tomato Salsa, [Rice, Cheese, Sour Cream, Lettuce]][Fresh Tomato Salsa, [Rice, Fajita Vegetables]][Tomatillo Red Chili Salsa, [Rice, Cheese, Lettuce]][Tomatillo Green Chili Salsa, [Rice, Black Beans, Pinto Beans, Guacamole, Lettuce]][Roasted Chili Corn Salsa, [Rice, Black Beans, Sour Cream]][Tomatillo Red Chili Salsa, [Fajita Vegetables, Rice, Black Beans, Cheese, Sour Cream]][Tomatillo-Green Chili Salsa (Medium), [Fajita Veggies, Cheese, Guacamole, Lettuce]][Roasted Chili Corn Salsa, [Rice, Black Beans, Cheese, Lettuce, Guacamole]][Roasted Chili Corn Salsa (Medium), [Rice, Cheese]][Fresh Tomato Salsa, [Rice, Lettuce]][Roasted Chili Corn Salsa, [Rice, Black Beans, Cheese]][Tomatillo Red Chili Salsa, [Fajita Vegetables, Rice, Cheese, Guacamole]][Fresh Tomato Salsa, [Rice, Sour Cream, Guacamole]][[Fresh Tomato Salsa (Mild), Roasted Chili Corn Salsa (Medium)], [Rice, Fajita Veggies]][Roasted Chili Corn Salsa, [Fajita Vegetables, Rice, Sour Cream, Lettuce]][Fresh Tomato Salsa, [Fajita Vegetables, Rice, Black Beans, Pinto Beans, Cheese, Sour Cream, Guacamole]][[Roasted Chili Corn Salsa (Medium), Tomatillo-Red Chili Salsa (Hot)], [Pinto Beans, Rice, Fajita Veggies, Cheese, Lettuce]][Fresh Tomato Salsa (Mild), [Black Beans, Rice, Sour Cream, Guacamole]][Fresh Tomato Salsa, [Fajita Vegetables, Rice]][Fresh Tomato Salsa, [Rice, Black Beans, Cheese, Sour Cream, Guacamole, Lettuce]][Fresh Tomato Salsa, [Rice, Black Beans, Cheese, Sour Cream, Lettuce]][Fresh Tomato Salsa, [Fajita Vegetables, Pinto Beans, Guacamole, Lettuce]][Fresh Tomato Salsa, [Rice, Cheese, Sour Cream, Lettuce]][Tomatillo Red Chili Salsa, [Fajita Vegetables, Rice, Black Beans, Cheese, Sour Cream]][Fresh Tomato Salsa, [Rice, Black Beans, Cheese]][Fresh Tomato Salsa, [Rice, Black Beans, Cheese, Sour Cream, Lettuce]][Fresh Tomato Salsa, [Sour Cream, Lettuce, Rice, Cheese]][Roasted Chili Corn Salsa, [Rice, Fajita Vegetables, Black Beans, Sour Cream, Cheese, Lettuce]][Roasted Chili Corn Salsa, [Fajita Vegetables, Rice, Black Beans, Pinto Beans, Cheese, Guacamole, Lettuce]][Tomatillo Green Chili Salsa, [Rice, Sour Cream, Cheese, Guacamole]][Fresh Tomato Salsa (Mild), [Black Beans, Rice, Fajita Veggies, Cheese, Sour Cream, Lettuce]][[Fresh Tomato Salsa (Mild), Roasted Chili Corn Salsa (Medium), Tomatillo-Red Chili Salsa (Hot)], [Black Beans, Rice, Fajita Veggies, Cheese, Sour Cream, Lettuce]][Fresh Tomato Salsa (Mild), [Black Beans, Rice, Cheese, Sour Cream, Lettuce]][Fresh Tomato Salsa, [Rice, Cheese, Lettuce]][Fresh Tomato Salsa, [Rice, Cheese, Sour Cream, Lettuce]][Fresh Tomato Salsa, [Fajita Vegetables, Rice, Cheese, Guacamole]][Fresh Tomato Salsa, [Rice, Guacamole, Lettuce]][Roasted Chili Corn Salsa, [Fajita Vegetables, Lettuce, Black Beans]][Roasted Chili Corn Salsa, [Fajita Vegetables, Cheese, Lettuce]][Roasted Chili Corn Salsa, [Rice, Fajita Vegetables, Cheese, Lettuce]][Fresh Tomato Salsa, [Fajita Vegetables, Rice]][Fresh Tomato Salsa, [Fajita Vegetables, Rice, Sour Cream, Lettuce]][Fresh Tomato Salsa, [Fajita Vegetables, Rice, Cheese, Sour Cream, Guacamole, Lettuce]][Fresh Tomato Salsa, [Rice, Fajita Vegetables, Cheese, Lettuce, Guacamole]][Tomatillo Green Chili Salsa, [Rice, Pinto Beans, Sour Cream, Lettuce]][Tomatillo Green Chili Salsa, [Rice, Cheese, Sour Cream, Lettuce]][Fresh Tomato Salsa, [Rice, Cheese, Sour Cream, Guacamole, Lettuce]][Tomatillo Green Chili Salsa, [Fajita Vegetables, Rice, Black Beans]][Tomatillo-Red Chili Salsa (Hot), [Rice, Cheese, Sour Cream, Lettuce]][Tomatillo-Red Chili Salsa (Hot), [Rice, Fajita Veggies, Sour Cream, Lettuce]][Fresh Tomato Salsa, [Rice, Fajita Vegetables, Sour Cream, Cheese, Guacamole]][Tomatillo Red Chili Salsa, [Rice, Black Beans, Cheese, Sour Cream, Lettuce]][[Fresh Tomato Salsa (Mild), Tomatillo-Red Chili Salsa (Hot)], [Black Beans, Rice, Cheese, Sour Cream]][Tomatillo-Red Chili Salsa (Hot), [Black Beans, Rice, Cheese, Lettuce]][Roasted Chili Corn Salsa (Medium), [Rice, Cheese, Lettuce]][Tomatillo-Red Chili Salsa (Hot), [Black Beans, Rice, Cheese, Lettuce]][Tomatillo Red Chili Salsa, [Rice, Pinto Beans, Cheese, Lettuce]][Fresh Tomato Salsa, [Rice, Cheese, Sour Cream, Guacamole]][Roasted Chili Corn Salsa, [Rice, Cheese, Sour Cream, Guacamole]][Fresh Tomato Salsa, [Fajita Vegetables, Rice]][[Fresh Tomato Salsa (Mild), Roasted Chili Corn Salsa (Medium)], [Rice, Fajita Veggies]][Tomatillo Red Chili Salsa, [Rice, Black Beans, Cheese, Sour Cream, Guacamole, Lettuce]][[Fresh Tomato Salsa (Mild), Roasted Chili Corn Salsa (Medium), Tomatillo-Red Chili Salsa (Hot)], [Black Beans, Rice, Cheese, Sour Cream]][Tomatillo-Red Chili Salsa (Hot), [Pinto Beans, Rice, Fajita Veggies, Cheese, Sour Cream]][Fresh Tomato Salsa, [Rice, Black Beans, Cheese, Sour Cream, Guacamole]][Roasted Chili Corn Salsa, [Fajita Vegetables, Rice, Pinto Beans, Cheese, Guacamole, Lettuce]][Fresh Tomato Salsa (Mild), [Pinto Beans, Rice, Fajita Veggies, Cheese, Sour Cream, Guacamole, Lettuce]][Fresh Tomato Salsa, [Sour Cream, Cheese]][Fresh Tomato Salsa, [Rice, Cheese, Lettuce]][Tomatillo-Green Chili Salsa (Medium), [Pinto Beans, Rice, Fajita Veggies, Lettuce]][Fresh Tomato Salsa, [Rice, Black Beans, Cheese]][Roasted Chili Corn Salsa (Medium), [Rice, Fajita Veggies, Cheese]][Fresh Tomato Salsa (Mild), [Black Beans, Rice, Fajita Veggies, Cheese]][[Roasted Chili Corn Salsa (Medium), Tomatillo-Red Chili Salsa (Hot)], [Pinto Beans, Rice, Fajita Veggies, Cheese]][Roasted Chili Corn Salsa, [Rice, Black Beans, Cheese]][Tomatillo-Red Chili Salsa (Hot), [Rice, Cheese, Sour Cream, Lettuce]][[Fresh Tomato Salsa (Mild), Roasted Chili Corn Salsa (Medium)], [Black Beans, Rice, Fajita Veggies, Cheese, Sour Cream, Guacamole, Lettuce]][Roasted Chili Corn Salsa, [Rice, Black Beans, Cheese, Sour Cream, Lettuce]][Fresh Tomato Salsa, [Rice, Fajita Vegetables, Sour Cream, Cheese, Guacamole]][[Fresh Tomato Salsa (Mild), Tomatillo-Red Chili Salsa (Hot)], [Black Beans, Rice, Cheese, Sour Cream]][Tomatillo Red Chili Salsa, [Rice, Black Beans, Cheese, Sour Cream, Lettuce]][[Tomatillo-Green Chili Salsa (Medium), Roasted Chili Corn Salsa (Medium)], [Black Beans, Rice, Fajita Veggies, Cheese, Sour Cream, Lettuce]][Tomatillo Red Chili Salsa, [Rice, Black Beans, Cheese, Lettuce, Guacamole]][[Fresh Tomato Salsa (Mild), Tomatillo-Red Chili Salsa (Hot)], [Black Beans, Rice, Cheese, Sour Cream]][Tomatillo Green Chili Salsa, [Rice, Cheese, Lettuce]][Fresh Tomato Salsa, [Fajita Vegetables, Rice]][Tomatillo-Red Chili Salsa (Hot), [Sour Cream, Cheese, Fajita Veggies, Guacamole, Rice, Pinto Beans]][[Roasted Chili Corn Salsa (Medium), Tomatillo-Red Chili Salsa (Hot), Fresh Tomato Salsa (Mild), Tomatillo-Green Chili Salsa (Medium)], [Rice, Black Beans, Fajita Veggies, Cheese, Sour Cream]][Tomatillo Green Chili Salsa, [Rice, Black Beans, Sour Cream, Cheese]][Roasted Chili Corn Salsa, [Rice, Cheese, Sour Cream, Lettuce]][Fresh Tomato Salsa, [Fajita Vegetables, Rice]][Tomatillo-Red Chili Salsa (Hot), [Black Beans, Rice, Cheese, Lettuce]][Roasted Chili Corn Salsa (Medium), [Rice, Cheese, Lettuce]][Fresh Tomato Salsa, [Rice, Black Beans, Pinto Beans, Guacamole, Lettuce]][Tomatillo Green Chili Salsa, [Rice, Black Beans, Cheese, Sour Cream, Lettuce]][Fresh Tomato Salsa, [Fajita Vegetables, Rice, Guacamole, Lettuce]][Fresh Tomato Salsa, [Rice, Fajita Vegetables]][Fresh Tomato Salsa, [Rice, Black Beans, Cheese]][[Fresh Tomato Salsa (Mild), Tomatillo-Red Chili Salsa (Hot)], [Black Beans, Rice, Cheese, Sour Cream]][Roasted Chili Corn Salsa, [Rice, Black Beans, Cheese, Lettuce]][Tomatillo Red Chili Salsa, [Rice, Black Beans, Sour Cream, Cheese, Lettuce]][Tomatillo Green Chili Salsa, [Rice, Black Beans, Sour Cream, Cheese]][[Fresh Tomato Salsa (Mild), Roasted Chili Corn Salsa (Medium), Tomatillo-Red Chili Salsa (Hot)], [Pinto Beans, Rice, Fajita Veggies, Cheese, Sour Cream, Lettuce]][Fresh Tomato Salsa (Mild), [Rice, Black Beans, Fajita Veggies, Cheese, Guacamole, Lettuce]][Fresh Tomato Salsa, [Rice, Black Beans, Cheese, Sour Cream]][Tomatillo Green Chili Salsa, [Rice, Cheese, Guacamole]][Tomatillo-Green Chili Salsa (Medium), [Black Beans, Rice, Cheese, Sour Cream]][Fresh Tomato Salsa (Mild), [Pinto Beans, Rice, Sour Cream, Guacamole]][Fresh Tomato Salsa (Mild), [Black Beans, Rice, Cheese, Sour Cream, Guacamole, Lettuce]][Tomatillo Red Chili Salsa, [Rice, Black Beans, Sour Cream, Cheese, Lettuce]][Fresh Tomato Salsa (Mild), [Rice, Pinto Beans, Cheese, Guacamole, Lettuce]][Fresh Tomato Salsa, [Rice, Black Beans, Cheese, Guacamole, Lettuce]][Tomatillo Green Chili Salsa, [Rice, Black Beans, Cheese, Guacamole]][Tomatillo Red Chili Salsa, [Fajita Vegetables, Rice, Black Beans, Cheese, Guacamole, Lettuce]][Fresh Tomato Salsa, [Fajita Vegetables, Rice, Pinto Beans, Cheese, Guacamole, Lettuce]][Tomatillo Red Chili Salsa, [Rice, Pinto Beans, Guacamole, Lettuce]][Fresh Tomato Salsa, [Rice, Black Beans, Cheese]][Fresh Tomato Salsa, [Fajita Vegetables, Rice, Sour Cream, Lettuce]][Fresh Tomato Salsa (Mild), [Rice, Black Beans, Fajita Veggies, Cheese, Sour Cream, Lettuce]][Tomatillo Green Chili Salsa, [Rice, Sour Cream, Guacamole]][Tomatillo Red Chili Salsa, [Rice, Black Beans, Sour Cream, Cheese, Lettuce]][Fresh Tomato Salsa, [Rice, Black Beans, Cheese, Guacamole, Lettuce]][Roasted Chili Corn Salsa, [Fajita Vegetables, Rice, Pinto Beans, Cheese, Sour Cream, Guacamole, Lettuce]][Roasted Chili Corn Salsa, [Rice, Pinto Beans, Cheese, Sour Cream, Guacamole, Lettuce]][Roasted Chili Corn Salsa, [Rice, Black Beans, Cheese, Sour Cream, Lettuce]][[Fresh Tomato Salsa (Mild), Tomatillo-Red Chili Salsa (Hot)], [Black Beans, Rice, Cheese, Sour Cream, Guacamole]][[Fresh Tomato Salsa (Mild), Roasted Chili Corn Salsa (Medium)], [Black Beans, Guacamole]][Fresh Tomato Salsa, [Rice, Black Beans, Lettuce]][[Fresh Tomato Salsa (Mild), Roasted Chili Corn Salsa (Medium)], [Rice, Fajita Veggies]][Fresh Tomato Salsa, [Sour Cream, Guacamole, Lettuce]][Fresh Tomato Salsa, Cheese][Tomatillo-Red Chili Salsa (Hot), [Pinto Beans, Cheese, Sour Cream, Rice, Fajita Veggies, Guacamole]][Fresh Tomato Salsa, [Fajita Vegetables, Rice]][Tomatillo Red Chili Salsa, [Rice, Black Beans]][Fresh Tomato Salsa, [Black Beans, Cheese, Sour Cream]][Tomatillo Green Chili Salsa, [Fajita Vegetables, Rice, Cheese, Guacamole, Lettuce]][Fresh Tomato Salsa, [Fajita Vegetables, Rice]][[Fresh Tomato Salsa (Mild), Tomatillo-Red Chili Salsa (Hot)], [Guacamole, Rice, Black Beans, Cheese, Sour Cream]][Roasted Chili Corn Salsa (Medium), [Black Beans, Rice, Cheese, Sour Cream, Lettuce]][Fresh Tomato Salsa, [Fajita Vegetables, Rice, Guacamole, Lettuce]][Fresh Tomato Salsa, [Rice, Black Beans, Cheese]][[Fresh Tomato Salsa (Mild), Roasted Chili Corn Salsa (Medium)], [Black Beans, Cheese, Guacamole]][Fresh Tomato Salsa, [Rice, Black Beans, Lettuce]][Fresh Tomato Salsa, [Rice, Pinto Beans, Sour Cream, Cheese, Lettuce]][Fresh Tomato Salsa, [Rice, Cheese, Lettuce]][Fresh Tomato Salsa, [Fajita Vegetables, Rice, Black Beans, Cheese, Guacamole]][Tomatillo Red Chili Salsa, [Rice, Black Beans, Cheese, Sour Cream]][Fresh Tomato Salsa, [Rice, Black Beans, Sour Cream, Cheese, Guacamole]][Roasted Chili Corn Salsa, [Fajita Vegetables, Rice, Black Beans, Lettuce]][Roasted Chili Corn Salsa, [Fajita Vegetables, Black Beans, Pinto Beans, Cheese, Lettuce]][Tomatillo Red Chili Salsa, [Rice, Black Beans, Sour Cream, Cheese, Lettuce]][Tomatillo Red Chili Salsa, [Rice, Cheese, Sour Cream, Lettuce]][Roasted Chili Corn Salsa, [Rice, Black Beans, Guacamole]][Fresh Tomato Salsa, [Fajita Vegetables, Rice]][Fresh Tomato Salsa, [Rice, Black Beans, Cheese, Sour Cream, Guacamole]][Tomatillo Green Chili Salsa, [Rice, Pinto Beans, Sour Cream, Lettuce]][Fresh Tomato Salsa][Fresh Tomato Salsa, [Fajita Vegetables, Rice, Lettuce]][Roasted Chili Corn Salsa, [Rice, Black Beans, Cheese, Sour Cream, Lettuce]][Fresh Tomato Salsa, [Fajita Vegetables, Rice, Lettuce]][Fresh Tomato Salsa, [Rice, Pinto Beans, Cheese, Sour Cream, Lettuce]][Roasted Chili Corn Salsa, [Cheese, Lettuce, Fajita Vegetables, Rice]][Roasted Chili Corn Salsa, [Fajita Vegetables, Rice, Cheese, Sour Cream, Lettuce]][Roasted Chili Corn Salsa, [Fajita Vegetables, Rice, Cheese, Sour Cream]][Roasted Chili Corn Salsa, [Fajita Vegetables, Rice, Cheese, Sour Cream, Lettuce]][Fresh Tomato Salsa, [Rice, Black Beans, Cheese, Sour Cream, Lettuce]][Fresh Tomato Salsa, [Rice, Lettuce]][Fresh Tomato Salsa, [Rice, Cheese, Sour Cream, Lettuce]][Roasted Chili Corn Salsa, [Fajita Vegetables, Rice, Cheese, Sour Cream, Lettuce]][Roasted Chili Corn Salsa, [Rice, Pinto Beans, Cheese, Sour Cream, Lettuce]][Roasted Chili Corn Salsa, [Rice, Cheese]][Fresh Tomato Salsa, [Rice, Black Beans, Cheese, Sour Cream, Lettuce]][Fresh Tomato Salsa, [Rice, Black Beans, Sour Cream, Guacamole, Lettuce]][Fresh Tomato Salsa, [Rice, Black Beans, Cheese, Sour Cream, Guacamole]][Fresh Tomato Salsa, [Rice, Cheese, Lettuce]][[Fresh Tomato Salsa (Mild), Roasted Chili Corn Salsa (Medium)], [Rice, Fajita Veggies]][Fresh Tomato Salsa, [Rice, Pinto Beans, Cheese, Sour Cream, Lettuce]][Fresh Tomato Salsa, [Fajita Vegetables, Rice, Black Beans, Cheese, Guacamole, Lettuce]][Fresh Tomato Salsa, [Rice, Fajita Vegetables]][Roasted Chili Corn Salsa (Medium), [Black Beans, Rice, Cheese, Guacamole, Lettuce]][Fresh Tomato Salsa, [Rice, Black Beans, Cheese, Sour Cream]][Tomatillo Green Chili Salsa, [Rice, Cheese, Sour Cream, Guacamole]][Tomatillo Green Chili Salsa, [Fajita Vegetables, Rice, Pinto Beans, Cheese, Sour Cream, Lettuce]][Fresh Tomato Salsa (Mild), [Black Beans, Rice, Fajita Veggies, Cheese, Sour Cream, Lettuce]][Fresh Tomato Salsa, [Rice, Black Beans, Cheese, Lettuce]][Fresh Tomato Salsa, [Fajita Vegetables, Rice, Black Beans, Pinto Beans, Cheese, Sour Cream, Guacamole, Lettuce]][Fresh Tomato Salsa, [Rice, Cheese, Sour Cream, Lettuce]][Fresh Tomato Salsa, [Rice, Black Beans, Cheese, Sour Cream, Lettuce]][Roasted Chili Corn Salsa, [Rice, Black Beans, Cheese, Sour Cream, Lettuce]][Tomatillo-Red Chili Salsa (Hot), [Black Beans, Rice, Cheese, Lettuce]][Fresh Tomato Salsa, [Rice, Black Beans, Cheese, Sour Cream, Guacamole, Lettuce]][Fresh Tomato Salsa, [Rice, Black Beans, Cheese, Sour Cream, Guacamole]][[Fresh Tomato Salsa (Mild), Roasted Chili Corn Salsa (Medium)], [Black Beans, Rice, Fajita Veggies, Lettuce]][Fresh Tomato Salsa, [Rice, Pinto Beans, Cheese]][Tomatillo Red Chili Salsa, [Rice, Black Beans, Sour Cream, Cheese, Lettuce]][Tomatillo Red Chili Salsa, [Rice, Black Beans, Sour Cream, Cheese, Lettuce]][Tomatillo Green Chili Salsa, [Rice, Cheese, Sour Cream, Lettuce]][Tomatillo Red Chili Salsa, [Rice, Black Beans, Sour Cream, Guacamole, Lettuce]][Tomatillo Green Chili Salsa, [Rice, Black Beans, Sour Cream, Lettuce]][Roasted Chili Corn Salsa, [Rice, Black Beans, Cheese, Guacamole]][[Fresh Tomato Salsa (Mild), Roasted Chili Corn Salsa (Medium)], [Rice, Cheese, Sour Cream, Guacamole, Lettuce]][Roasted Chili Corn Salsa (Medium), [Pinto Beans, Rice, Cheese, Sour Cream, Lettuce]][Roasted Chili Corn Salsa, [Fajita Vegetables, Rice, Pinto Beans, Cheese, Sour Cream, Lettuce]][Fresh Tomato Salsa, [Fajita Vegetables, Rice, Pinto Beans, Cheese, Sour Cream, Lettuce]][Tomatillo-Red Chili Salsa (Hot), [Black Beans, Cheese, Lettuce]][Fresh Tomato Salsa, [Guacamole, Cheese, Sour Cream, Fajita Vegetables, Rice]][Fresh Tomato Salsa, Cheese][Fresh Tomato Salsa, [Rice, Black Beans, Guacamole, Lettuce]][Roasted Chili Corn Salsa, [Rice, Black Beans, Cheese, Guacamole]][Tomatillo-Red Chili Salsa (Hot), [Rice, Cheese, Sour Cream, Lettuce]][Fresh Tomato Salsa, [Black Beans, Cheese, Guacamole, Lettuce]][Tomatillo-Red Chili Salsa (Hot), [Rice, Fajita Veggies, Pinto Beans, Sour Cream, Cheese, Guacamole]][Fresh Tomato Salsa, [Fajita Vegetables, Rice, Black Beans, Cheese, Sour Cream, Lettuce]][Fresh Tomato Salsa, [Fajita Vegetables, Rice]][Tomatillo-Red Chili Salsa (Hot), [Black Beans, Rice, Cheese, Lettuce]][Tomatillo-Red Chili Salsa (Hot), [Rice, Black Beans, Cheese, Lettuce]][Tomatillo Red Chili Salsa, [Fajita Vegetables, Rice, Black Beans, Cheese, Sour Cream, Guacamole, Lettuce]][Fresh Tomato Salsa, [Fajita Vegetables, Rice, Black Beans, Cheese, Sour Cream, Guacamole, Lettuce]][Fresh Tomato Salsa, [Fajita Vegetables, Rice, Sour Cream, Guacamole]][Fresh Tomato Salsa, [Rice, Black Beans, Cheese]][Tomatillo Red Chili Salsa, [Rice, Fajita Vegetables, Black Beans, Cheese, Lettuce, Guacamole]][[Roasted Chili Corn Salsa (Medium), Fresh Tomato Salsa (Mild)], [Rice, Fajita Veggies]][[Tomatillo-Green Chili Salsa (Medium), Roasted Chili Corn Salsa (Medium)], [Black Beans, Rice, Fajita Veggies, Cheese, Sour Cream, Guacamole]][Fresh Tomato Salsa, [Rice, Cheese, Sour Cream, Lettuce]][Fresh Tomato Salsa, [Rice, Black Beans, Cheese, Sour Cream]][Tomatillo Red Chili Salsa, Fajita Vegetables][Fresh Tomato Salsa, [Fajita Vegetables, Rice, Guacamole, Lettuce]][Fresh Tomato Salsa, [Sour Cream, Fajita Vegetables, Rice, Guacamole, Cheese]][Fresh Tomato Salsa, [Fajita Vegetables, Rice, Black Beans, Cheese, Sour Cream, Guacamole, Lettuce]][Fresh Tomato Salsa (Mild), [Black Beans, Rice, Fajita Veggies, Cheese, Sour Cream, Guacamole, Lettuce]][Fresh Tomato Salsa, [Rice, Black Beans, Sour Cream, Guacamole, Lettuce]][Fresh Tomato Salsa (Mild), [Rice, Fajita Veggies, Cheese, Lettuce]][Tomatillo Red Chili Salsa, Rice][Roasted Chili Corn Salsa, [Rice, Black Beans, Sour Cream, Cheese, Guacamole]][Fresh Tomato Salsa, [Rice, Cheese, Lettuce]][Fresh Tomato Salsa, [Fajita Vegetables, Rice, Cheese, Sour Cream, Guacamole, Lettuce]][Tomatillo Red Chili Salsa, [Fajita Vegetables, Rice, Black Beans, Cheese, Lettuce]][Tomatillo Red Chili Salsa, [Rice, Black Beans, Cheese, Sour Cream, Guacamole, Lettuce]][Fresh Tomato Salsa (Mild), [Rice, Black Beans, Sour Cream, Guacamole]][Roasted Chili Corn Salsa, [Fajita Vegetables, Rice, Pinto Beans, Cheese, Sour Cream, Lettuce]][Fresh Tomato Salsa, [Fajita Vegetables, Rice, Lettuce]][Fresh Tomato Salsa, [Fajita Vegetables, Rice, Sour Cream, Lettuce]][Tomatillo Green Chili Salsa, [Rice, Pinto Beans, Sour Cream, Lettuce]][Tomatillo Red Chili Salsa, [Rice, Black Beans, Sour Cream, Cheese, Lettuce, Guacamole]][Fresh Tomato Salsa, [Rice, Black Beans, Cheese, Guacamole, Lettuce]][Fresh Tomato Salsa, [Rice, Black Beans, Cheese, Guacamole, Lettuce]][Roasted Chili Corn Salsa, [Rice, Pinto Beans, Cheese, Sour Cream, Lettuce]][Fresh Tomato Salsa, [Pinto Beans, Cheese, Guacamole]][Fresh Tomato Salsa, [Rice, Black Beans, Cheese]][Fresh Tomato Salsa, [Rice, Cheese, Sour Cream]][Fresh Tomato Salsa, [Rice, Black Beans, Guacamole, Lettuce]][Fresh Tomato Salsa (Mild), [Pinto Beans, Rice, Cheese, Sour Cream, Guacamole, Lettuce]][[Roasted Chili Corn Salsa (Medium), Fresh Tomato Salsa (Mild)], [Rice, Fajita Veggies]][Fresh Tomato Salsa, [Rice, Fajita Vegetables, Black Beans]][Fresh Tomato Salsa, [Cheese, Guacamole, Sour Cream, Fajita Vegetables, Rice]][Fresh Tomato Salsa, [Rice, Cheese, Lettuce]][Fresh Tomato Salsa, [Rice, Black Beans, Cheese, Sour Cream, Lettuce]][Fresh Tomato Salsa, [Rice, Cheese, Sour Cream, Lettuce]][Roasted Chili Corn Salsa, [Rice, Black Beans, Sour Cream, Cheese, Guacamole]][Tomatillo-Red Chili Salsa (Hot), [Black Beans, Rice, Cheese, Lettuce]][Fresh Tomato Salsa (Mild), [Rice, Cheese, Sour Cream, Guacamole, Lettuce]][Fresh Tomato Salsa, [Fajita Vegetables, Rice, Cheese, Sour Cream, Lettuce]][Tomatillo Green Chili Salsa, [Rice, Pinto Beans, Cheese, Lettuce]][Fresh Tomato Salsa, [Fajita Vegetables, Rice, Sour Cream, Guacamole, Lettuce]][Tomatillo Red Chili Salsa, [Rice, Black Beans, Pinto Beans, Cheese, Sour Cream]][Fresh Tomato Salsa, [Fajita Vegetables, Rice, Cheese, Lettuce]][Fresh Tomato Salsa, [Rice, Cheese, Sour Cream]][Fresh Tomato Salsa, [Fajita Vegetables, Rice, Black Beans, Cheese, Guacamole, Lettuce]][Fresh Tomato Salsa, [Fajita Vegetables, Rice, Pinto Beans, Cheese, Sour Cream, Guacamole, Lettuce]][Fresh Tomato (Mild), [Rice, Sour Cream, Cheese]][Fresh Tomato (Mild), [Guacamole, Rice]][Roasted Chili Corn Salsa, [Rice, Cheese, Sour Cream, Guacamole, Lettuce]][Tomatillo Green Chili Salsa, [Rice, Pinto Beans, Sour Cream, Lettuce]][Tomatillo Red Chili Salsa, [Rice, Black Beans, Cheese, Lettuce]][Tomatillo-Green Chili Salsa (Medium), [Black Beans, Rice, Fajita Veggies, Cheese, Sour Cream, Guacamole, Lettuce]][[Fresh Tomato Salsa (Mild), Tomatillo-Green Chili Salsa (Medium)], [Rice, Fajita Veggies, Cheese, Sour Cream, Lettuce]][Roasted Chili Corn Salsa (Medium), [Rice, Fajita Veggies, Cheese, Sour Cream, Lettuce]][Roasted Chili Corn Salsa, [Fajita Vegetables, Rice, Pinto Beans, Cheese, Lettuce]][Roasted Chili Corn Salsa, [Fajita Vegetables, Rice, Black Beans, Cheese, Guacamole, Lettuce]][Fresh Tomato Salsa, [Rice, Black Beans, Guacamole]][Fresh Tomato Salsa (Mild), [Black Beans, Rice, Cheese]][Tomatillo-Red Chili Salsa (Hot), [Rice, Black Beans, Cheese, Lettuce]][Tomatillo-Red Chili Salsa (Hot), [Rice, Black Beans, Cheese, Lettuce]][Fresh Tomato Salsa, [Rice, Black Beans, Cheese, Sour Cream, Lettuce]][Fresh Tomato Salsa, [Sour Cream, Fajita Vegetables, Rice, Guacamole, Cheese]][Fresh Tomato Salsa, [Rice, Black Beans, Guacamole]][Fresh Tomato Salsa, [Fajita Vegetables, Rice, Black Beans, Cheese, Guacamole, Lettuce]][[Roasted Chili Corn Salsa (Medium), Tomatillo-Red Chili Salsa (Hot), Fresh Tomato Salsa (Mild)], [Rice, Pinto Beans, Fajita Veggies, Cheese, Sour Cream, Lettuce]][Fresh Tomato Salsa, [Sour Cream, Guacamole, Lettuce]][Fresh Tomato Salsa, [Fajita Vegetables, Rice, Cheese, Sour Cream, Guacamole, Lettuce]][Fresh Tomato Salsa, [Fajita Vegetables, Rice, Black Beans, Cheese, Sour Cream, Lettuce]][Tomatillo-Red Chili Salsa (Hot), [Cheese, Lettuce, Rice, Black Beans]][[Fresh Tomato Salsa (Mild), Roasted Chili Corn Salsa (Medium)], [Black Beans, Rice, Fajita Veggies, Cheese, Sour Cream, Lettuce]][Fresh Tomato Salsa, [Rice, Cheese, Lettuce]][Fresh Tomato Salsa, [Fajita Vegetables, Rice, Black Beans, Guacamole, Lettuce]][Fresh Tomato Salsa, [Rice, Pinto Beans, Cheese, Lettuce]][[Tomatillo-Red Chili Salsa (Hot), Tomatillo-Green Chili Salsa (Medium)], [Rice, Black Beans, Lettuce]][Roasted Chili Corn Salsa (Medium), [Rice, Fajita Veggies, Cheese, Sour Cream, Lettuce]][Tomatillo Green Chili Salsa, [Sour Cream, Cheese, Guacamole]][Fresh Tomato Salsa, [Rice, Black Beans, Cheese, Sour Cream, Guacamole, Lettuce]][Fresh Tomato Salsa, [Fajita Vegetables, Rice, Cheese, Sour Cream, Guacamole, Lettuce]][Fresh Tomato Salsa, [Fajita Vegetables, Rice, Black Beans, Guacamole, Lettuce]][Tomatillo Green Chili Salsa, [Rice, Black Beans, Cheese, Sour Cream, Guacamole, Lettuce]][Tomatillo Red Chili Salsa, [Rice, Black Beans, Cheese, Sour Cream, Guacamole, Lettuce]][Fresh Tomato Salsa (Mild), [Black Beans, Rice, Fajita Veggies, Cheese, Sour Cream, Lettuce]][[Roasted Chili Corn Salsa (Medium), Fresh Tomato Salsa (Mild)], [Rice, Fajita Veggies]][[Roasted Chili Corn Salsa (Medium), Fresh Tomato Salsa (Mild)], [Fajita Veggies, Lettuce, Rice, Black Beans]][Tomatillo Red Chili Salsa, [Sour Cream, Cheese, Guacamole, Lettuce, Black Beans, Rice]][Fresh Tomato (Mild), [Lettuce, Fajita Veggies, Black Beans, Rice, Sour Cream, Cheese]][[Fresh Tomato Salsa (Mild), Roasted Chili Corn Salsa (Medium)], [Black Beans, Rice, Cheese, Sour Cream, Lettuce]][Tomatillo Green Chili Salsa, [Rice, Pinto Beans, Sour Cream, Lettuce]][[Fresh Tomato Salsa (Mild), Roasted Chili Corn Salsa (Medium)], [Fajita Veggies, Rice]][Tomatillo-Red Chili Salsa (Hot), [Pinto Beans, Rice, Fajita Veggies, Cheese, Sour Cream, Guacamole]][Fresh Tomato Salsa, [Fajita Vegetables, Rice, Black Beans, Cheese, Sour Cream, Lettuce]][Roasted Chili Corn Salsa, [Rice, Fajita Vegetables, Lettuce, Pinto Beans, Black Beans, Guacamole, Cheese]][Tomatillo Green Chili Salsa, [Rice, Black Beans, Cheese]][Fresh Tomato Salsa (Mild), Lettuce][Fresh Tomato Salsa (Mild), Cheese][Roasted Chili Corn Salsa (Medium), Cheese][Tomatillo Green Chili Salsa, [Rice, Black Beans, Cheese, Lettuce]][Fresh Tomato Salsa, [Fajita Vegetables, Rice, Black Beans, Cheese, Sour Cream, Lettuce]][Fresh Tomato Salsa, [Rice, Cheese, Sour Cream, Guacamole]][Fresh Tomato Salsa, [Rice, Black Beans, Pinto Beans, Cheese, Lettuce]][Fresh Tomato Salsa, [Fajita Vegetables, Rice, Black Beans, Sour Cream, Lettuce]][Fresh Tomato Salsa, [Rice, Black Beans, Cheese, Guacamole, Lettuce]][Fresh Tomato Salsa, [Fajita Vegetables, Rice, Pinto Beans, Cheese, Sour Cream, Guacamole, Lettuce]][Roasted Chili Corn Salsa (Medium), [Rice, Fajita Veggies, Sour Cream]][Fresh Tomato Salsa, [Fajita Vegetables, Rice, Cheese, Sour Cream, Guacamole, Lettuce]][Fresh Tomato Salsa (Mild), [Pinto Beans, Rice, Cheese, Sour Cream]][Fresh Tomato Salsa, [Guacamole, Cheese, Rice, Sour Cream, Fajita Vegetables]][Roasted Chili Corn Salsa, [Rice, Black Beans, Sour Cream, Cheese, Guacamole]][Roasted Chili Corn Salsa, [Rice, Black Beans, Sour Cream, Cheese, Lettuce, Guacamole]][Fresh Tomato Salsa, [Rice, Fajita Vegetables]][Roasted Chili Corn Salsa (Medium), [Black Beans, Rice, Fajita Veggies, Cheese, Sour Cream]][[Tomatillo-Red Chili Salsa (Hot), Tomatillo-Green Chili Salsa (Medium)], [Rice, Black Beans, Cheese, Lettuce]][Roasted Chili Corn Salsa, [Rice, Pinto Beans, Cheese, Sour Cream, Lettuce]][Tomatillo Green Chili Salsa, [Rice, Black Beans, Guacamole, Lettuce]][Fresh Tomato Salsa, [Lettuce, Fajita Vegetables, Guacamole, Rice, Black Beans]][Fresh Tomato Salsa, [Lettuce, Cheese, Pinto Beans, Rice]][Fresh Tomato Salsa, [Rice, Pinto Beans, Sour Cream, Cheese, Lettuce]][Roasted Chili Corn Salsa, [Fajita Vegetables, Rice, Black Beans, Cheese, Sour Cream, Guacamole, Lettuce]][Fresh Tomato Salsa, [Fajita Vegetables, Rice, Black Beans, Cheese, Sour Cream, Guacamole, Lettuce]][Fresh Tomato Salsa, [Rice, Fajita Vegetables]][Fresh Tomato Salsa, [Rice, Cheese, Lettuce]][Fresh Tomato Salsa][Roasted Chili Corn Salsa, [Rice, Black Beans, Sour Cream, Cheese, Guacamole]][Roasted Chili Corn Salsa, [Rice, Pinto Beans, Cheese, Sour Cream, Lettuce]][Fresh Tomato Salsa, [Rice, Cheese, Sour Cream, Lettuce]][Fresh Tomato Salsa, [Rice, Fajita Vegetables]][Roasted Chili Corn Salsa, [Rice, Black Beans, Cheese]][Roasted Chili Corn Salsa, [Fajita Vegetables, Rice]][Tomatillo-Red Chili Salsa (Hot), [Pinto Beans, Rice, Fajita Veggies, Cheese, Sour Cream]][[Fresh Tomato Salsa (Mild), Tomatillo-Green Chili Salsa (Medium)], [Rice, Fajita Veggies, Cheese, Sour Cream, Lettuce]][Roasted Chili Corn Salsa, [Rice, Pinto Beans, Cheese, Sour Cream, Guacamole]][Fresh Tomato Salsa (Mild), [Rice, Black Beans, Fajita Veggies, Cheese, Sour Cream, Lettuce]][Fresh Tomato Salsa, [Fajita Vegetables, Rice, Lettuce]][Fresh Tomato Salsa, [Rice, Black Beans, Cheese, Sour Cream, Guacamole, Lettuce]][Roasted Chili Corn Salsa (Medium), [Pinto Beans, Black Beans, Rice, Cheese, Sour Cream, Guacamole]][Tomatillo-Green Chili Salsa (Medium), [Pinto Beans, Black Beans, Rice, Fajita Veggies, Sour Cream, Lettuce]][Fresh Tomato Salsa, [Fajita Vegetables, Rice, Black Beans, Cheese, Sour Cream, Lettuce]][Fresh Tomato Salsa, [Rice, Cheese, Sour Cream, Lettuce]][[Roasted Chili Corn Salsa (Medium), Tomatillo-Green Chili Salsa (Medium)], [Rice, Fajita Veggies, Cheese, Sour Cream, Lettuce]][Fresh Tomato Salsa, [Cheese, Black Beans, Rice]][Roasted Chili Corn Salsa, [Rice, Black Beans, Sour Cream, Cheese, Guacamole]][Roasted Chili Corn Salsa, [Black Beans, Cheese, Guacamole]][Fresh Tomato Salsa, [Rice, Fajita Vegetables, Sour Cream, Cheese, Guacamole]][Fresh Tomato Salsa, [Rice, Pinto Beans, Cheese, Guacamole, Lettuce]][Fresh Tomato Salsa, [Rice, Cheese]][Tomatillo Green Chili Salsa, [Rice, Cheese]][Roasted Chili Corn Salsa, [Rice, Black Beans, Cheese, Guacamole]][Fresh Tomato Salsa, [Rice, Cheese, Guacamole, Lettuce]][Roasted Chili Corn Salsa, [Rice, Black Beans, Sour Cream, Guacamole]][Fresh Tomato Salsa, [Cheese, Rice, Black Beans]][Fresh Tomato Salsa, [Guacamole, Sour Cream, Cheese, Rice, Fajita Vegetables]][Fresh Tomato Salsa, [Rice, Fajita Vegetables, Black Beans, Sour Cream, Cheese, Lettuce]][Tomatillo Green Chili Salsa, [Rice, Pinto Beans, Sour Cream, Lettuce]][Tomatillo-Red Chili Salsa (Hot), [Black Beans, Rice, Cheese, Lettuce]][Fresh Tomato Salsa (Mild), [Black Beans, Rice, Guacamole, Lettuce]][Tomatillo-Red Chili Salsa (Hot), [Pinto Beans, Rice, Fajita Veggies, Cheese, Sour Cream, Guacamole]][[Roasted Chili Corn Salsa (Medium), Fresh Tomato Salsa (Mild)], [Rice, Black Beans, Fajita Veggies, Guacamole]][[Roasted Chili Corn Salsa (Medium), Tomatillo-Red Chili Salsa (Hot), Fresh Tomato Salsa (Mild)], [Rice, Pinto Beans, Fajita Veggies, Cheese, Sour Cream, Lettuce]][Fresh Tomato Salsa, [Fajita Vegetables, Rice, Pinto Beans, Cheese]][Fresh Tomato Salsa, [Fajita Vegetables, Rice, Black Beans, Cheese, Sour Cream, Guacamole, Lettuce]][Fresh Tomato Salsa, [Fajita Vegetables, Rice, Pinto Beans, Cheese, Sour Cream, Guacamole, Lettuce]][Fresh Tomato Salsa, [Fajita Vegetables, Rice, Black Beans, Cheese, Sour Cream, Lettuce]][Fresh Tomato Salsa, [Rice, Black Beans, Cheese, Sour Cream]][Tomatillo Green Chili Salsa, [Fajita Vegetables, Rice, Black Beans, Cheese, Lettuce]][Fresh Tomato Salsa, [Fajita Vegetables, Rice]][Roasted Chili Corn Salsa (Medium), [Black Beans, Rice, Fajita Veggies, Cheese, Sour Cream]][Fresh Tomato Salsa, [Rice, Cheese, Sour Cream]][[Roasted Chili Corn Salsa (Medium), Tomatillo-Red Chili Salsa (Hot)], [Black Beans, Rice, Fajita Veggies, Guacamole, Lettuce]][Roasted Chili Corn Salsa, [Rice, Pinto Beans, Sour Cream, Cheese, Guacamole]][Fresh Tomato Salsa (Mild), [Black Beans, Rice, Guacamole, Lettuce]][Tomatillo-Red Chili Salsa (Hot), [Cheese, Sour Cream, Fajita Veggies, Pinto Beans, Rice]][Fresh Tomato Salsa (Mild), [Black Beans, Rice, Fajita Veggies, Cheese]][Fresh Tomato Salsa, [Rice, Black Beans, Cheese, Guacamole, Lettuce]][Fresh Tomato Salsa, [Rice, Cheese, Sour Cream, Guacamole, Fajita Vegetables]][Tomatillo Green Chili Salsa, [Rice, Cheese, Guacamole, Lettuce]][Roasted Chili Corn Salsa, [Rice, Black Beans, Sour Cream, Guacamole]][Tomatillo Red Chili Salsa, [Rice, Cheese, Sour Cream, Guacamole]][Fresh Tomato Salsa, [Fajita Vegetables, Rice, Cheese, Sour Cream, Guacamole, Lettuce]][[Roasted Chili Corn Salsa (Medium), Fresh Tomato Salsa (Mild)], [Rice, Fajita Veggies]][Fresh Tomato (Mild), [Lettuce, Fajita Veggies, Pinto Beans, Rice, Sour Cream, Cheese]][Tomatillo-Red Chili Salsa (Hot), [Pinto Beans, Rice, Fajita Veggies, Cheese, Sour Cream, Guacamole]][[Tomatillo-Green Chili Salsa (Medium), Tomatillo-Red Chili Salsa (Hot)], [Pinto Beans, Rice, Fajita Veggies, Cheese, Sour Cream, Guacamole]][Fresh Tomato Salsa, [Fajita Vegetables, Rice, Black Beans, Sour Cream, Guacamole, Lettuce]][Roasted Chili Corn Salsa, [Fajita Vegetables, Rice, Black Beans, Guacamole]][[Roasted Chili Corn Salsa (Medium), Fresh Tomato Salsa (Mild)], [Rice, Black Beans, Fajita Veggies, Guacamole]][[Roasted Chili Corn Salsa (Medium), Tomatillo-Red Chili Salsa (Hot), Fresh Tomato Salsa (Mild)], [Rice, Pinto Beans, Fajita Veggies, Cheese, Sour Cream, Lettuce]][Fresh Tomato Salsa, [Fajita Vegetables, Rice, Cheese, Sour Cream, Lettuce]][Roasted Chili Corn Salsa, [Rice, Black Beans, Cheese, Sour Cream, Lettuce]][Fresh Tomato Salsa, [Rice, Black Beans, Sour Cream]][Roasted Chili Corn Salsa, [Rice, Black Beans, Cheese, Sour Cream, Guacamole, Lettuce]][Tomatillo-Red Chili Salsa (Hot), [Black Beans, Rice, Cheese, Lettuce]][Fresh Tomato Salsa, [Guacamole, Lettuce, Rice, Cheese, Sour Cream, Black Beans]][Fresh Tomato Salsa, [Rice, Fajita Vegetables]][[Fresh Tomato Salsa (Mild), Roasted Chili Corn Salsa (Medium)], [Black Beans, Rice, Cheese, Sour Cream, Lettuce]][Fresh Tomato Salsa, [Rice, Black Beans, Cheese]][[Fresh Tomato Salsa (Mild), Tomatillo-Red Chili Salsa (Hot)], [Black Beans, Rice, Cheese, Sour Cream, Guacamole]][Fresh Tomato Salsa (Mild), [Black Beans, Rice, Fajita Veggies, Guacamole, Lettuce]][Fresh Tomato Salsa, [Rice, Black Beans, Cheese, Sour Cream, Guacamole, Lettuce]][Tomatillo Green Chili Salsa, [Fajita Vegetables, Rice]][Roasted Chili Corn Salsa, [Rice, Black Beans, Sour Cream, Cheese, Guacamole]][Tomatillo Red Chili Salsa, [Rice, Black Beans, Cheese, Sour Cream, Guacamole, Lettuce]][Roasted Chili Corn Salsa, [Rice, Black Beans, Cheese, Sour Cream, Guacamole, Lettuce]][Roasted Chili Corn Salsa (Medium), [Pinto Beans, Black Beans, Rice, Fajita Veggies, Cheese, Lettuce]][Tomatillo-Red Chili Salsa (Hot), [Pinto Beans, Black Beans, Rice, Fajita Veggies, Cheese, Sour Cream, Lettuce]][Fresh Tomato Salsa, [Rice, Pinto Beans, Sour Cream, Cheese, Lettuce]][Fresh Tomato Salsa, [Fajita Vegetables, Rice, Black Beans, Cheese, Guacamole, Lettuce]][Roasted Chili Corn Salsa, [Rice, Black Beans, Cheese, Guacamole, Lettuce]][Tomatillo-Red Chili Salsa (Hot), [Rice, Pinto Beans, Fajita Veggies, Cheese, Sour Cream, Guacamole]][Roasted Chili Corn Salsa, [Rice, Black Beans, Cheese, Sour Cream, Lettuce]][Tomatillo-Red Chili Salsa (Hot), [Pinto Beans, Rice, Cheese, Sour Cream, Lettuce]][Tomatillo Green Chili Salsa, [Rice, Fajita Vegetables, Black Beans, Sour Cream, Cheese, Lettuce]][Fresh Tomato Salsa, [Rice, Cheese, Sour Cream]][Tomatillo Red Chili Salsa, [Rice, Black Beans, Sour Cream, Cheese, Lettuce, Guacamole]][Fresh Tomato Salsa, [Fajita Vegetables, Rice, Pinto Beans, Cheese, Sour Cream, Guacamole, Lettuce]][Fresh Tomato Salsa, Cheese][Fresh Tomato Salsa, [Fajita Vegetables, Rice, Black Beans, Cheese, Sour Cream, Lettuce]][Fresh Tomato Salsa, [Rice, Cheese, Sour Cream]][Tomatillo Red Chili Salsa, [Fajita Vegetables, Rice, Black Beans, Cheese, Sour Cream, Guacamole, Lettuce]][Fresh Tomato Salsa, [Fajita Vegetables, Rice, Black Beans, Cheese, Sour Cream, Guacamole, Lettuce]][[Tomatillo-Green Chili Salsa (Medium), Roasted Chili Corn Salsa (Medium)], [Rice, Fajita Veggies, Guacamole, Lettuce]][Tomatillo Green Chili Salsa, [Rice, Black Beans, Cheese, Sour Cream]][Fresh Tomato Salsa, [Rice, Fajita Vegetables, Pinto Beans, Cheese, Lettuce, Guacamole]][Fresh Tomato Salsa, [Rice, Black Beans, Cheese, Sour Cream]][Fresh Tomato Salsa, [Fajita Vegetables, Rice, Black Beans, Cheese]][Fresh Tomato Salsa, [Rice, Black Beans, Cheese, Lettuce]][Fresh Tomato Salsa, [Rice, Fajita Vegetables, Black Beans, Cheese, Lettuce]][Fresh Tomato Salsa, [Rice, Black Beans, Cheese, Lettuce, Guacamole]][Tomatillo-Red Chili Salsa (Hot), [Black Beans, Rice, Cheese, Lettuce]][Fresh Tomato Salsa, [Fajita Vegetables, Rice]][Fresh Tomato Salsa, [Rice, Cheese, Lettuce]][Fresh Tomato Salsa, [Rice, Black Beans, Fajita Vegetables, Lettuce, Cheese, Sour Cream]][[Roasted Chili Corn Salsa (Medium), Fresh Tomato Salsa (Mild)], [Rice, Fajita Veggies]][Tomatillo Green Chili Salsa, [Rice, Black Beans, Guacamole, Lettuce]][Fresh Tomato Salsa, [Rice, Black Beans, Cheese, Sour Cream]][Fresh Tomato Salsa, [Fajita Vegetables, Rice, Black Beans, Sour Cream, Guacamole, Lettuce]][Fresh Tomato Salsa, [Fajita Vegetables, Rice, Black Beans, Pinto Beans, Cheese, Sour Cream, Guacamole, Lettuce]][Fresh Tomato Salsa, [Fajita Vegetables, Rice, Black Beans, Cheese, Sour Cream, Guacamole, Lettuce]][[Fresh Tomato Salsa (Mild), Tomatillo-Green Chili Salsa (Medium), Roasted Chili Corn Salsa (Medium), Tomatillo-Red Chili Salsa (Hot)], [Black Beans, Rice, Fajita Veggies, Cheese, Sour Cream]][Tomatillo-Green Chili Salsa (Medium), [Rice, Cheese, Sour Cream, Lettuce]][Roasted Chili Corn Salsa, [Rice, Black Beans, Cheese, Sour Cream, Lettuce]][Roasted Chili Corn Salsa, [Rice, Black Beans, Sour Cream, Cheese, Guacamole]][Fresh Tomato Salsa, [Fajita Vegetables, Rice, Pinto Beans, Cheese, Sour Cream, Guacamole, Lettuce]][Tomatillo Green Chili Salsa, [Rice, Fajita Vegetables, Black Beans, Sour Cream, Cheese, Lettuce]][Fresh Tomato Salsa, [Rice, Pinto Beans, Cheese, Lettuce]][Roasted Chili Corn Salsa, [Rice, Black Beans, Guacamole, Lettuce]][Roasted Chili Corn Salsa, [Fajita Vegetables, Rice, Pinto Beans, Cheese, Sour Cream, Lettuce]][Fresh Tomato Salsa, [Rice, Black Beans, Cheese, Sour Cream, Guacamole, Lettuce]][Fresh Tomato Salsa (Mild), [Black Beans, Rice, Cheese]][Roasted Chili Corn Salsa (Medium), [Black Beans, Rice, Fajita Veggies, Cheese, Sour Cream]][Fresh Tomato Salsa (Mild), [Black Beans, Rice, Sour Cream, Guacamole]][[Fresh Tomato Salsa (Mild), Roasted Chili Corn Salsa (Medium)], [Black Beans, Rice, Cheese, Sour Cream, Lettuce]][Roasted Chili Corn Salsa, [Fajita Vegetables, Rice, Cheese, Sour Cream, Lettuce]][Fresh Tomato Salsa, [Rice, Cheese, Sour Cream]][Fresh Tomato Salsa, [Rice, Cheese, Lettuce]][Fresh Tomato Salsa, [Fajita Vegetables, Rice, Sour Cream, Guacamole, Lettuce]][Fresh Tomato Salsa, [Fajita Vegetables, Rice, Cheese, Sour Cream, Guacamole, Lettuce]][Fresh Tomato Salsa, [Fajita Vegetables, Rice, Cheese, Sour Cream, Guacamole, Lettuce]][Tomatillo Red Chili Salsa, [Rice, Cheese, Lettuce]][Tomatillo Green Chili Salsa, [Rice, Pinto Beans, Sour Cream, Lettuce]][Fresh Tomato Salsa, [Fajita Vegetables, Rice, Lettuce]][Fresh Tomato Salsa, [Rice, Black Beans, Cheese, Sour Cream, Guacamole, Lettuce]][Fresh Tomato Salsa, [Fajita Vegetables, Rice, Black Beans, Cheese, Guacamole, Lettuce]][Fresh Tomato Salsa, [Guacamole, Sour Cream, Cheese, Rice, Fajita Vegetables]][Fresh Tomato Salsa, [Rice, Black Beans, Cheese, Sour Cream, Guacamole, Lettuce]][Tomatillo Red Chili Salsa, [Rice, Black Beans, Pinto Beans, Cheese, Sour Cream, Lettuce]][Tomatillo Red Chili Salsa, [Rice, Black Beans, Cheese, Sour Cream, Lettuce]][Fresh Tomato Salsa, [Rice, Cheese, Sour Cream, Guacamole]][Fresh Tomato Salsa, [Rice, Black Beans, Lettuce, Guacamole]][Tomatillo Green Chili Salsa, [Rice, Black Beans, Cheese, Sour Cream, Guacamole, Lettuce]][Fresh Tomato Salsa, [Rice, Black Beans, Pinto Beans, Cheese, Sour Cream]][Tomatillo Red Chili Salsa, [Rice, Black Beans, Cheese, Sour Cream, Lettuce]][Roasted Chili Corn Salsa, [Fajita Vegetables, Rice, Black Beans, Sour Cream, Lettuce]][Fresh Tomato Salsa, [Fajita Vegetables, Rice]][Fresh Tomato Salsa, [Fajita Vegetables, Rice, Lettuce]][Tomatillo Green Chili Salsa, [Fajita Vegetables, Rice, Black Beans, Cheese, Lettuce]][Fresh Tomato Salsa, [Rice, Black Beans, Sour Cream, Cheese]][White Rice][White Rice][Tomatillo Red Chili Salsa, [Rice, Black Beans, Cheese, Sour Cream, Lettuce]][Tomatillo Green Chili Salsa, [Rice, Pinto Beans, Sour Cream, Lettuce]][Fresh Tomato Salsa, [Fajita Vegetables, Rice, Cheese, Guacamole]][Fresh Tomato Salsa, [Rice, Black Beans, Cheese, Guacamole, Lettuce]][Fresh Tomato Salsa, [Pinto Beans, Rice, Lettuce, Cheese]][Fresh Tomato Salsa, [Rice, Black Beans, Cheese, Sour Cream, Lettuce]][Fresh Tomato Salsa, [Fajita Vegetables, Rice, Black Beans, Sour Cream, Lettuce]][Roasted Chili Corn Salsa, [Fajita Vegetables, Rice, Black Beans, Cheese, Guacamole]][Fresh Tomato Salsa, [Fajita Vegetables, Black Beans, Pinto Beans, Guacamole, Lettuce]][Tomatillo Red Chili Salsa, [Rice, Black Beans, Cheese, Guacamole]][Fresh Tomato Salsa, [Guacamole, Lettuce]][Tomatillo Red Chili Salsa, [Fajita Vegetables, Rice, Black Beans, Cheese, Sour Cream]][Fresh Tomato Salsa, [Rice, Black Beans, Cheese, Guacamole, Lettuce]][Fresh Tomato Salsa, [Rice, Black Beans, Cheese, Lettuce]][Roasted Chili Corn Salsa, [Rice, Pinto Beans, Sour Cream, Cheese, Guacamole]][Roasted Chili Corn Salsa, [Rice, Black Beans, Guacamole]][Fresh Tomato Salsa, [Pinto Beans, Rice, Cheese, Lettuce, Guacamole, Sour Cream, Fajita Vegetables]][Fresh Tomato Salsa, [Rice, Black Beans, Guacamole, Lettuce]][Fresh Tomato Salsa, [Rice, Cheese, Sour Cream, Lettuce]][Tomatillo Green Chili Salsa, [Fajita Vegetables, Black Beans, Sour Cream, Lettuce]][Fresh Tomato Salsa, [Fajita Vegetables, Rice, Black Beans, Pinto Beans, Cheese, Sour Cream]][Fresh Tomato Salsa, [Black Beans, Rice, Sour Cream, Cheese, Guacamole, Lettuce]][Fresh Tomato Salsa, [Rice, Black Beans, Pinto Beans, Cheese]][Fresh Tomato Salsa, [Rice, Black Beans, Pinto Beans, Cheese, Sour Cream, Guacamole]][Fresh Tomato Salsa, [Rice, Black Beans, Cheese]][Fresh Tomato Salsa, [Fajita Vegetables, Rice, Black Beans, Guacamole, Lettuce]][Tomatillo Green Chili Salsa, [Rice, Pinto Beans, Sour Cream, Lettuce]][Fresh Tomato Salsa, [Rice, Fajita Vegetables, Black Beans, Sour Cream, Cheese, Lettuce, Guacamole]][Fresh Tomato Salsa, [Rice, Black Beans, Cheese, Sour Cream, Guacamole]][Fresh Tomato Salsa, [Rice, Pinto Beans, Cheese, Lettuce]][Fresh Tomato Salsa, [Rice, Black Beans, Cheese, Sour Cream, Lettuce]][Tomatillo Green Chili Salsa, [Rice, Pinto Beans, Cheese, Sour Cream, Lettuce]][Fresh Tomato Salsa, [Rice, Black Beans, Sour Cream]][Fresh Tomato Salsa, [Rice, Black Beans, Cheese]][Fresh Tomato Salsa, Rice][Fresh Tomato Salsa, [Rice, Pinto Beans, Cheese, Sour Cream, Guacamole, Lettuce]][Fresh Tomato Salsa, [Fajita Vegetables, Rice, Black Beans, Cheese, Sour Cream, Guacamole, Lettuce]][Fresh Tomato Salsa, [Rice, Black Beans, Cheese, Sour Cream, Guacamole, Lettuce]][Fresh Tomato Salsa, [Fajita Vegetables, Rice, Sour Cream, Lettuce]][Fresh Tomato Salsa, [Rice, Pinto Beans, Sour Cream, Cheese, Lettuce, Guacamole]][Tomatillo Green Chili Salsa, [Fajita Vegetables, Rice, Sour Cream, Guacamole]][Fresh Tomato Salsa, [Rice, Cheese, Sour Cream, Guacamole]][Roasted Chili Corn Salsa, [Rice, Fajita Vegetables, Cheese, Lettuce]][Roasted Chili Corn Salsa, [Rice, Black Beans, Cheese, Sour Cream, Lettuce]][Fresh Tomato Salsa, [Rice, Black Beans, Cheese, Sour Cream]][Tomatillo Green Chili Salsa, [Fajita Vegetables, Rice, Pinto Beans, Cheese, Guacamole, Lettuce]][Roasted Chili Corn Salsa, [Black Beans, Sour Cream, Cheese, Guacamole]][Roasted Chili Corn Salsa, [Fajita Vegetables, Rice, Cheese, Sour Cream, Lettuce]][Fresh Tomato Salsa, [Fajita Vegetables, Rice, Pinto Beans, Cheese, Guacamole, Lettuce]][Roasted Chili Corn Salsa, [Rice, Cheese, Lettuce]][Fresh Tomato Salsa, [Rice, Cheese, Sour Cream, Guacamole]][Tomatillo Red Chili Salsa, [Rice, Black Beans, Pinto Beans, Cheese, Sour Cream, Lettuce]][Tomatillo Green Chili Salsa, [Rice, Black Beans, Sour Cream, Lettuce]][Fresh Tomato Salsa, [Rice, Black Beans, Cheese, Sour Cream, Guacamole, Lettuce]][Fresh Tomato Salsa, [Rice, Black Beans, Cheese, Sour Cream, Guacamole]][Fresh Tomato Salsa, [Rice, Black Beans, Sour Cream, Cheese, Lettuce, Guacamole]][Roasted Chili Corn Salsa, [Rice, Black Beans, Cheese, Lettuce, Guacamole]][Tomatillo Red Chili Salsa, [Rice, Black Beans, Sour Cream, Cheese, Lettuce]][Tomatillo Green Chili Salsa, [Rice, Black Beans]][Roasted Chili Corn Salsa, [Cheese, Lettuce]][Fresh Tomato Salsa, [Rice, Black Beans, Cheese, Sour Cream]]\"\n        ],\n        \"semantic_type\": \"\",\n        \"description\": \"\"\n      }\n    },\n    {\n      \"column\": \"item_price\",\n      \"properties\": {\n        \"dtype\": \"string\",\n        \"num_unique_values\": 1,\n        \"samples\": [\n          \"$16.98 $10.98 $11.25 $8.75 $8.49 $11.25 $8.75 $8.75 $8.75 $8.75 $11.25 $11.25 $11.25 $11.25 $17.50 $8.49 $10.98 $8.75 $8.75 $10.98 $8.75 $11.25 $11.25 $8.75 $8.75 $8.75 $8.75 $8.75 $8.75 $17.50 $8.75 $11.25 $11.25 $8.49 $11.25 $8.75 $8.75 $8.75 $8.75 $8.49 $8.75 $11.25 $11.25 $32.94 $11.25 $17.50 $8.75 $8.75 $11.25 $8.75 $8.49 $8.75 $8.75 $8.75 $11.25 $8.75 $8.75 $11.25 $11.25 $8.49 $8.75 $8.75 $8.75 $11.25 $10.98 $8.75 $11.25 $8.49 $8.75 $8.75 $8.75 $8.75 $8.49 $17.50 $8.49 $11.25 $11.25 $11.25 $11.25 $8.75 $8.75 $11.25 $8.49 $8.49 $8.75 $8.75 $8.75 $10.98 $8.75 $8.75 $10.98 $8.75 $11.25 $11.25 $8.75 $11.25 $11.25 $8.75 $8.49 $10.98 $8.75 $11.25 $8.75 $8.75 $8.75 $8.75 $8.49 $8.49 $8.75 $8.75 $11.25 $17.50 $8.75 $8.75 $8.75 $11.25 $11.25 $8.49 $10.98 $8.49 $8.49 $8.75 $8.75 $17.50 $8.75 $8.75 $8.75 $8.49 $8.75 $8.49 $11.25 $8.75 $8.75 $11.25 $17.50 $8.75 $8.75 $8.75 $11.25 $8.75 $8.75 $8.75 $8.49 $8.75 $11.25 $11.25 $8.75 $11.25 $11.25 $10.98 $10.98 $11.25 $11.25 $8.75 $8.75 $8.75 $11.25 $10.98 $8.75 $11.25 $8.75 $8.49 $8.49 $8.75 $8.75 $8.75 $8.75 $11.25 $8.75 $8.75 $10.98 $11.25 $8.49 $8.75 $8.75 $11.25 $22.50 $8.49 $8.75 $11.25 $8.49 $10.98 $8.75 $11.25 $8.75 $11.25 $8.75 $8.75 $8.75 $26.25 $8.75 $8.75 $11.25 $11.25 $8.49 $8.49 $8.49 $8.75 $8.75 $11.25 $11.25 $8.75 $8.75 $8.75 $8.75 $17.50 $11.25 $11.25 $8.75 $8.75 $11.25 $8.75 $8.49 $8.49 $11.25 $8.75 $8.49 $8.49 $8.49 $8.49 $8.75 $11.25 $11.25 $8.75 $8.49 $11.25 $8.49 $8.49 $11.25 $11.25 $10.98 $8.75 $8.75 $8.49 $8.75 $8.49 $8.49 $8.49 $8.75 $8.49 $10.98 $8.75 $11.25 $8.49 $8.75 $8.49 $11.25 $8.49 $8.75 $8.75 $21.96 $8.49 $8.75 $8.75 $8.75 $8.49 $8.49 $11.25 $8.75 $11.25 $8.75 $8.75 $8.49 $8.75 $8.75 $8.75 $8.49 $10.98 $8.75 $11.25 $8.49 $10.98 $10.98 $8.75 $10.98 $11.25 $11.25 $11.25 $11.25 $11.25 $8.75 $8.75 $8.49 $11.25 $8.75 $11.25 $11.25 $11.25 $8.75 $10.98 $10.98 $8.75 $8.49 $11.25 $8.75 $21.96 $8.75 $8.75 $17.50 $11.25 $8.75 $10.98 $8.49 $11.25 $8.75 $10.98 $8.75 $8.75 $8.75 $11.25 $8.75 $11.25 $8.75 $8.75 $8.75 $8.75 $11.25 $8.75 $11.25 $8.75 $8.75 $8.75 $8.75 $8.75 $8.75 $8.75 $8.75 $8.75 $8.75 $8.75 $8.75 $8.75 $8.75 $8.75 $8.75 $8.75 $11.25 $11.25 $8.75 $16.98 $8.75 $11.25 $8.75 $10.98 $8.75 $11.25 $8.75 $8.49 $8.75 $11.25 $8.75 $8.75 $8.75 $8.49 $11.25 $11.25 $8.49 $8.75 $8.75 $8.75 $8.75 $11.25 $8.75 $11.25 $10.98 $8.49 $8.75 $8.75 $8.49 $11.25 $8.75 $11.25 $22.50 $8.49 $11.25 $21.96 $8.75 $8.75 $8.49 $8.49 $11.25 $11.25 $11.25 $8.75 $11.25 $16.98 $10.98 $8.75 $8.75 $8.75 $11.25 $11.25 $11.25 $10.98 $11.25 $8.49 $8.75 $11.25 $8.75 $11.25 $8.75 $11.25 $10.98 $8.75 $8.75 $8.75 $8.75 $11.25 $11.25 $11.25 $8.75 $11.25 $8.75 $8.75 $11.25 $10.98 $16.98 $8.75 $11.25 $8.75 $8.75 $8.75 $11.25 $8.49 $10.98 $8.75 $8.75 $11.25 $8.75 $8.75 $8.75 $11.25 $11.25 $8.19 $10.58 $11.25 $8.75 $8.75 $21.96 $8.49 $8.49 $8.75 $11.25 $11.25 $8.49 $8.49 $8.49 $8.75 $11.25 $11.25 $11.25 $8.49 $11.25 $11.25 $8.75 $8.49 $8.49 $8.75 $11.25 $8.75 $8.49 $8.49 $11.25 $11.25 $11.25 $11.25 $11.25 $11.25 $8.49 $16.98 $8.49 $11.25 $8.19 $8.49 $8.75 $16.98 $21.96 $8.75 $11.25 $8.75 $8.49 $8.49 $8.49 $8.75 $8.75 $11.25 $8.75 $8.75 $11.25 $11.25 $8.49 $11.25 $8.49 $11.25 $11.25 $11.25 $8.75 $8.49 $8.49 $8.75 $11.25 $11.25 $8.75 $8.75 $11.25 $11.25 $8.75 $8.75 $8.75 $11.25 $8.75 $8.75 $8.75 $8.75 $8.75 $8.49 $8.49 $11.25 $8.49 $8.75 $11.25 $10.98 $8.49 $8.75 $17.50 $8.49 $8.75 $11.25 $11.25 $11.25 $11.25 $8.75 $8.75 $11.25 $11.25 $11.25 $8.75 $11.25 $8.75 $8.75 $8.49 $10.98 $21.96 $10.98 $8.49 $8.75 $11.25 $11.25 $8.75 $8.75 $8.75 $8.75 $8.49 $8.75 $10.98 $11.25 $10.98 $16.98 $16.98 $11.25 $11.25 $11.25 $11.25 $11.25 $11.25 $16.98 $8.19 $10.98 $10.98 $11.25 $11.25 $10.98 $8.49 $8.75 $8.75 $8.75 $11.25 $8.49 $11.25 $8.75 $8.49 $8.75 $10.98 $10.98 $11.25 $8.75 $11.25 $11.25 $11.25 $8.49 $8.49 $8.75 $11.25 $11.25 $21.96 $8.75 $8.49 $8.75 $8.75 $11.25 $11.25 $8.75 $8.75 $8.75 $11.25 $11.25 $10.98 $8.75 $11.25 $8.75 $8.75 $8.75 $8.75 $11.25 $8.49 $8.75 $8.75 $8.75 $16.98 $11.25 $8.75 $11.25 $11.25 $11.25 $8.49 $8.49 $8.75 $11.25 $11.25 $8.75 $8.75 $11.25 $8.75 $11.25 $8.49 $8.49 $10.98 $8.49 $8.75 $8.75 $8.75 $11.25 $11.25 $11.25 $8.75 $8.75 $8.75 $11.25 $11.25 $11.25 $11.25 $8.75 $8.75 $11.25 $11.25 $11.25 $8.75 $8.75 $8.75 $8.75 $8.75 $8.75 $8.75 $8.50 $8.50 $8.75 $8.75 $11.25 $11.25 $8.75 $8.75 $8.75 $11.25 $11.25 $11.25 $11.25 $8.75 $11.25 $8.75 $11.25 $11.25 $11.25 $11.25 $8.75 $8.75 $8.75 $11.25 $8.75 $11.25 $8.75 $11.25 $8.75 $22.50 $11.25 $17.50 $8.75 $8.75 $8.75 $8.75 $8.75 $11.25 $11.25 $11.25 $8.75 $11.25 $11.25 $11.25 $8.75 $8.75 $8.75 $11.25 $11.25 $8.75 $11.25 $8.75 $11.25 $8.75 $8.75 $11.25 $11.25 $11.25 $11.25 $8.75 $8.75 $8.75 $8.75 \"\n        ],\n        \"semantic_type\": \"\",\n        \"description\": \"\"\n      }\n    }\n  ]\n}"
            }
          },
          "metadata": {},
          "execution_count": 18
        }
      ],
      "source": [
        "c = chipo.groupby('item_name').sum().sort_values(by='quantity', ascending=False).head(1)\n",
        "c"
      ]
    },
    {
      "cell_type": "markdown",
      "metadata": {
        "id": "ObEp4VvKeG4f"
      },
      "source": [
        "### Step 10. For the most-ordered item, how many items were ordered?"
      ]
    },
    {
      "cell_type": "code",
      "execution_count": 20,
      "metadata": {
        "colab": {
          "base_uri": "https://localhost:8080/",
          "height": 112
        },
        "id": "2mrEspCVeG4f",
        "outputId": "57d10758-2806-44fa-d4dc-2781b97f21b2"
      },
      "outputs": [
        {
          "output_type": "execute_result",
          "data": {
            "text/plain": [
              "              order_id  quantity  \\\n",
              "item_name                          \n",
              "Chicken Bowl    713926       761   \n",
              "\n",
              "                                             choice_description  \\\n",
              "item_name                                                         \n",
              "Chicken Bowl  [Tomatillo-Red Chili Salsa (Hot), [Black Beans...   \n",
              "\n",
              "                                                     item_price  \n",
              "item_name                                                        \n",
              "Chicken Bowl  $16.98 $10.98 $11.25 $8.75 $8.49 $11.25 $8.75 ...  "
            ],
            "text/html": [
              "\n",
              "  <div id=\"df-7ee7b767-bfe9-49a5-9b38-eb0ff891328c\" class=\"colab-df-container\">\n",
              "    <div>\n",
              "<style scoped>\n",
              "    .dataframe tbody tr th:only-of-type {\n",
              "        vertical-align: middle;\n",
              "    }\n",
              "\n",
              "    .dataframe tbody tr th {\n",
              "        vertical-align: top;\n",
              "    }\n",
              "\n",
              "    .dataframe thead th {\n",
              "        text-align: right;\n",
              "    }\n",
              "</style>\n",
              "<table border=\"1\" class=\"dataframe\">\n",
              "  <thead>\n",
              "    <tr style=\"text-align: right;\">\n",
              "      <th></th>\n",
              "      <th>order_id</th>\n",
              "      <th>quantity</th>\n",
              "      <th>choice_description</th>\n",
              "      <th>item_price</th>\n",
              "    </tr>\n",
              "    <tr>\n",
              "      <th>item_name</th>\n",
              "      <th></th>\n",
              "      <th></th>\n",
              "      <th></th>\n",
              "      <th></th>\n",
              "    </tr>\n",
              "  </thead>\n",
              "  <tbody>\n",
              "    <tr>\n",
              "      <th>Chicken Bowl</th>\n",
              "      <td>713926</td>\n",
              "      <td>761</td>\n",
              "      <td>[Tomatillo-Red Chili Salsa (Hot), [Black Beans...</td>\n",
              "      <td>$16.98 $10.98 $11.25 $8.75 $8.49 $11.25 $8.75 ...</td>\n",
              "    </tr>\n",
              "  </tbody>\n",
              "</table>\n",
              "</div>\n",
              "    <div class=\"colab-df-buttons\">\n",
              "\n",
              "  <div class=\"colab-df-container\">\n",
              "    <button class=\"colab-df-convert\" onclick=\"convertToInteractive('df-7ee7b767-bfe9-49a5-9b38-eb0ff891328c')\"\n",
              "            title=\"Convert this dataframe to an interactive table.\"\n",
              "            style=\"display:none;\">\n",
              "\n",
              "  <svg xmlns=\"http://www.w3.org/2000/svg\" height=\"24px\" viewBox=\"0 -960 960 960\">\n",
              "    <path d=\"M120-120v-720h720v720H120Zm60-500h600v-160H180v160Zm220 220h160v-160H400v160Zm0 220h160v-160H400v160ZM180-400h160v-160H180v160Zm440 0h160v-160H620v160ZM180-180h160v-160H180v160Zm440 0h160v-160H620v160Z\"/>\n",
              "  </svg>\n",
              "    </button>\n",
              "\n",
              "  <style>\n",
              "    .colab-df-container {\n",
              "      display:flex;\n",
              "      gap: 12px;\n",
              "    }\n",
              "\n",
              "    .colab-df-convert {\n",
              "      background-color: #E8F0FE;\n",
              "      border: none;\n",
              "      border-radius: 50%;\n",
              "      cursor: pointer;\n",
              "      display: none;\n",
              "      fill: #1967D2;\n",
              "      height: 32px;\n",
              "      padding: 0 0 0 0;\n",
              "      width: 32px;\n",
              "    }\n",
              "\n",
              "    .colab-df-convert:hover {\n",
              "      background-color: #E2EBFA;\n",
              "      box-shadow: 0px 1px 2px rgba(60, 64, 67, 0.3), 0px 1px 3px 1px rgba(60, 64, 67, 0.15);\n",
              "      fill: #174EA6;\n",
              "    }\n",
              "\n",
              "    .colab-df-buttons div {\n",
              "      margin-bottom: 4px;\n",
              "    }\n",
              "\n",
              "    [theme=dark] .colab-df-convert {\n",
              "      background-color: #3B4455;\n",
              "      fill: #D2E3FC;\n",
              "    }\n",
              "\n",
              "    [theme=dark] .colab-df-convert:hover {\n",
              "      background-color: #434B5C;\n",
              "      box-shadow: 0px 1px 3px 1px rgba(0, 0, 0, 0.15);\n",
              "      filter: drop-shadow(0px 1px 2px rgba(0, 0, 0, 0.3));\n",
              "      fill: #FFFFFF;\n",
              "    }\n",
              "  </style>\n",
              "\n",
              "    <script>\n",
              "      const buttonEl =\n",
              "        document.querySelector('#df-7ee7b767-bfe9-49a5-9b38-eb0ff891328c button.colab-df-convert');\n",
              "      buttonEl.style.display =\n",
              "        google.colab.kernel.accessAllowed ? 'block' : 'none';\n",
              "\n",
              "      async function convertToInteractive(key) {\n",
              "        const element = document.querySelector('#df-7ee7b767-bfe9-49a5-9b38-eb0ff891328c');\n",
              "        const dataTable =\n",
              "          await google.colab.kernel.invokeFunction('convertToInteractive',\n",
              "                                                    [key], {});\n",
              "        if (!dataTable) return;\n",
              "\n",
              "        const docLinkHtml = 'Like what you see? Visit the ' +\n",
              "          '<a target=\"_blank\" href=https://colab.research.google.com/notebooks/data_table.ipynb>data table notebook</a>'\n",
              "          + ' to learn more about interactive tables.';\n",
              "        element.innerHTML = '';\n",
              "        dataTable['output_type'] = 'display_data';\n",
              "        await google.colab.output.renderOutput(dataTable, element);\n",
              "        const docLink = document.createElement('div');\n",
              "        docLink.innerHTML = docLinkHtml;\n",
              "        element.appendChild(docLink);\n",
              "      }\n",
              "    </script>\n",
              "  </div>\n",
              "\n",
              "\n",
              "  <div id=\"id_d5239d42-1794-48cb-a19c-b8defcc01e96\">\n",
              "    <style>\n",
              "      .colab-df-generate {\n",
              "        background-color: #E8F0FE;\n",
              "        border: none;\n",
              "        border-radius: 50%;\n",
              "        cursor: pointer;\n",
              "        display: none;\n",
              "        fill: #1967D2;\n",
              "        height: 32px;\n",
              "        padding: 0 0 0 0;\n",
              "        width: 32px;\n",
              "      }\n",
              "\n",
              "      .colab-df-generate:hover {\n",
              "        background-color: #E2EBFA;\n",
              "        box-shadow: 0px 1px 2px rgba(60, 64, 67, 0.3), 0px 1px 3px 1px rgba(60, 64, 67, 0.15);\n",
              "        fill: #174EA6;\n",
              "      }\n",
              "\n",
              "      [theme=dark] .colab-df-generate {\n",
              "        background-color: #3B4455;\n",
              "        fill: #D2E3FC;\n",
              "      }\n",
              "\n",
              "      [theme=dark] .colab-df-generate:hover {\n",
              "        background-color: #434B5C;\n",
              "        box-shadow: 0px 1px 3px 1px rgba(0, 0, 0, 0.15);\n",
              "        filter: drop-shadow(0px 1px 2px rgba(0, 0, 0, 0.3));\n",
              "        fill: #FFFFFF;\n",
              "      }\n",
              "    </style>\n",
              "    <button class=\"colab-df-generate\" onclick=\"generateWithVariable('count')\"\n",
              "            title=\"Generate code using this dataframe.\"\n",
              "            style=\"display:none;\">\n",
              "\n",
              "  <svg xmlns=\"http://www.w3.org/2000/svg\" height=\"24px\"viewBox=\"0 0 24 24\"\n",
              "       width=\"24px\">\n",
              "    <path d=\"M7,19H8.4L18.45,9,17,7.55,7,17.6ZM5,21V16.75L18.45,3.32a2,2,0,0,1,2.83,0l1.4,1.43a1.91,1.91,0,0,1,.58,1.4,1.91,1.91,0,0,1-.58,1.4L9.25,21ZM18.45,9,17,7.55Zm-12,3A5.31,5.31,0,0,0,4.9,8.1,5.31,5.31,0,0,0,1,6.5,5.31,5.31,0,0,0,4.9,4.9,5.31,5.31,0,0,0,6.5,1,5.31,5.31,0,0,0,8.1,4.9,5.31,5.31,0,0,0,12,6.5,5.46,5.46,0,0,0,6.5,12Z\"/>\n",
              "  </svg>\n",
              "    </button>\n",
              "    <script>\n",
              "      (() => {\n",
              "      const buttonEl =\n",
              "        document.querySelector('#id_d5239d42-1794-48cb-a19c-b8defcc01e96 button.colab-df-generate');\n",
              "      buttonEl.style.display =\n",
              "        google.colab.kernel.accessAllowed ? 'block' : 'none';\n",
              "\n",
              "      buttonEl.onclick = () => {\n",
              "        google.colab.notebook.generateWithVariable('count');\n",
              "      }\n",
              "      })();\n",
              "    </script>\n",
              "  </div>\n",
              "\n",
              "    </div>\n",
              "  </div>\n"
            ],
            "application/vnd.google.colaboratory.intrinsic+json": {
              "type": "dataframe",
              "variable_name": "count",
              "summary": "{\n  \"name\": \"count\",\n  \"rows\": 1,\n  \"fields\": [\n    {\n      \"column\": \"item_name\",\n      \"properties\": {\n        \"dtype\": \"string\",\n        \"num_unique_values\": 1,\n        \"samples\": [\n          \"Chicken Bowl\"\n        ],\n        \"semantic_type\": \"\",\n        \"description\": \"\"\n      }\n    },\n    {\n      \"column\": \"order_id\",\n      \"properties\": {\n        \"dtype\": \"number\",\n        \"std\": null,\n        \"min\": 713926,\n        \"max\": 713926,\n        \"num_unique_values\": 1,\n        \"samples\": [\n          713926\n        ],\n        \"semantic_type\": \"\",\n        \"description\": \"\"\n      }\n    },\n    {\n      \"column\": \"quantity\",\n      \"properties\": {\n        \"dtype\": \"number\",\n        \"std\": null,\n        \"min\": 761,\n        \"max\": 761,\n        \"num_unique_values\": 1,\n        \"samples\": [\n          761\n        ],\n        \"semantic_type\": \"\",\n        \"description\": \"\"\n      }\n    },\n    {\n      \"column\": \"choice_description\",\n      \"properties\": {\n        \"dtype\": \"string\",\n        \"num_unique_values\": 1,\n        \"samples\": [\n          \"[Tomatillo-Red Chili Salsa (Hot), [Black Beans, Rice, Cheese, Sour Cream]][Fresh Tomato Salsa (Mild), [Rice, Cheese, Sour Cream, Guacamole, Lettuce]][Fresh Tomato Salsa, [Fajita Vegetables, Rice, Cheese, Sour Cream, Guacamole]][Tomatillo Red Chili Salsa, [Fajita Vegetables, Black Beans, Sour Cream, Cheese, Lettuce]][Roasted Chili Corn Salsa (Medium), [Pinto Beans, Rice, Fajita Veggies, Cheese, Sour Cream, Lettuce]][Roasted Chili Corn Salsa, [Rice, Black Beans, Cheese, Sour Cream, Guacamole, Lettuce]][Fresh Tomato Salsa, [Rice, Black Beans, Pinto Beans, Cheese, Lettuce]][Fresh Tomato Salsa, [Rice, Black Beans, Cheese, Sour Cream, Lettuce]][Tomatillo Red Chili Salsa, [Rice, Fajita Vegetables, Sour Cream, Lettuce]][Tomatillo Red Chili Salsa, [Rice, Black Beans, Cheese, Sour Cream, Lettuce]][Fresh Tomato Salsa, [Guacamole, Cheese, Sour Cream, Fajita Vegetables, Rice]][Fresh Tomato Salsa, [Rice, Fajita Vegetables, Sour Cream, Cheese, Guacamole]][Tomatillo Green Chili Salsa, [Rice, Sour Cream, Cheese, Guacamole]][Fresh Tomato Salsa, [Fajita Vegetables, Rice, Black Beans, Cheese, Guacamole, Lettuce]][Fresh Tomato Salsa, [Fajita Vegetables, Rice, Lettuce]][Fresh Tomato Salsa (Mild), [Black Beans, Rice, Fajita Veggies, Cheese, Sour Cream, Lettuce]][Roasted Chili Corn Salsa (Medium), [Black Beans, Rice, Fajita Veggies, Cheese, Sour Cream, Guacamole, Lettuce]][Fresh Tomato Salsa, [Rice, Black Beans, Sour Cream]][Fresh Tomato Salsa, [Rice, Cheese, Sour Cream]][[Roasted Chili Corn Salsa (Medium), Tomatillo-Red Chili Salsa (Hot)], [Black Beans, Rice, Fajita Veggies, Guacamole, Lettuce]][Fresh Tomato Salsa, [Rice, Cheese, Lettuce]][Roasted Chili Corn Salsa, [Fajita Vegetables, Rice, Black Beans, Cheese, Sour Cream, Guacamole, Lettuce]][Roasted Chili Corn Salsa, [Fajita Vegetables, Rice, Black Beans, Pinto Beans, Cheese, Sour Cream, Guacamole, Lettuce]][Tomatillo Green Chili Salsa, [Rice, Black Beans, Cheese, Sour Cream]][Roasted Chili Corn Salsa, [Rice, Black Beans, Cheese, Sour Cream]][Tomatillo Green Chili Salsa, [Rice, Pinto Beans, Sour Cream, Lettuce]][Fresh Tomato Salsa, [Fajita Vegetables, Rice, Black Beans, Cheese, Sour Cream, Lettuce]][Tomatillo Red Chili Salsa, [Rice, Cheese, Lettuce]][Fresh Tomato Salsa, [Rice, Black Beans, Cheese]][Fresh Tomato Salsa, [Rice, Black Beans, Cheese, Sour Cream]][Fresh Tomato Salsa, [Rice, Cheese, Sour Cream]][Roasted Chili Corn Salsa, [Fajita Vegetables, Rice, Black Beans, Guacamole, Lettuce]][Tomatillo Green Chili Salsa, [Rice, Sour Cream, Guacamole, Lettuce]][Fresh Tomato Salsa (Mild), [Rice, Fajita Veggies, Cheese, Sour Cream, Lettuce]][Fresh Tomato Salsa, [Rice, Black Beans, Cheese, Sour Cream, Guacamole, Lettuce]][Fresh Tomato Salsa, [Rice, Black Beans, Cheese, Sour Cream, Lettuce]][Fresh Tomato Salsa, [Rice, Black Beans, Cheese, Sour Cream]][Fresh Tomato Salsa, [Fajita Vegetables, Rice, Black Beans, Sour Cream]][Tomatillo Red Chili Salsa, [Rice, Cheese]][Tomatillo-Red Chili Salsa (Hot), [Rice, Fajita Veggies, Cheese, Sour Cream, Lettuce]][Fresh Tomato Salsa, [Rice, Cheese, Sour Cream]][Fresh Tomato Salsa, [Rice, Black Beans, Cheese, Sour Cream, Guacamole]][Tomatillo Red Chili Salsa, [Rice, Black Beans, Cheese, Sour Cream, Guacamole, Lettuce]][[Fresh Tomato Salsa (Mild), Tomatillo-Green Chili Salsa (Medium), Roasted Chili Corn Salsa (Medium)], [Black Beans, Rice, Fajita Veggies, Cheese, Guacamole, Lettuce]][Tomatillo Green Chili Salsa, [Sour Cream, Cheese, Guacamole]][Tomatillo Red Chili Salsa][Roasted Chili Corn Salsa, [Rice, Lettuce]][Fresh Tomato Salsa, [Rice, Black Beans, Cheese, Lettuce]][Fresh Tomato Salsa, [Rice, Black Beans, Cheese, Sour Cream, Guacamole, Lettuce]][Fresh Tomato Salsa, [Rice, Black Beans, Cheese]][Fresh Tomato Salsa (Mild), [Black Beans, Rice, Fajita Veggies, Cheese, Sour Cream, Lettuce]][Tomatillo Green Chili Salsa, [Rice, Black Beans, Cheese]][Roasted Chili Corn Salsa, [Rice, Fajita Vegetables, Black Beans, Sour Cream, Cheese, Lettuce]][Fresh Tomato Salsa, [Fajita Vegetables, Rice, Black Beans, Cheese]][Fresh Tomato Salsa, [Rice, Black Beans, Cheese, Sour Cream, Guacamole, Lettuce]][Fresh Tomato Salsa, [Fajita Vegetables, Rice, Black Beans, Cheese]][Fresh Tomato Salsa, [Rice, Black Beans, Cheese, Sour Cream, Lettuce]][Fresh Tomato Salsa, [Fajita Vegetables, Rice, Cheese, Sour Cream, Guacamole]][Roasted Chili Corn Salsa, [Fajita Vegetables, Rice, Black Beans, Guacamole]][Tomatillo-Red Chili Salsa (Hot), Rice][Fresh Tomato Salsa, [Rice, Black Beans, Sour Cream, Cheese]][Fresh Tomato Salsa, [Rice, Cheese, Lettuce]][Tomatillo Green Chili Salsa, [Rice, Black Beans, Cheese]][Roasted Chili Corn Salsa, [Rice, Pinto Beans, Lettuce, Guacamole]][Roasted Chili Corn Salsa (Medium), [Black Beans, Fajita Veggies, Cheese, Guacamole, Lettuce]][Fresh Tomato Salsa, [Rice, Cheese, Lettuce]][Roasted Chili Corn Salsa, [Rice, Black Beans, Cheese, Sour Cream, Guacamole, Lettuce]][Fresh Tomato Salsa (Mild), [Rice, Cheese, Sour Cream, Lettuce]][Fresh Tomato Salsa, [Rice, Pinto Beans, Sour Cream, Cheese, Lettuce]][Tomatillo Green Chili Salsa, [Rice, Black Beans, Sour Cream, Lettuce]][Roasted Chili Corn Salsa, [Rice, Cheese, Lettuce]][Fresh Tomato Salsa, [Rice, Pinto Beans, Cheese, Sour Cream, Lettuce]][Tomatillo-Red Chili Salsa (Hot), [Black Beans, Rice, Fajita Veggies, Cheese, Lettuce]][Fresh Tomato Salsa, [Fajita Vegetables, Rice, Lettuce]][Tomatillo-Red Chili Salsa (Hot), [Black Beans, Rice, Cheese, Sour Cream, Lettuce]][Fresh Tomato Salsa, [Rice, Black Beans, Cheese, Sour Cream, Guacamole, Lettuce]][Fresh Tomato Salsa, [Fajita Vegetables, Rice, Cheese, Sour Cream, Guacamole]][Tomatillo Green Chili Salsa, [Rice, Sour Cream, Cheese, Guacamole]][Tomatillo Green Chili Salsa, [Fajita Vegetables, Rice, Black Beans, Cheese, Sour Cream, Guacamole, Lettuce]][Roasted Chili Corn Salsa, [Rice, Black Beans, Cheese, Sour Cream, Lettuce]][Fresh Tomato Salsa, [Rice, Black Beans, Sour Cream, Cheese]][Roasted Chili Corn Salsa, [Fajita Vegetables, Rice, Black Beans, Cheese, Sour Cream, Guacamole, Lettuce]][Tomatillo-Green Chili Salsa (Medium), Black Beans][Tomatillo-Green Chili Salsa (Medium), Black Beans][Fresh Tomato Salsa, [Rice, Black Beans, Cheese, Sour Cream, Lettuce]][Roasted Chili Corn Salsa, [Fajita Vegetables, Rice, Black Beans, Cheese, Lettuce]][Tomatillo Red Chili Salsa, [Fajita Vegetables, Rice, Black Beans, Cheese, Sour Cream, Lettuce]][[Fresh Tomato Salsa (Mild), Roasted Chili Corn Salsa (Medium)], [Rice, Sour Cream, Guacamole, Lettuce]][Tomatillo Red Chili Salsa, [Rice, Fajita Vegetables, Black Beans, Sour Cream, Cheese]][Tomatillo Red Chili Salsa, [Rice, Cheese, Sour Cream, Lettuce]][[Roasted Chili Corn Salsa (Medium), Fresh Tomato Salsa (Mild)], [Rice, Black Beans, Fajita Veggies, Cheese, Sour Cream, Guacamole]][Tomatillo Red Chili Salsa, [Rice, Black Beans, Cheese, Sour Cream, Lettuce]][Fresh Tomato Salsa, [Rice, Guacamole]][Fresh Tomato Salsa, [Rice, Black Beans, Cheese, Sour Cream, Guacamole]][Tomatillo Green Chili Salsa, [Rice, Pinto Beans, Sour Cream, Lettuce]][Tomatillo Red Chili Salsa, [Rice, Sour Cream, Cheese, Guacamole]][Roasted Chili Corn Salsa, [Fajita Vegetables, Pinto Beans, Sour Cream, Guacamole]][Tomatillo Green Chili Salsa, [Rice, Cheese, Sour Cream, Lettuce]][Tomatillo-Red Chili Salsa (Hot), [Pinto Beans, Rice, Fajita Veggies, Cheese, Sour Cream, Lettuce]][Fresh Tomato Salsa (Mild), [Rice, Fajita Veggies, Sour Cream, Guacamole]][Fresh Tomato Salsa, [Rice, Cheese, Sour Cream]][Roasted Chili Corn Salsa, [Fajita Vegetables, Rice, Cheese, Sour Cream, Guacamole, Lettuce]][Roasted Chili Corn Salsa, [Rice, Cheese, Sour Cream, Lettuce]][Tomatillo Green Chili Salsa, [Rice, Cheese, Sour Cream, Lettuce]][Fresh Tomato Salsa, [Rice, Black Beans, Cheese, Sour Cream]][Fresh Tomato Salsa, [Fajita Vegetables, Rice, Cheese, Sour Cream, Lettuce]][Fresh Tomato Salsa (Mild), [Pinto Beans, Rice, Cheese, Sour Cream, Lettuce]][Tomatillo-Red Chili Salsa (Hot), [Rice, Fajita Veggies, Cheese, Sour Cream, Lettuce]][Fresh Tomato Salsa, [Fajita Vegetables, Rice, Black Beans, Sour Cream]][Roasted Chili Corn Salsa, [Fajita Vegetables, Rice, Black Beans, Cheese, Sour Cream]][Tomatillo Red Chili Salsa, [Rice, Black Beans, Cheese, Lettuce, Guacamole]][Fresh Tomato Salsa, [Fajita Vegetables, Rice, Lettuce]][Fresh Tomato Salsa, [Rice, Black Beans, Cheese, Lettuce]][Fresh Tomato Salsa, [Fajita Vegetables, Rice, Black Beans, Cheese, Sour Cream, Lettuce]][Tomatillo Green Chili Salsa, [Fajita Vegetables, Rice, Black Beans, Cheese, Sour Cream, Lettuce]][Tomatillo Green Chili Salsa, [Rice, Sour Cream, Cheese, Guacamole]][Fresh Tomato Salsa, [Rice, Fajita Vegetables, Pinto Beans, Sour Cream, Cheese, Lettuce, Guacamole]][[Fresh Tomato Salsa (Mild), Tomatillo-Red Chili Salsa (Hot)], [Black Beans, Rice, Cheese, Sour Cream]][Roasted Chili Corn Salsa (Medium), [Black Beans, Rice, Sour Cream, Guacamole]][Roasted Chili Corn Salsa (Medium), [Rice, Cheese]][Roasted Chili Corn Salsa (Medium), [Black Beans, Rice, Cheese, Sour Cream, Lettuce]][Fresh Tomato Salsa, [Rice, Sour Cream, Cheese, Lettuce]][Fresh Tomato Salsa][Fresh Tomato Salsa, [Rice, Cheese, Black Beans]][Fresh Tomato Salsa, [Rice, Cheese, Sour Cream, Lettuce]][Fresh Tomato Salsa, [Rice, Cheese, Sour Cream, Lettuce]][Fresh Tomato Salsa, [Fajita Vegetables, Rice]][[Fresh Tomato Salsa (Mild), Tomatillo-Red Chili Salsa (Hot)], [Black Beans, Rice, Cheese, Sour Cream]][Fresh Tomato Salsa, [Fajita Vegetables, Rice]][[Tomatillo-Green Chili Salsa (Medium), Roasted Chili Corn Salsa (Medium)], [Black Beans, Rice, Cheese, Sour Cream, Lettuce]][Fresh Tomato Salsa, [Fajita Vegetables, Rice, Black Beans, Cheese, Guacamole, Lettuce]][Tomatillo Green Chili Salsa, [Fajita Vegetables, Rice, Cheese, Lettuce]][Fresh Tomato Salsa, [Rice, Fajita Vegetables]][Tomatillo Red Chili Salsa, [Fajita Vegetables, Rice, Black Beans, Cheese, Sour Cream, Guacamole, Lettuce]][Fresh Tomato Salsa, [Fajita Vegetables, Rice, Lettuce]][Fresh Tomato Salsa, [Rice, Black Beans, Cheese]][Fresh Tomato Salsa, [Rice, Cheese, Sour Cream, Lettuce]][Tomatillo Red Chili Salsa, [Rice, Black Beans, Cheese, Sour Cream, Lettuce]][Roasted Chili Corn Salsa, [Rice, Pinto Beans, Cheese, Sour Cream, Guacamole, Lettuce]][Roasted Chili Corn Salsa, [Rice, Cheese, Lettuce]][Fresh Tomato Salsa, [Fajita Vegetables, Rice]][Roasted Chili Corn Salsa, [Fajita Vegetables, Rice, Pinto Beans, Cheese, Sour Cream, Lettuce]][[Roasted Chili Corn Salsa (Medium), Tomatillo-Red Chili Salsa (Hot)], [Pinto Beans, Rice, Fajita Veggies]][Roasted Chili Corn Salsa, [Fajita Vegetables, Rice, Black Beans, Cheese]][Fresh Tomato Salsa, [Fajita Vegetables, Rice, Black Beans, Cheese, Guacamole, Lettuce]][Roasted Chili Corn Salsa, [Rice, Black Beans, Cheese, Guacamole]][Fresh Tomato Salsa, [Rice, Black Beans, Cheese, Sour Cream, Lettuce]][Roasted Chili Corn Salsa, [Rice, Black Beans, Cheese, Sour Cream, Guacamole]][Fresh Tomato Salsa, [Rice, Black Beans, Cheese, Guacamole]][[Fresh Tomato Salsa (Mild), Tomatillo-Red Chili Salsa (Hot)], [Black Beans, Rice, Cheese, Sour Cream, Guacamole]][Tomatillo-Red Chili Salsa (Hot), [Pinto Beans, Rice, Cheese, Sour Cream, Guacamole]][Roasted Chili Corn Salsa, [Rice, Black Beans, Sour Cream, Guacamole]][Tomatillo Green Chili Salsa, [Rice, Cheese, Guacamole, Lettuce]][Fresh Tomato Salsa, [Fajita Vegetables, Rice]][Fresh Tomato Salsa, [Rice, Black Beans]][Fresh Tomato Salsa, [Fajita Vegetables, Rice]][Fresh Tomato Salsa, [Fajita Vegetables, Rice, Cheese, Sour Cream, Guacamole, Lettuce]][Fresh Tomato Salsa (Mild), [Rice, Black Beans, Fajita Veggies, Cheese, Guacamole, Lettuce]][Roasted Chili Corn Salsa, [Rice, Black Beans, Cheese, Sour Cream, Lettuce]][Roasted Chili Corn Salsa, [Fajita Vegetables, Black Beans, Guacamole]][Tomatillo Green Chili Salsa, [Rice, Pinto Beans, Sour Cream, Lettuce]][[Fresh Tomato Salsa (Mild), Tomatillo-Red Chili Salsa (Hot)], [Black Beans, Rice, Cheese, Sour Cream]][Fresh Tomato Salsa (Mild), [Black Beans, Rice, Cheese]][Tomatillo Red Chili Salsa, [Black Beans, Cheese, Sour Cream]][Fresh Tomato Salsa, [Rice, Cheese, Sour Cream, Lettuce]][Fresh Tomato Salsa, [Rice, Fajita Vegetables]][Tomatillo Red Chili Salsa, [Rice, Cheese, Lettuce]][Tomatillo Green Chili Salsa, [Rice, Black Beans, Pinto Beans, Guacamole, Lettuce]][Roasted Chili Corn Salsa, [Rice, Black Beans, Sour Cream]][Tomatillo Red Chili Salsa, [Fajita Vegetables, Rice, Black Beans, Cheese, Sour Cream]][Tomatillo-Green Chili Salsa (Medium), [Fajita Veggies, Cheese, Guacamole, Lettuce]][Roasted Chili Corn Salsa, [Rice, Black Beans, Cheese, Lettuce, Guacamole]][Roasted Chili Corn Salsa (Medium), [Rice, Cheese]][Fresh Tomato Salsa, [Rice, Lettuce]][Roasted Chili Corn Salsa, [Rice, Black Beans, Cheese]][Tomatillo Red Chili Salsa, [Fajita Vegetables, Rice, Cheese, Guacamole]][Fresh Tomato Salsa, [Rice, Sour Cream, Guacamole]][[Fresh Tomato Salsa (Mild), Roasted Chili Corn Salsa (Medium)], [Rice, Fajita Veggies]][Roasted Chili Corn Salsa, [Fajita Vegetables, Rice, Sour Cream, Lettuce]][Fresh Tomato Salsa, [Fajita Vegetables, Rice, Black Beans, Pinto Beans, Cheese, Sour Cream, Guacamole]][[Roasted Chili Corn Salsa (Medium), Tomatillo-Red Chili Salsa (Hot)], [Pinto Beans, Rice, Fajita Veggies, Cheese, Lettuce]][Fresh Tomato Salsa (Mild), [Black Beans, Rice, Sour Cream, Guacamole]][Fresh Tomato Salsa, [Fajita Vegetables, Rice]][Fresh Tomato Salsa, [Rice, Black Beans, Cheese, Sour Cream, Guacamole, Lettuce]][Fresh Tomato Salsa, [Rice, Black Beans, Cheese, Sour Cream, Lettuce]][Fresh Tomato Salsa, [Fajita Vegetables, Pinto Beans, Guacamole, Lettuce]][Fresh Tomato Salsa, [Rice, Cheese, Sour Cream, Lettuce]][Tomatillo Red Chili Salsa, [Fajita Vegetables, Rice, Black Beans, Cheese, Sour Cream]][Fresh Tomato Salsa, [Rice, Black Beans, Cheese]][Fresh Tomato Salsa, [Rice, Black Beans, Cheese, Sour Cream, Lettuce]][Fresh Tomato Salsa, [Sour Cream, Lettuce, Rice, Cheese]][Roasted Chili Corn Salsa, [Rice, Fajita Vegetables, Black Beans, Sour Cream, Cheese, Lettuce]][Roasted Chili Corn Salsa, [Fajita Vegetables, Rice, Black Beans, Pinto Beans, Cheese, Guacamole, Lettuce]][Tomatillo Green Chili Salsa, [Rice, Sour Cream, Cheese, Guacamole]][Fresh Tomato Salsa (Mild), [Black Beans, Rice, Fajita Veggies, Cheese, Sour Cream, Lettuce]][[Fresh Tomato Salsa (Mild), Roasted Chili Corn Salsa (Medium), Tomatillo-Red Chili Salsa (Hot)], [Black Beans, Rice, Fajita Veggies, Cheese, Sour Cream, Lettuce]][Fresh Tomato Salsa (Mild), [Black Beans, Rice, Cheese, Sour Cream, Lettuce]][Fresh Tomato Salsa, [Rice, Cheese, Lettuce]][Fresh Tomato Salsa, [Rice, Cheese, Sour Cream, Lettuce]][Fresh Tomato Salsa, [Fajita Vegetables, Rice, Cheese, Guacamole]][Fresh Tomato Salsa, [Rice, Guacamole, Lettuce]][Roasted Chili Corn Salsa, [Fajita Vegetables, Lettuce, Black Beans]][Roasted Chili Corn Salsa, [Fajita Vegetables, Cheese, Lettuce]][Roasted Chili Corn Salsa, [Rice, Fajita Vegetables, Cheese, Lettuce]][Fresh Tomato Salsa, [Fajita Vegetables, Rice]][Fresh Tomato Salsa, [Fajita Vegetables, Rice, Sour Cream, Lettuce]][Fresh Tomato Salsa, [Fajita Vegetables, Rice, Cheese, Sour Cream, Guacamole, Lettuce]][Fresh Tomato Salsa, [Rice, Fajita Vegetables, Cheese, Lettuce, Guacamole]][Tomatillo Green Chili Salsa, [Rice, Pinto Beans, Sour Cream, Lettuce]][Tomatillo Green Chili Salsa, [Rice, Cheese, Sour Cream, Lettuce]][Fresh Tomato Salsa, [Rice, Cheese, Sour Cream, Guacamole, Lettuce]][Tomatillo Green Chili Salsa, [Fajita Vegetables, Rice, Black Beans]][Tomatillo-Red Chili Salsa (Hot), [Rice, Cheese, Sour Cream, Lettuce]][Tomatillo-Red Chili Salsa (Hot), [Rice, Fajita Veggies, Sour Cream, Lettuce]][Fresh Tomato Salsa, [Rice, Fajita Vegetables, Sour Cream, Cheese, Guacamole]][Tomatillo Red Chili Salsa, [Rice, Black Beans, Cheese, Sour Cream, Lettuce]][[Fresh Tomato Salsa (Mild), Tomatillo-Red Chili Salsa (Hot)], [Black Beans, Rice, Cheese, Sour Cream]][Tomatillo-Red Chili Salsa (Hot), [Black Beans, Rice, Cheese, Lettuce]][Roasted Chili Corn Salsa (Medium), [Rice, Cheese, Lettuce]][Tomatillo-Red Chili Salsa (Hot), [Black Beans, Rice, Cheese, Lettuce]][Tomatillo Red Chili Salsa, [Rice, Pinto Beans, Cheese, Lettuce]][Fresh Tomato Salsa, [Rice, Cheese, Sour Cream, Guacamole]][Roasted Chili Corn Salsa, [Rice, Cheese, Sour Cream, Guacamole]][Fresh Tomato Salsa, [Fajita Vegetables, Rice]][[Fresh Tomato Salsa (Mild), Roasted Chili Corn Salsa (Medium)], [Rice, Fajita Veggies]][Tomatillo Red Chili Salsa, [Rice, Black Beans, Cheese, Sour Cream, Guacamole, Lettuce]][[Fresh Tomato Salsa (Mild), Roasted Chili Corn Salsa (Medium), Tomatillo-Red Chili Salsa (Hot)], [Black Beans, Rice, Cheese, Sour Cream]][Tomatillo-Red Chili Salsa (Hot), [Pinto Beans, Rice, Fajita Veggies, Cheese, Sour Cream]][Fresh Tomato Salsa, [Rice, Black Beans, Cheese, Sour Cream, Guacamole]][Roasted Chili Corn Salsa, [Fajita Vegetables, Rice, Pinto Beans, Cheese, Guacamole, Lettuce]][Fresh Tomato Salsa (Mild), [Pinto Beans, Rice, Fajita Veggies, Cheese, Sour Cream, Guacamole, Lettuce]][Fresh Tomato Salsa, [Sour Cream, Cheese]][Fresh Tomato Salsa, [Rice, Cheese, Lettuce]][Tomatillo-Green Chili Salsa (Medium), [Pinto Beans, Rice, Fajita Veggies, Lettuce]][Fresh Tomato Salsa, [Rice, Black Beans, Cheese]][Roasted Chili Corn Salsa (Medium), [Rice, Fajita Veggies, Cheese]][Fresh Tomato Salsa (Mild), [Black Beans, Rice, Fajita Veggies, Cheese]][[Roasted Chili Corn Salsa (Medium), Tomatillo-Red Chili Salsa (Hot)], [Pinto Beans, Rice, Fajita Veggies, Cheese]][Roasted Chili Corn Salsa, [Rice, Black Beans, Cheese]][Tomatillo-Red Chili Salsa (Hot), [Rice, Cheese, Sour Cream, Lettuce]][[Fresh Tomato Salsa (Mild), Roasted Chili Corn Salsa (Medium)], [Black Beans, Rice, Fajita Veggies, Cheese, Sour Cream, Guacamole, Lettuce]][Roasted Chili Corn Salsa, [Rice, Black Beans, Cheese, Sour Cream, Lettuce]][Fresh Tomato Salsa, [Rice, Fajita Vegetables, Sour Cream, Cheese, Guacamole]][[Fresh Tomato Salsa (Mild), Tomatillo-Red Chili Salsa (Hot)], [Black Beans, Rice, Cheese, Sour Cream]][Tomatillo Red Chili Salsa, [Rice, Black Beans, Cheese, Sour Cream, Lettuce]][[Tomatillo-Green Chili Salsa (Medium), Roasted Chili Corn Salsa (Medium)], [Black Beans, Rice, Fajita Veggies, Cheese, Sour Cream, Lettuce]][Tomatillo Red Chili Salsa, [Rice, Black Beans, Cheese, Lettuce, Guacamole]][[Fresh Tomato Salsa (Mild), Tomatillo-Red Chili Salsa (Hot)], [Black Beans, Rice, Cheese, Sour Cream]][Tomatillo Green Chili Salsa, [Rice, Cheese, Lettuce]][Fresh Tomato Salsa, [Fajita Vegetables, Rice]][Tomatillo-Red Chili Salsa (Hot), [Sour Cream, Cheese, Fajita Veggies, Guacamole, Rice, Pinto Beans]][[Roasted Chili Corn Salsa (Medium), Tomatillo-Red Chili Salsa (Hot), Fresh Tomato Salsa (Mild), Tomatillo-Green Chili Salsa (Medium)], [Rice, Black Beans, Fajita Veggies, Cheese, Sour Cream]][Tomatillo Green Chili Salsa, [Rice, Black Beans, Sour Cream, Cheese]][Roasted Chili Corn Salsa, [Rice, Cheese, Sour Cream, Lettuce]][Fresh Tomato Salsa, [Fajita Vegetables, Rice]][Tomatillo-Red Chili Salsa (Hot), [Black Beans, Rice, Cheese, Lettuce]][Roasted Chili Corn Salsa (Medium), [Rice, Cheese, Lettuce]][Fresh Tomato Salsa, [Rice, Black Beans, Pinto Beans, Guacamole, Lettuce]][Tomatillo Green Chili Salsa, [Rice, Black Beans, Cheese, Sour Cream, Lettuce]][Fresh Tomato Salsa, [Fajita Vegetables, Rice, Guacamole, Lettuce]][Fresh Tomato Salsa, [Rice, Fajita Vegetables]][Fresh Tomato Salsa, [Rice, Black Beans, Cheese]][[Fresh Tomato Salsa (Mild), Tomatillo-Red Chili Salsa (Hot)], [Black Beans, Rice, Cheese, Sour Cream]][Roasted Chili Corn Salsa, [Rice, Black Beans, Cheese, Lettuce]][Tomatillo Red Chili Salsa, [Rice, Black Beans, Sour Cream, Cheese, Lettuce]][Tomatillo Green Chili Salsa, [Rice, Black Beans, Sour Cream, Cheese]][[Fresh Tomato Salsa (Mild), Roasted Chili Corn Salsa (Medium), Tomatillo-Red Chili Salsa (Hot)], [Pinto Beans, Rice, Fajita Veggies, Cheese, Sour Cream, Lettuce]][Fresh Tomato Salsa (Mild), [Rice, Black Beans, Fajita Veggies, Cheese, Guacamole, Lettuce]][Fresh Tomato Salsa, [Rice, Black Beans, Cheese, Sour Cream]][Tomatillo Green Chili Salsa, [Rice, Cheese, Guacamole]][Tomatillo-Green Chili Salsa (Medium), [Black Beans, Rice, Cheese, Sour Cream]][Fresh Tomato Salsa (Mild), [Pinto Beans, Rice, Sour Cream, Guacamole]][Fresh Tomato Salsa (Mild), [Black Beans, Rice, Cheese, Sour Cream, Guacamole, Lettuce]][Tomatillo Red Chili Salsa, [Rice, Black Beans, Sour Cream, Cheese, Lettuce]][Fresh Tomato Salsa (Mild), [Rice, Pinto Beans, Cheese, Guacamole, Lettuce]][Fresh Tomato Salsa, [Rice, Black Beans, Cheese, Guacamole, Lettuce]][Tomatillo Green Chili Salsa, [Rice, Black Beans, Cheese, Guacamole]][Tomatillo Red Chili Salsa, [Fajita Vegetables, Rice, Black Beans, Cheese, Guacamole, Lettuce]][Fresh Tomato Salsa, [Fajita Vegetables, Rice, Pinto Beans, Cheese, Guacamole, Lettuce]][Tomatillo Red Chili Salsa, [Rice, Pinto Beans, Guacamole, Lettuce]][Fresh Tomato Salsa, [Rice, Black Beans, Cheese]][Fresh Tomato Salsa, [Fajita Vegetables, Rice, Sour Cream, Lettuce]][Fresh Tomato Salsa (Mild), [Rice, Black Beans, Fajita Veggies, Cheese, Sour Cream, Lettuce]][Tomatillo Green Chili Salsa, [Rice, Sour Cream, Guacamole]][Tomatillo Red Chili Salsa, [Rice, Black Beans, Sour Cream, Cheese, Lettuce]][Fresh Tomato Salsa, [Rice, Black Beans, Cheese, Guacamole, Lettuce]][Roasted Chili Corn Salsa, [Fajita Vegetables, Rice, Pinto Beans, Cheese, Sour Cream, Guacamole, Lettuce]][Roasted Chili Corn Salsa, [Rice, Pinto Beans, Cheese, Sour Cream, Guacamole, Lettuce]][Roasted Chili Corn Salsa, [Rice, Black Beans, Cheese, Sour Cream, Lettuce]][[Fresh Tomato Salsa (Mild), Tomatillo-Red Chili Salsa (Hot)], [Black Beans, Rice, Cheese, Sour Cream, Guacamole]][[Fresh Tomato Salsa (Mild), Roasted Chili Corn Salsa (Medium)], [Black Beans, Guacamole]][Fresh Tomato Salsa, [Rice, Black Beans, Lettuce]][[Fresh Tomato Salsa (Mild), Roasted Chili Corn Salsa (Medium)], [Rice, Fajita Veggies]][Fresh Tomato Salsa, [Sour Cream, Guacamole, Lettuce]][Fresh Tomato Salsa, Cheese][Tomatillo-Red Chili Salsa (Hot), [Pinto Beans, Cheese, Sour Cream, Rice, Fajita Veggies, Guacamole]][Fresh Tomato Salsa, [Fajita Vegetables, Rice]][Tomatillo Red Chili Salsa, [Rice, Black Beans]][Fresh Tomato Salsa, [Black Beans, Cheese, Sour Cream]][Tomatillo Green Chili Salsa, [Fajita Vegetables, Rice, Cheese, Guacamole, Lettuce]][Fresh Tomato Salsa, [Fajita Vegetables, Rice]][[Fresh Tomato Salsa (Mild), Tomatillo-Red Chili Salsa (Hot)], [Guacamole, Rice, Black Beans, Cheese, Sour Cream]][Roasted Chili Corn Salsa (Medium), [Black Beans, Rice, Cheese, Sour Cream, Lettuce]][Fresh Tomato Salsa, [Fajita Vegetables, Rice, Guacamole, Lettuce]][Fresh Tomato Salsa, [Rice, Black Beans, Cheese]][[Fresh Tomato Salsa (Mild), Roasted Chili Corn Salsa (Medium)], [Black Beans, Cheese, Guacamole]][Fresh Tomato Salsa, [Rice, Black Beans, Lettuce]][Fresh Tomato Salsa, [Rice, Pinto Beans, Sour Cream, Cheese, Lettuce]][Fresh Tomato Salsa, [Rice, Cheese, Lettuce]][Fresh Tomato Salsa, [Fajita Vegetables, Rice, Black Beans, Cheese, Guacamole]][Tomatillo Red Chili Salsa, [Rice, Black Beans, Cheese, Sour Cream]][Fresh Tomato Salsa, [Rice, Black Beans, Sour Cream, Cheese, Guacamole]][Roasted Chili Corn Salsa, [Fajita Vegetables, Rice, Black Beans, Lettuce]][Roasted Chili Corn Salsa, [Fajita Vegetables, Black Beans, Pinto Beans, Cheese, Lettuce]][Tomatillo Red Chili Salsa, [Rice, Black Beans, Sour Cream, Cheese, Lettuce]][Tomatillo Red Chili Salsa, [Rice, Cheese, Sour Cream, Lettuce]][Roasted Chili Corn Salsa, [Rice, Black Beans, Guacamole]][Fresh Tomato Salsa, [Fajita Vegetables, Rice]][Fresh Tomato Salsa, [Rice, Black Beans, Cheese, Sour Cream, Guacamole]][Tomatillo Green Chili Salsa, [Rice, Pinto Beans, Sour Cream, Lettuce]][Fresh Tomato Salsa][Fresh Tomato Salsa, [Fajita Vegetables, Rice, Lettuce]][Roasted Chili Corn Salsa, [Rice, Black Beans, Cheese, Sour Cream, Lettuce]][Fresh Tomato Salsa, [Fajita Vegetables, Rice, Lettuce]][Fresh Tomato Salsa, [Rice, Pinto Beans, Cheese, Sour Cream, Lettuce]][Roasted Chili Corn Salsa, [Cheese, Lettuce, Fajita Vegetables, Rice]][Roasted Chili Corn Salsa, [Fajita Vegetables, Rice, Cheese, Sour Cream, Lettuce]][Roasted Chili Corn Salsa, [Fajita Vegetables, Rice, Cheese, Sour Cream]][Roasted Chili Corn Salsa, [Fajita Vegetables, Rice, Cheese, Sour Cream, Lettuce]][Fresh Tomato Salsa, [Rice, Black Beans, Cheese, Sour Cream, Lettuce]][Fresh Tomato Salsa, [Rice, Lettuce]][Fresh Tomato Salsa, [Rice, Cheese, Sour Cream, Lettuce]][Roasted Chili Corn Salsa, [Fajita Vegetables, Rice, Cheese, Sour Cream, Lettuce]][Roasted Chili Corn Salsa, [Rice, Pinto Beans, Cheese, Sour Cream, Lettuce]][Roasted Chili Corn Salsa, [Rice, Cheese]][Fresh Tomato Salsa, [Rice, Black Beans, Cheese, Sour Cream, Lettuce]][Fresh Tomato Salsa, [Rice, Black Beans, Sour Cream, Guacamole, Lettuce]][Fresh Tomato Salsa, [Rice, Black Beans, Cheese, Sour Cream, Guacamole]][Fresh Tomato Salsa, [Rice, Cheese, Lettuce]][[Fresh Tomato Salsa (Mild), Roasted Chili Corn Salsa (Medium)], [Rice, Fajita Veggies]][Fresh Tomato Salsa, [Rice, Pinto Beans, Cheese, Sour Cream, Lettuce]][Fresh Tomato Salsa, [Fajita Vegetables, Rice, Black Beans, Cheese, Guacamole, Lettuce]][Fresh Tomato Salsa, [Rice, Fajita Vegetables]][Roasted Chili Corn Salsa (Medium), [Black Beans, Rice, Cheese, Guacamole, Lettuce]][Fresh Tomato Salsa, [Rice, Black Beans, Cheese, Sour Cream]][Tomatillo Green Chili Salsa, [Rice, Cheese, Sour Cream, Guacamole]][Tomatillo Green Chili Salsa, [Fajita Vegetables, Rice, Pinto Beans, Cheese, Sour Cream, Lettuce]][Fresh Tomato Salsa (Mild), [Black Beans, Rice, Fajita Veggies, Cheese, Sour Cream, Lettuce]][Fresh Tomato Salsa, [Rice, Black Beans, Cheese, Lettuce]][Fresh Tomato Salsa, [Fajita Vegetables, Rice, Black Beans, Pinto Beans, Cheese, Sour Cream, Guacamole, Lettuce]][Fresh Tomato Salsa, [Rice, Cheese, Sour Cream, Lettuce]][Fresh Tomato Salsa, [Rice, Black Beans, Cheese, Sour Cream, Lettuce]][Roasted Chili Corn Salsa, [Rice, Black Beans, Cheese, Sour Cream, Lettuce]][Tomatillo-Red Chili Salsa (Hot), [Black Beans, Rice, Cheese, Lettuce]][Fresh Tomato Salsa, [Rice, Black Beans, Cheese, Sour Cream, Guacamole, Lettuce]][Fresh Tomato Salsa, [Rice, Black Beans, Cheese, Sour Cream, Guacamole]][[Fresh Tomato Salsa (Mild), Roasted Chili Corn Salsa (Medium)], [Black Beans, Rice, Fajita Veggies, Lettuce]][Fresh Tomato Salsa, [Rice, Pinto Beans, Cheese]][Tomatillo Red Chili Salsa, [Rice, Black Beans, Sour Cream, Cheese, Lettuce]][Tomatillo Red Chili Salsa, [Rice, Black Beans, Sour Cream, Cheese, Lettuce]][Tomatillo Green Chili Salsa, [Rice, Cheese, Sour Cream, Lettuce]][Tomatillo Red Chili Salsa, [Rice, Black Beans, Sour Cream, Guacamole, Lettuce]][Tomatillo Green Chili Salsa, [Rice, Black Beans, Sour Cream, Lettuce]][Roasted Chili Corn Salsa, [Rice, Black Beans, Cheese, Guacamole]][[Fresh Tomato Salsa (Mild), Roasted Chili Corn Salsa (Medium)], [Rice, Cheese, Sour Cream, Guacamole, Lettuce]][Roasted Chili Corn Salsa (Medium), [Pinto Beans, Rice, Cheese, Sour Cream, Lettuce]][Roasted Chili Corn Salsa, [Fajita Vegetables, Rice, Pinto Beans, Cheese, Sour Cream, Lettuce]][Fresh Tomato Salsa, [Fajita Vegetables, Rice, Pinto Beans, Cheese, Sour Cream, Lettuce]][Tomatillo-Red Chili Salsa (Hot), [Black Beans, Cheese, Lettuce]][Fresh Tomato Salsa, [Guacamole, Cheese, Sour Cream, Fajita Vegetables, Rice]][Fresh Tomato Salsa, Cheese][Fresh Tomato Salsa, [Rice, Black Beans, Guacamole, Lettuce]][Roasted Chili Corn Salsa, [Rice, Black Beans, Cheese, Guacamole]][Tomatillo-Red Chili Salsa (Hot), [Rice, Cheese, Sour Cream, Lettuce]][Fresh Tomato Salsa, [Black Beans, Cheese, Guacamole, Lettuce]][Tomatillo-Red Chili Salsa (Hot), [Rice, Fajita Veggies, Pinto Beans, Sour Cream, Cheese, Guacamole]][Fresh Tomato Salsa, [Fajita Vegetables, Rice, Black Beans, Cheese, Sour Cream, Lettuce]][Fresh Tomato Salsa, [Fajita Vegetables, Rice]][Tomatillo-Red Chili Salsa (Hot), [Black Beans, Rice, Cheese, Lettuce]][Tomatillo-Red Chili Salsa (Hot), [Rice, Black Beans, Cheese, Lettuce]][Tomatillo Red Chili Salsa, [Fajita Vegetables, Rice, Black Beans, Cheese, Sour Cream, Guacamole, Lettuce]][Fresh Tomato Salsa, [Fajita Vegetables, Rice, Black Beans, Cheese, Sour Cream, Guacamole, Lettuce]][Fresh Tomato Salsa, [Fajita Vegetables, Rice, Sour Cream, Guacamole]][Fresh Tomato Salsa, [Rice, Black Beans, Cheese]][Tomatillo Red Chili Salsa, [Rice, Fajita Vegetables, Black Beans, Cheese, Lettuce, Guacamole]][[Roasted Chili Corn Salsa (Medium), Fresh Tomato Salsa (Mild)], [Rice, Fajita Veggies]][[Tomatillo-Green Chili Salsa (Medium), Roasted Chili Corn Salsa (Medium)], [Black Beans, Rice, Fajita Veggies, Cheese, Sour Cream, Guacamole]][Fresh Tomato Salsa, [Rice, Cheese, Sour Cream, Lettuce]][Fresh Tomato Salsa, [Rice, Black Beans, Cheese, Sour Cream]][Tomatillo Red Chili Salsa, Fajita Vegetables][Fresh Tomato Salsa, [Fajita Vegetables, Rice, Guacamole, Lettuce]][Fresh Tomato Salsa, [Sour Cream, Fajita Vegetables, Rice, Guacamole, Cheese]][Fresh Tomato Salsa, [Fajita Vegetables, Rice, Black Beans, Cheese, Sour Cream, Guacamole, Lettuce]][Fresh Tomato Salsa (Mild), [Black Beans, Rice, Fajita Veggies, Cheese, Sour Cream, Guacamole, Lettuce]][Fresh Tomato Salsa, [Rice, Black Beans, Sour Cream, Guacamole, Lettuce]][Fresh Tomato Salsa (Mild), [Rice, Fajita Veggies, Cheese, Lettuce]][Tomatillo Red Chili Salsa, Rice][Roasted Chili Corn Salsa, [Rice, Black Beans, Sour Cream, Cheese, Guacamole]][Fresh Tomato Salsa, [Rice, Cheese, Lettuce]][Fresh Tomato Salsa, [Fajita Vegetables, Rice, Cheese, Sour Cream, Guacamole, Lettuce]][Tomatillo Red Chili Salsa, [Fajita Vegetables, Rice, Black Beans, Cheese, Lettuce]][Tomatillo Red Chili Salsa, [Rice, Black Beans, Cheese, Sour Cream, Guacamole, Lettuce]][Fresh Tomato Salsa (Mild), [Rice, Black Beans, Sour Cream, Guacamole]][Roasted Chili Corn Salsa, [Fajita Vegetables, Rice, Pinto Beans, Cheese, Sour Cream, Lettuce]][Fresh Tomato Salsa, [Fajita Vegetables, Rice, Lettuce]][Fresh Tomato Salsa, [Fajita Vegetables, Rice, Sour Cream, Lettuce]][Tomatillo Green Chili Salsa, [Rice, Pinto Beans, Sour Cream, Lettuce]][Tomatillo Red Chili Salsa, [Rice, Black Beans, Sour Cream, Cheese, Lettuce, Guacamole]][Fresh Tomato Salsa, [Rice, Black Beans, Cheese, Guacamole, Lettuce]][Fresh Tomato Salsa, [Rice, Black Beans, Cheese, Guacamole, Lettuce]][Roasted Chili Corn Salsa, [Rice, Pinto Beans, Cheese, Sour Cream, Lettuce]][Fresh Tomato Salsa, [Pinto Beans, Cheese, Guacamole]][Fresh Tomato Salsa, [Rice, Black Beans, Cheese]][Fresh Tomato Salsa, [Rice, Cheese, Sour Cream]][Fresh Tomato Salsa, [Rice, Black Beans, Guacamole, Lettuce]][Fresh Tomato Salsa (Mild), [Pinto Beans, Rice, Cheese, Sour Cream, Guacamole, Lettuce]][[Roasted Chili Corn Salsa (Medium), Fresh Tomato Salsa (Mild)], [Rice, Fajita Veggies]][Fresh Tomato Salsa, [Rice, Fajita Vegetables, Black Beans]][Fresh Tomato Salsa, [Cheese, Guacamole, Sour Cream, Fajita Vegetables, Rice]][Fresh Tomato Salsa, [Rice, Cheese, Lettuce]][Fresh Tomato Salsa, [Rice, Black Beans, Cheese, Sour Cream, Lettuce]][Fresh Tomato Salsa, [Rice, Cheese, Sour Cream, Lettuce]][Roasted Chili Corn Salsa, [Rice, Black Beans, Sour Cream, Cheese, Guacamole]][Tomatillo-Red Chili Salsa (Hot), [Black Beans, Rice, Cheese, Lettuce]][Fresh Tomato Salsa (Mild), [Rice, Cheese, Sour Cream, Guacamole, Lettuce]][Fresh Tomato Salsa, [Fajita Vegetables, Rice, Cheese, Sour Cream, Lettuce]][Tomatillo Green Chili Salsa, [Rice, Pinto Beans, Cheese, Lettuce]][Fresh Tomato Salsa, [Fajita Vegetables, Rice, Sour Cream, Guacamole, Lettuce]][Tomatillo Red Chili Salsa, [Rice, Black Beans, Pinto Beans, Cheese, Sour Cream]][Fresh Tomato Salsa, [Fajita Vegetables, Rice, Cheese, Lettuce]][Fresh Tomato Salsa, [Rice, Cheese, Sour Cream]][Fresh Tomato Salsa, [Fajita Vegetables, Rice, Black Beans, Cheese, Guacamole, Lettuce]][Fresh Tomato Salsa, [Fajita Vegetables, Rice, Pinto Beans, Cheese, Sour Cream, Guacamole, Lettuce]][Fresh Tomato (Mild), [Rice, Sour Cream, Cheese]][Fresh Tomato (Mild), [Guacamole, Rice]][Roasted Chili Corn Salsa, [Rice, Cheese, Sour Cream, Guacamole, Lettuce]][Tomatillo Green Chili Salsa, [Rice, Pinto Beans, Sour Cream, Lettuce]][Tomatillo Red Chili Salsa, [Rice, Black Beans, Cheese, Lettuce]][Tomatillo-Green Chili Salsa (Medium), [Black Beans, Rice, Fajita Veggies, Cheese, Sour Cream, Guacamole, Lettuce]][[Fresh Tomato Salsa (Mild), Tomatillo-Green Chili Salsa (Medium)], [Rice, Fajita Veggies, Cheese, Sour Cream, Lettuce]][Roasted Chili Corn Salsa (Medium), [Rice, Fajita Veggies, Cheese, Sour Cream, Lettuce]][Roasted Chili Corn Salsa, [Fajita Vegetables, Rice, Pinto Beans, Cheese, Lettuce]][Roasted Chili Corn Salsa, [Fajita Vegetables, Rice, Black Beans, Cheese, Guacamole, Lettuce]][Fresh Tomato Salsa, [Rice, Black Beans, Guacamole]][Fresh Tomato Salsa (Mild), [Black Beans, Rice, Cheese]][Tomatillo-Red Chili Salsa (Hot), [Rice, Black Beans, Cheese, Lettuce]][Tomatillo-Red Chili Salsa (Hot), [Rice, Black Beans, Cheese, Lettuce]][Fresh Tomato Salsa, [Rice, Black Beans, Cheese, Sour Cream, Lettuce]][Fresh Tomato Salsa, [Sour Cream, Fajita Vegetables, Rice, Guacamole, Cheese]][Fresh Tomato Salsa, [Rice, Black Beans, Guacamole]][Fresh Tomato Salsa, [Fajita Vegetables, Rice, Black Beans, Cheese, Guacamole, Lettuce]][[Roasted Chili Corn Salsa (Medium), Tomatillo-Red Chili Salsa (Hot), Fresh Tomato Salsa (Mild)], [Rice, Pinto Beans, Fajita Veggies, Cheese, Sour Cream, Lettuce]][Fresh Tomato Salsa, [Sour Cream, Guacamole, Lettuce]][Fresh Tomato Salsa, [Fajita Vegetables, Rice, Cheese, Sour Cream, Guacamole, Lettuce]][Fresh Tomato Salsa, [Fajita Vegetables, Rice, Black Beans, Cheese, Sour Cream, Lettuce]][Tomatillo-Red Chili Salsa (Hot), [Cheese, Lettuce, Rice, Black Beans]][[Fresh Tomato Salsa (Mild), Roasted Chili Corn Salsa (Medium)], [Black Beans, Rice, Fajita Veggies, Cheese, Sour Cream, Lettuce]][Fresh Tomato Salsa, [Rice, Cheese, Lettuce]][Fresh Tomato Salsa, [Fajita Vegetables, Rice, Black Beans, Guacamole, Lettuce]][Fresh Tomato Salsa, [Rice, Pinto Beans, Cheese, Lettuce]][[Tomatillo-Red Chili Salsa (Hot), Tomatillo-Green Chili Salsa (Medium)], [Rice, Black Beans, Lettuce]][Roasted Chili Corn Salsa (Medium), [Rice, Fajita Veggies, Cheese, Sour Cream, Lettuce]][Tomatillo Green Chili Salsa, [Sour Cream, Cheese, Guacamole]][Fresh Tomato Salsa, [Rice, Black Beans, Cheese, Sour Cream, Guacamole, Lettuce]][Fresh Tomato Salsa, [Fajita Vegetables, Rice, Cheese, Sour Cream, Guacamole, Lettuce]][Fresh Tomato Salsa, [Fajita Vegetables, Rice, Black Beans, Guacamole, Lettuce]][Tomatillo Green Chili Salsa, [Rice, Black Beans, Cheese, Sour Cream, Guacamole, Lettuce]][Tomatillo Red Chili Salsa, [Rice, Black Beans, Cheese, Sour Cream, Guacamole, Lettuce]][Fresh Tomato Salsa (Mild), [Black Beans, Rice, Fajita Veggies, Cheese, Sour Cream, Lettuce]][[Roasted Chili Corn Salsa (Medium), Fresh Tomato Salsa (Mild)], [Rice, Fajita Veggies]][[Roasted Chili Corn Salsa (Medium), Fresh Tomato Salsa (Mild)], [Fajita Veggies, Lettuce, Rice, Black Beans]][Tomatillo Red Chili Salsa, [Sour Cream, Cheese, Guacamole, Lettuce, Black Beans, Rice]][Fresh Tomato (Mild), [Lettuce, Fajita Veggies, Black Beans, Rice, Sour Cream, Cheese]][[Fresh Tomato Salsa (Mild), Roasted Chili Corn Salsa (Medium)], [Black Beans, Rice, Cheese, Sour Cream, Lettuce]][Tomatillo Green Chili Salsa, [Rice, Pinto Beans, Sour Cream, Lettuce]][[Fresh Tomato Salsa (Mild), Roasted Chili Corn Salsa (Medium)], [Fajita Veggies, Rice]][Tomatillo-Red Chili Salsa (Hot), [Pinto Beans, Rice, Fajita Veggies, Cheese, Sour Cream, Guacamole]][Fresh Tomato Salsa, [Fajita Vegetables, Rice, Black Beans, Cheese, Sour Cream, Lettuce]][Roasted Chili Corn Salsa, [Rice, Fajita Vegetables, Lettuce, Pinto Beans, Black Beans, Guacamole, Cheese]][Tomatillo Green Chili Salsa, [Rice, Black Beans, Cheese]][Fresh Tomato Salsa (Mild), Lettuce][Fresh Tomato Salsa (Mild), Cheese][Roasted Chili Corn Salsa (Medium), Cheese][Tomatillo Green Chili Salsa, [Rice, Black Beans, Cheese, Lettuce]][Fresh Tomato Salsa, [Fajita Vegetables, Rice, Black Beans, Cheese, Sour Cream, Lettuce]][Fresh Tomato Salsa, [Rice, Cheese, Sour Cream, Guacamole]][Fresh Tomato Salsa, [Rice, Black Beans, Pinto Beans, Cheese, Lettuce]][Fresh Tomato Salsa, [Fajita Vegetables, Rice, Black Beans, Sour Cream, Lettuce]][Fresh Tomato Salsa, [Rice, Black Beans, Cheese, Guacamole, Lettuce]][Fresh Tomato Salsa, [Fajita Vegetables, Rice, Pinto Beans, Cheese, Sour Cream, Guacamole, Lettuce]][Roasted Chili Corn Salsa (Medium), [Rice, Fajita Veggies, Sour Cream]][Fresh Tomato Salsa, [Fajita Vegetables, Rice, Cheese, Sour Cream, Guacamole, Lettuce]][Fresh Tomato Salsa (Mild), [Pinto Beans, Rice, Cheese, Sour Cream]][Fresh Tomato Salsa, [Guacamole, Cheese, Rice, Sour Cream, Fajita Vegetables]][Roasted Chili Corn Salsa, [Rice, Black Beans, Sour Cream, Cheese, Guacamole]][Roasted Chili Corn Salsa, [Rice, Black Beans, Sour Cream, Cheese, Lettuce, Guacamole]][Fresh Tomato Salsa, [Rice, Fajita Vegetables]][Roasted Chili Corn Salsa (Medium), [Black Beans, Rice, Fajita Veggies, Cheese, Sour Cream]][[Tomatillo-Red Chili Salsa (Hot), Tomatillo-Green Chili Salsa (Medium)], [Rice, Black Beans, Cheese, Lettuce]][Roasted Chili Corn Salsa, [Rice, Pinto Beans, Cheese, Sour Cream, Lettuce]][Tomatillo Green Chili Salsa, [Rice, Black Beans, Guacamole, Lettuce]][Fresh Tomato Salsa, [Lettuce, Fajita Vegetables, Guacamole, Rice, Black Beans]][Fresh Tomato Salsa, [Lettuce, Cheese, Pinto Beans, Rice]][Fresh Tomato Salsa, [Rice, Pinto Beans, Sour Cream, Cheese, Lettuce]][Roasted Chili Corn Salsa, [Fajita Vegetables, Rice, Black Beans, Cheese, Sour Cream, Guacamole, Lettuce]][Fresh Tomato Salsa, [Fajita Vegetables, Rice, Black Beans, Cheese, Sour Cream, Guacamole, Lettuce]][Fresh Tomato Salsa, [Rice, Fajita Vegetables]][Fresh Tomato Salsa, [Rice, Cheese, Lettuce]][Fresh Tomato Salsa][Roasted Chili Corn Salsa, [Rice, Black Beans, Sour Cream, Cheese, Guacamole]][Roasted Chili Corn Salsa, [Rice, Pinto Beans, Cheese, Sour Cream, Lettuce]][Fresh Tomato Salsa, [Rice, Cheese, Sour Cream, Lettuce]][Fresh Tomato Salsa, [Rice, Fajita Vegetables]][Roasted Chili Corn Salsa, [Rice, Black Beans, Cheese]][Roasted Chili Corn Salsa, [Fajita Vegetables, Rice]][Tomatillo-Red Chili Salsa (Hot), [Pinto Beans, Rice, Fajita Veggies, Cheese, Sour Cream]][[Fresh Tomato Salsa (Mild), Tomatillo-Green Chili Salsa (Medium)], [Rice, Fajita Veggies, Cheese, Sour Cream, Lettuce]][Roasted Chili Corn Salsa, [Rice, Pinto Beans, Cheese, Sour Cream, Guacamole]][Fresh Tomato Salsa (Mild), [Rice, Black Beans, Fajita Veggies, Cheese, Sour Cream, Lettuce]][Fresh Tomato Salsa, [Fajita Vegetables, Rice, Lettuce]][Fresh Tomato Salsa, [Rice, Black Beans, Cheese, Sour Cream, Guacamole, Lettuce]][Roasted Chili Corn Salsa (Medium), [Pinto Beans, Black Beans, Rice, Cheese, Sour Cream, Guacamole]][Tomatillo-Green Chili Salsa (Medium), [Pinto Beans, Black Beans, Rice, Fajita Veggies, Sour Cream, Lettuce]][Fresh Tomato Salsa, [Fajita Vegetables, Rice, Black Beans, Cheese, Sour Cream, Lettuce]][Fresh Tomato Salsa, [Rice, Cheese, Sour Cream, Lettuce]][[Roasted Chili Corn Salsa (Medium), Tomatillo-Green Chili Salsa (Medium)], [Rice, Fajita Veggies, Cheese, Sour Cream, Lettuce]][Fresh Tomato Salsa, [Cheese, Black Beans, Rice]][Roasted Chili Corn Salsa, [Rice, Black Beans, Sour Cream, Cheese, Guacamole]][Roasted Chili Corn Salsa, [Black Beans, Cheese, Guacamole]][Fresh Tomato Salsa, [Rice, Fajita Vegetables, Sour Cream, Cheese, Guacamole]][Fresh Tomato Salsa, [Rice, Pinto Beans, Cheese, Guacamole, Lettuce]][Fresh Tomato Salsa, [Rice, Cheese]][Tomatillo Green Chili Salsa, [Rice, Cheese]][Roasted Chili Corn Salsa, [Rice, Black Beans, Cheese, Guacamole]][Fresh Tomato Salsa, [Rice, Cheese, Guacamole, Lettuce]][Roasted Chili Corn Salsa, [Rice, Black Beans, Sour Cream, Guacamole]][Fresh Tomato Salsa, [Cheese, Rice, Black Beans]][Fresh Tomato Salsa, [Guacamole, Sour Cream, Cheese, Rice, Fajita Vegetables]][Fresh Tomato Salsa, [Rice, Fajita Vegetables, Black Beans, Sour Cream, Cheese, Lettuce]][Tomatillo Green Chili Salsa, [Rice, Pinto Beans, Sour Cream, Lettuce]][Tomatillo-Red Chili Salsa (Hot), [Black Beans, Rice, Cheese, Lettuce]][Fresh Tomato Salsa (Mild), [Black Beans, Rice, Guacamole, Lettuce]][Tomatillo-Red Chili Salsa (Hot), [Pinto Beans, Rice, Fajita Veggies, Cheese, Sour Cream, Guacamole]][[Roasted Chili Corn Salsa (Medium), Fresh Tomato Salsa (Mild)], [Rice, Black Beans, Fajita Veggies, Guacamole]][[Roasted Chili Corn Salsa (Medium), Tomatillo-Red Chili Salsa (Hot), Fresh Tomato Salsa (Mild)], [Rice, Pinto Beans, Fajita Veggies, Cheese, Sour Cream, Lettuce]][Fresh Tomato Salsa, [Fajita Vegetables, Rice, Pinto Beans, Cheese]][Fresh Tomato Salsa, [Fajita Vegetables, Rice, Black Beans, Cheese, Sour Cream, Guacamole, Lettuce]][Fresh Tomato Salsa, [Fajita Vegetables, Rice, Pinto Beans, Cheese, Sour Cream, Guacamole, Lettuce]][Fresh Tomato Salsa, [Fajita Vegetables, Rice, Black Beans, Cheese, Sour Cream, Lettuce]][Fresh Tomato Salsa, [Rice, Black Beans, Cheese, Sour Cream]][Tomatillo Green Chili Salsa, [Fajita Vegetables, Rice, Black Beans, Cheese, Lettuce]][Fresh Tomato Salsa, [Fajita Vegetables, Rice]][Roasted Chili Corn Salsa (Medium), [Black Beans, Rice, Fajita Veggies, Cheese, Sour Cream]][Fresh Tomato Salsa, [Rice, Cheese, Sour Cream]][[Roasted Chili Corn Salsa (Medium), Tomatillo-Red Chili Salsa (Hot)], [Black Beans, Rice, Fajita Veggies, Guacamole, Lettuce]][Roasted Chili Corn Salsa, [Rice, Pinto Beans, Sour Cream, Cheese, Guacamole]][Fresh Tomato Salsa (Mild), [Black Beans, Rice, Guacamole, Lettuce]][Tomatillo-Red Chili Salsa (Hot), [Cheese, Sour Cream, Fajita Veggies, Pinto Beans, Rice]][Fresh Tomato Salsa (Mild), [Black Beans, Rice, Fajita Veggies, Cheese]][Fresh Tomato Salsa, [Rice, Black Beans, Cheese, Guacamole, Lettuce]][Fresh Tomato Salsa, [Rice, Cheese, Sour Cream, Guacamole, Fajita Vegetables]][Tomatillo Green Chili Salsa, [Rice, Cheese, Guacamole, Lettuce]][Roasted Chili Corn Salsa, [Rice, Black Beans, Sour Cream, Guacamole]][Tomatillo Red Chili Salsa, [Rice, Cheese, Sour Cream, Guacamole]][Fresh Tomato Salsa, [Fajita Vegetables, Rice, Cheese, Sour Cream, Guacamole, Lettuce]][[Roasted Chili Corn Salsa (Medium), Fresh Tomato Salsa (Mild)], [Rice, Fajita Veggies]][Fresh Tomato (Mild), [Lettuce, Fajita Veggies, Pinto Beans, Rice, Sour Cream, Cheese]][Tomatillo-Red Chili Salsa (Hot), [Pinto Beans, Rice, Fajita Veggies, Cheese, Sour Cream, Guacamole]][[Tomatillo-Green Chili Salsa (Medium), Tomatillo-Red Chili Salsa (Hot)], [Pinto Beans, Rice, Fajita Veggies, Cheese, Sour Cream, Guacamole]][Fresh Tomato Salsa, [Fajita Vegetables, Rice, Black Beans, Sour Cream, Guacamole, Lettuce]][Roasted Chili Corn Salsa, [Fajita Vegetables, Rice, Black Beans, Guacamole]][[Roasted Chili Corn Salsa (Medium), Fresh Tomato Salsa (Mild)], [Rice, Black Beans, Fajita Veggies, Guacamole]][[Roasted Chili Corn Salsa (Medium), Tomatillo-Red Chili Salsa (Hot), Fresh Tomato Salsa (Mild)], [Rice, Pinto Beans, Fajita Veggies, Cheese, Sour Cream, Lettuce]][Fresh Tomato Salsa, [Fajita Vegetables, Rice, Cheese, Sour Cream, Lettuce]][Roasted Chili Corn Salsa, [Rice, Black Beans, Cheese, Sour Cream, Lettuce]][Fresh Tomato Salsa, [Rice, Black Beans, Sour Cream]][Roasted Chili Corn Salsa, [Rice, Black Beans, Cheese, Sour Cream, Guacamole, Lettuce]][Tomatillo-Red Chili Salsa (Hot), [Black Beans, Rice, Cheese, Lettuce]][Fresh Tomato Salsa, [Guacamole, Lettuce, Rice, Cheese, Sour Cream, Black Beans]][Fresh Tomato Salsa, [Rice, Fajita Vegetables]][[Fresh Tomato Salsa (Mild), Roasted Chili Corn Salsa (Medium)], [Black Beans, Rice, Cheese, Sour Cream, Lettuce]][Fresh Tomato Salsa, [Rice, Black Beans, Cheese]][[Fresh Tomato Salsa (Mild), Tomatillo-Red Chili Salsa (Hot)], [Black Beans, Rice, Cheese, Sour Cream, Guacamole]][Fresh Tomato Salsa (Mild), [Black Beans, Rice, Fajita Veggies, Guacamole, Lettuce]][Fresh Tomato Salsa, [Rice, Black Beans, Cheese, Sour Cream, Guacamole, Lettuce]][Tomatillo Green Chili Salsa, [Fajita Vegetables, Rice]][Roasted Chili Corn Salsa, [Rice, Black Beans, Sour Cream, Cheese, Guacamole]][Tomatillo Red Chili Salsa, [Rice, Black Beans, Cheese, Sour Cream, Guacamole, Lettuce]][Roasted Chili Corn Salsa, [Rice, Black Beans, Cheese, Sour Cream, Guacamole, Lettuce]][Roasted Chili Corn Salsa (Medium), [Pinto Beans, Black Beans, Rice, Fajita Veggies, Cheese, Lettuce]][Tomatillo-Red Chili Salsa (Hot), [Pinto Beans, Black Beans, Rice, Fajita Veggies, Cheese, Sour Cream, Lettuce]][Fresh Tomato Salsa, [Rice, Pinto Beans, Sour Cream, Cheese, Lettuce]][Fresh Tomato Salsa, [Fajita Vegetables, Rice, Black Beans, Cheese, Guacamole, Lettuce]][Roasted Chili Corn Salsa, [Rice, Black Beans, Cheese, Guacamole, Lettuce]][Tomatillo-Red Chili Salsa (Hot), [Rice, Pinto Beans, Fajita Veggies, Cheese, Sour Cream, Guacamole]][Roasted Chili Corn Salsa, [Rice, Black Beans, Cheese, Sour Cream, Lettuce]][Tomatillo-Red Chili Salsa (Hot), [Pinto Beans, Rice, Cheese, Sour Cream, Lettuce]][Tomatillo Green Chili Salsa, [Rice, Fajita Vegetables, Black Beans, Sour Cream, Cheese, Lettuce]][Fresh Tomato Salsa, [Rice, Cheese, Sour Cream]][Tomatillo Red Chili Salsa, [Rice, Black Beans, Sour Cream, Cheese, Lettuce, Guacamole]][Fresh Tomato Salsa, [Fajita Vegetables, Rice, Pinto Beans, Cheese, Sour Cream, Guacamole, Lettuce]][Fresh Tomato Salsa, Cheese][Fresh Tomato Salsa, [Fajita Vegetables, Rice, Black Beans, Cheese, Sour Cream, Lettuce]][Fresh Tomato Salsa, [Rice, Cheese, Sour Cream]][Tomatillo Red Chili Salsa, [Fajita Vegetables, Rice, Black Beans, Cheese, Sour Cream, Guacamole, Lettuce]][Fresh Tomato Salsa, [Fajita Vegetables, Rice, Black Beans, Cheese, Sour Cream, Guacamole, Lettuce]][[Tomatillo-Green Chili Salsa (Medium), Roasted Chili Corn Salsa (Medium)], [Rice, Fajita Veggies, Guacamole, Lettuce]][Tomatillo Green Chili Salsa, [Rice, Black Beans, Cheese, Sour Cream]][Fresh Tomato Salsa, [Rice, Fajita Vegetables, Pinto Beans, Cheese, Lettuce, Guacamole]][Fresh Tomato Salsa, [Rice, Black Beans, Cheese, Sour Cream]][Fresh Tomato Salsa, [Fajita Vegetables, Rice, Black Beans, Cheese]][Fresh Tomato Salsa, [Rice, Black Beans, Cheese, Lettuce]][Fresh Tomato Salsa, [Rice, Fajita Vegetables, Black Beans, Cheese, Lettuce]][Fresh Tomato Salsa, [Rice, Black Beans, Cheese, Lettuce, Guacamole]][Tomatillo-Red Chili Salsa (Hot), [Black Beans, Rice, Cheese, Lettuce]][Fresh Tomato Salsa, [Fajita Vegetables, Rice]][Fresh Tomato Salsa, [Rice, Cheese, Lettuce]][Fresh Tomato Salsa, [Rice, Black Beans, Fajita Vegetables, Lettuce, Cheese, Sour Cream]][[Roasted Chili Corn Salsa (Medium), Fresh Tomato Salsa (Mild)], [Rice, Fajita Veggies]][Tomatillo Green Chili Salsa, [Rice, Black Beans, Guacamole, Lettuce]][Fresh Tomato Salsa, [Rice, Black Beans, Cheese, Sour Cream]][Fresh Tomato Salsa, [Fajita Vegetables, Rice, Black Beans, Sour Cream, Guacamole, Lettuce]][Fresh Tomato Salsa, [Fajita Vegetables, Rice, Black Beans, Pinto Beans, Cheese, Sour Cream, Guacamole, Lettuce]][Fresh Tomato Salsa, [Fajita Vegetables, Rice, Black Beans, Cheese, Sour Cream, Guacamole, Lettuce]][[Fresh Tomato Salsa (Mild), Tomatillo-Green Chili Salsa (Medium), Roasted Chili Corn Salsa (Medium), Tomatillo-Red Chili Salsa (Hot)], [Black Beans, Rice, Fajita Veggies, Cheese, Sour Cream]][Tomatillo-Green Chili Salsa (Medium), [Rice, Cheese, Sour Cream, Lettuce]][Roasted Chili Corn Salsa, [Rice, Black Beans, Cheese, Sour Cream, Lettuce]][Roasted Chili Corn Salsa, [Rice, Black Beans, Sour Cream, Cheese, Guacamole]][Fresh Tomato Salsa, [Fajita Vegetables, Rice, Pinto Beans, Cheese, Sour Cream, Guacamole, Lettuce]][Tomatillo Green Chili Salsa, [Rice, Fajita Vegetables, Black Beans, Sour Cream, Cheese, Lettuce]][Fresh Tomato Salsa, [Rice, Pinto Beans, Cheese, Lettuce]][Roasted Chili Corn Salsa, [Rice, Black Beans, Guacamole, Lettuce]][Roasted Chili Corn Salsa, [Fajita Vegetables, Rice, Pinto Beans, Cheese, Sour Cream, Lettuce]][Fresh Tomato Salsa, [Rice, Black Beans, Cheese, Sour Cream, Guacamole, Lettuce]][Fresh Tomato Salsa (Mild), [Black Beans, Rice, Cheese]][Roasted Chili Corn Salsa (Medium), [Black Beans, Rice, Fajita Veggies, Cheese, Sour Cream]][Fresh Tomato Salsa (Mild), [Black Beans, Rice, Sour Cream, Guacamole]][[Fresh Tomato Salsa (Mild), Roasted Chili Corn Salsa (Medium)], [Black Beans, Rice, Cheese, Sour Cream, Lettuce]][Roasted Chili Corn Salsa, [Fajita Vegetables, Rice, Cheese, Sour Cream, Lettuce]][Fresh Tomato Salsa, [Rice, Cheese, Sour Cream]][Fresh Tomato Salsa, [Rice, Cheese, Lettuce]][Fresh Tomato Salsa, [Fajita Vegetables, Rice, Sour Cream, Guacamole, Lettuce]][Fresh Tomato Salsa, [Fajita Vegetables, Rice, Cheese, Sour Cream, Guacamole, Lettuce]][Fresh Tomato Salsa, [Fajita Vegetables, Rice, Cheese, Sour Cream, Guacamole, Lettuce]][Tomatillo Red Chili Salsa, [Rice, Cheese, Lettuce]][Tomatillo Green Chili Salsa, [Rice, Pinto Beans, Sour Cream, Lettuce]][Fresh Tomato Salsa, [Fajita Vegetables, Rice, Lettuce]][Fresh Tomato Salsa, [Rice, Black Beans, Cheese, Sour Cream, Guacamole, Lettuce]][Fresh Tomato Salsa, [Fajita Vegetables, Rice, Black Beans, Cheese, Guacamole, Lettuce]][Fresh Tomato Salsa, [Guacamole, Sour Cream, Cheese, Rice, Fajita Vegetables]][Fresh Tomato Salsa, [Rice, Black Beans, Cheese, Sour Cream, Guacamole, Lettuce]][Tomatillo Red Chili Salsa, [Rice, Black Beans, Pinto Beans, Cheese, Sour Cream, Lettuce]][Tomatillo Red Chili Salsa, [Rice, Black Beans, Cheese, Sour Cream, Lettuce]][Fresh Tomato Salsa, [Rice, Cheese, Sour Cream, Guacamole]][Fresh Tomato Salsa, [Rice, Black Beans, Lettuce, Guacamole]][Tomatillo Green Chili Salsa, [Rice, Black Beans, Cheese, Sour Cream, Guacamole, Lettuce]][Fresh Tomato Salsa, [Rice, Black Beans, Pinto Beans, Cheese, Sour Cream]][Tomatillo Red Chili Salsa, [Rice, Black Beans, Cheese, Sour Cream, Lettuce]][Roasted Chili Corn Salsa, [Fajita Vegetables, Rice, Black Beans, Sour Cream, Lettuce]][Fresh Tomato Salsa, [Fajita Vegetables, Rice]][Fresh Tomato Salsa, [Fajita Vegetables, Rice, Lettuce]][Tomatillo Green Chili Salsa, [Fajita Vegetables, Rice, Black Beans, Cheese, Lettuce]][Fresh Tomato Salsa, [Rice, Black Beans, Sour Cream, Cheese]][White Rice][White Rice][Tomatillo Red Chili Salsa, [Rice, Black Beans, Cheese, Sour Cream, Lettuce]][Tomatillo Green Chili Salsa, [Rice, Pinto Beans, Sour Cream, Lettuce]][Fresh Tomato Salsa, [Fajita Vegetables, Rice, Cheese, Guacamole]][Fresh Tomato Salsa, [Rice, Black Beans, Cheese, Guacamole, Lettuce]][Fresh Tomato Salsa, [Pinto Beans, Rice, Lettuce, Cheese]][Fresh Tomato Salsa, [Rice, Black Beans, Cheese, Sour Cream, Lettuce]][Fresh Tomato Salsa, [Fajita Vegetables, Rice, Black Beans, Sour Cream, Lettuce]][Roasted Chili Corn Salsa, [Fajita Vegetables, Rice, Black Beans, Cheese, Guacamole]][Fresh Tomato Salsa, [Fajita Vegetables, Black Beans, Pinto Beans, Guacamole, Lettuce]][Tomatillo Red Chili Salsa, [Rice, Black Beans, Cheese, Guacamole]][Fresh Tomato Salsa, [Guacamole, Lettuce]][Tomatillo Red Chili Salsa, [Fajita Vegetables, Rice, Black Beans, Cheese, Sour Cream]][Fresh Tomato Salsa, [Rice, Black Beans, Cheese, Guacamole, Lettuce]][Fresh Tomato Salsa, [Rice, Black Beans, Cheese, Lettuce]][Roasted Chili Corn Salsa, [Rice, Pinto Beans, Sour Cream, Cheese, Guacamole]][Roasted Chili Corn Salsa, [Rice, Black Beans, Guacamole]][Fresh Tomato Salsa, [Pinto Beans, Rice, Cheese, Lettuce, Guacamole, Sour Cream, Fajita Vegetables]][Fresh Tomato Salsa, [Rice, Black Beans, Guacamole, Lettuce]][Fresh Tomato Salsa, [Rice, Cheese, Sour Cream, Lettuce]][Tomatillo Green Chili Salsa, [Fajita Vegetables, Black Beans, Sour Cream, Lettuce]][Fresh Tomato Salsa, [Fajita Vegetables, Rice, Black Beans, Pinto Beans, Cheese, Sour Cream]][Fresh Tomato Salsa, [Black Beans, Rice, Sour Cream, Cheese, Guacamole, Lettuce]][Fresh Tomato Salsa, [Rice, Black Beans, Pinto Beans, Cheese]][Fresh Tomato Salsa, [Rice, Black Beans, Pinto Beans, Cheese, Sour Cream, Guacamole]][Fresh Tomato Salsa, [Rice, Black Beans, Cheese]][Fresh Tomato Salsa, [Fajita Vegetables, Rice, Black Beans, Guacamole, Lettuce]][Tomatillo Green Chili Salsa, [Rice, Pinto Beans, Sour Cream, Lettuce]][Fresh Tomato Salsa, [Rice, Fajita Vegetables, Black Beans, Sour Cream, Cheese, Lettuce, Guacamole]][Fresh Tomato Salsa, [Rice, Black Beans, Cheese, Sour Cream, Guacamole]][Fresh Tomato Salsa, [Rice, Pinto Beans, Cheese, Lettuce]][Fresh Tomato Salsa, [Rice, Black Beans, Cheese, Sour Cream, Lettuce]][Tomatillo Green Chili Salsa, [Rice, Pinto Beans, Cheese, Sour Cream, Lettuce]][Fresh Tomato Salsa, [Rice, Black Beans, Sour Cream]][Fresh Tomato Salsa, [Rice, Black Beans, Cheese]][Fresh Tomato Salsa, Rice][Fresh Tomato Salsa, [Rice, Pinto Beans, Cheese, Sour Cream, Guacamole, Lettuce]][Fresh Tomato Salsa, [Fajita Vegetables, Rice, Black Beans, Cheese, Sour Cream, Guacamole, Lettuce]][Fresh Tomato Salsa, [Rice, Black Beans, Cheese, Sour Cream, Guacamole, Lettuce]][Fresh Tomato Salsa, [Fajita Vegetables, Rice, Sour Cream, Lettuce]][Fresh Tomato Salsa, [Rice, Pinto Beans, Sour Cream, Cheese, Lettuce, Guacamole]][Tomatillo Green Chili Salsa, [Fajita Vegetables, Rice, Sour Cream, Guacamole]][Fresh Tomato Salsa, [Rice, Cheese, Sour Cream, Guacamole]][Roasted Chili Corn Salsa, [Rice, Fajita Vegetables, Cheese, Lettuce]][Roasted Chili Corn Salsa, [Rice, Black Beans, Cheese, Sour Cream, Lettuce]][Fresh Tomato Salsa, [Rice, Black Beans, Cheese, Sour Cream]][Tomatillo Green Chili Salsa, [Fajita Vegetables, Rice, Pinto Beans, Cheese, Guacamole, Lettuce]][Roasted Chili Corn Salsa, [Black Beans, Sour Cream, Cheese, Guacamole]][Roasted Chili Corn Salsa, [Fajita Vegetables, Rice, Cheese, Sour Cream, Lettuce]][Fresh Tomato Salsa, [Fajita Vegetables, Rice, Pinto Beans, Cheese, Guacamole, Lettuce]][Roasted Chili Corn Salsa, [Rice, Cheese, Lettuce]][Fresh Tomato Salsa, [Rice, Cheese, Sour Cream, Guacamole]][Tomatillo Red Chili Salsa, [Rice, Black Beans, Pinto Beans, Cheese, Sour Cream, Lettuce]][Tomatillo Green Chili Salsa, [Rice, Black Beans, Sour Cream, Lettuce]][Fresh Tomato Salsa, [Rice, Black Beans, Cheese, Sour Cream, Guacamole, Lettuce]][Fresh Tomato Salsa, [Rice, Black Beans, Cheese, Sour Cream, Guacamole]][Fresh Tomato Salsa, [Rice, Black Beans, Sour Cream, Cheese, Lettuce, Guacamole]][Roasted Chili Corn Salsa, [Rice, Black Beans, Cheese, Lettuce, Guacamole]][Tomatillo Red Chili Salsa, [Rice, Black Beans, Sour Cream, Cheese, Lettuce]][Tomatillo Green Chili Salsa, [Rice, Black Beans]][Roasted Chili Corn Salsa, [Cheese, Lettuce]][Fresh Tomato Salsa, [Rice, Black Beans, Cheese, Sour Cream]]\"\n        ],\n        \"semantic_type\": \"\",\n        \"description\": \"\"\n      }\n    },\n    {\n      \"column\": \"item_price\",\n      \"properties\": {\n        \"dtype\": \"string\",\n        \"num_unique_values\": 1,\n        \"samples\": [\n          \"$16.98 $10.98 $11.25 $8.75 $8.49 $11.25 $8.75 $8.75 $8.75 $8.75 $11.25 $11.25 $11.25 $11.25 $17.50 $8.49 $10.98 $8.75 $8.75 $10.98 $8.75 $11.25 $11.25 $8.75 $8.75 $8.75 $8.75 $8.75 $8.75 $17.50 $8.75 $11.25 $11.25 $8.49 $11.25 $8.75 $8.75 $8.75 $8.75 $8.49 $8.75 $11.25 $11.25 $32.94 $11.25 $17.50 $8.75 $8.75 $11.25 $8.75 $8.49 $8.75 $8.75 $8.75 $11.25 $8.75 $8.75 $11.25 $11.25 $8.49 $8.75 $8.75 $8.75 $11.25 $10.98 $8.75 $11.25 $8.49 $8.75 $8.75 $8.75 $8.75 $8.49 $17.50 $8.49 $11.25 $11.25 $11.25 $11.25 $8.75 $8.75 $11.25 $8.49 $8.49 $8.75 $8.75 $8.75 $10.98 $8.75 $8.75 $10.98 $8.75 $11.25 $11.25 $8.75 $11.25 $11.25 $8.75 $8.49 $10.98 $8.75 $11.25 $8.75 $8.75 $8.75 $8.75 $8.49 $8.49 $8.75 $8.75 $11.25 $17.50 $8.75 $8.75 $8.75 $11.25 $11.25 $8.49 $10.98 $8.49 $8.49 $8.75 $8.75 $17.50 $8.75 $8.75 $8.75 $8.49 $8.75 $8.49 $11.25 $8.75 $8.75 $11.25 $17.50 $8.75 $8.75 $8.75 $11.25 $8.75 $8.75 $8.75 $8.49 $8.75 $11.25 $11.25 $8.75 $11.25 $11.25 $10.98 $10.98 $11.25 $11.25 $8.75 $8.75 $8.75 $11.25 $10.98 $8.75 $11.25 $8.75 $8.49 $8.49 $8.75 $8.75 $8.75 $8.75 $11.25 $8.75 $8.75 $10.98 $11.25 $8.49 $8.75 $8.75 $11.25 $22.50 $8.49 $8.75 $11.25 $8.49 $10.98 $8.75 $11.25 $8.75 $11.25 $8.75 $8.75 $8.75 $26.25 $8.75 $8.75 $11.25 $11.25 $8.49 $8.49 $8.49 $8.75 $8.75 $11.25 $11.25 $8.75 $8.75 $8.75 $8.75 $17.50 $11.25 $11.25 $8.75 $8.75 $11.25 $8.75 $8.49 $8.49 $11.25 $8.75 $8.49 $8.49 $8.49 $8.49 $8.75 $11.25 $11.25 $8.75 $8.49 $11.25 $8.49 $8.49 $11.25 $11.25 $10.98 $8.75 $8.75 $8.49 $8.75 $8.49 $8.49 $8.49 $8.75 $8.49 $10.98 $8.75 $11.25 $8.49 $8.75 $8.49 $11.25 $8.49 $8.75 $8.75 $21.96 $8.49 $8.75 $8.75 $8.75 $8.49 $8.49 $11.25 $8.75 $11.25 $8.75 $8.75 $8.49 $8.75 $8.75 $8.75 $8.49 $10.98 $8.75 $11.25 $8.49 $10.98 $10.98 $8.75 $10.98 $11.25 $11.25 $11.25 $11.25 $11.25 $8.75 $8.75 $8.49 $11.25 $8.75 $11.25 $11.25 $11.25 $8.75 $10.98 $10.98 $8.75 $8.49 $11.25 $8.75 $21.96 $8.75 $8.75 $17.50 $11.25 $8.75 $10.98 $8.49 $11.25 $8.75 $10.98 $8.75 $8.75 $8.75 $11.25 $8.75 $11.25 $8.75 $8.75 $8.75 $8.75 $11.25 $8.75 $11.25 $8.75 $8.75 $8.75 $8.75 $8.75 $8.75 $8.75 $8.75 $8.75 $8.75 $8.75 $8.75 $8.75 $8.75 $8.75 $8.75 $8.75 $11.25 $11.25 $8.75 $16.98 $8.75 $11.25 $8.75 $10.98 $8.75 $11.25 $8.75 $8.49 $8.75 $11.25 $8.75 $8.75 $8.75 $8.49 $11.25 $11.25 $8.49 $8.75 $8.75 $8.75 $8.75 $11.25 $8.75 $11.25 $10.98 $8.49 $8.75 $8.75 $8.49 $11.25 $8.75 $11.25 $22.50 $8.49 $11.25 $21.96 $8.75 $8.75 $8.49 $8.49 $11.25 $11.25 $11.25 $8.75 $11.25 $16.98 $10.98 $8.75 $8.75 $8.75 $11.25 $11.25 $11.25 $10.98 $11.25 $8.49 $8.75 $11.25 $8.75 $11.25 $8.75 $11.25 $10.98 $8.75 $8.75 $8.75 $8.75 $11.25 $11.25 $11.25 $8.75 $11.25 $8.75 $8.75 $11.25 $10.98 $16.98 $8.75 $11.25 $8.75 $8.75 $8.75 $11.25 $8.49 $10.98 $8.75 $8.75 $11.25 $8.75 $8.75 $8.75 $11.25 $11.25 $8.19 $10.58 $11.25 $8.75 $8.75 $21.96 $8.49 $8.49 $8.75 $11.25 $11.25 $8.49 $8.49 $8.49 $8.75 $11.25 $11.25 $11.25 $8.49 $11.25 $11.25 $8.75 $8.49 $8.49 $8.75 $11.25 $8.75 $8.49 $8.49 $11.25 $11.25 $11.25 $11.25 $11.25 $11.25 $8.49 $16.98 $8.49 $11.25 $8.19 $8.49 $8.75 $16.98 $21.96 $8.75 $11.25 $8.75 $8.49 $8.49 $8.49 $8.75 $8.75 $11.25 $8.75 $8.75 $11.25 $11.25 $8.49 $11.25 $8.49 $11.25 $11.25 $11.25 $8.75 $8.49 $8.49 $8.75 $11.25 $11.25 $8.75 $8.75 $11.25 $11.25 $8.75 $8.75 $8.75 $11.25 $8.75 $8.75 $8.75 $8.75 $8.75 $8.49 $8.49 $11.25 $8.49 $8.75 $11.25 $10.98 $8.49 $8.75 $17.50 $8.49 $8.75 $11.25 $11.25 $11.25 $11.25 $8.75 $8.75 $11.25 $11.25 $11.25 $8.75 $11.25 $8.75 $8.75 $8.49 $10.98 $21.96 $10.98 $8.49 $8.75 $11.25 $11.25 $8.75 $8.75 $8.75 $8.75 $8.49 $8.75 $10.98 $11.25 $10.98 $16.98 $16.98 $11.25 $11.25 $11.25 $11.25 $11.25 $11.25 $16.98 $8.19 $10.98 $10.98 $11.25 $11.25 $10.98 $8.49 $8.75 $8.75 $8.75 $11.25 $8.49 $11.25 $8.75 $8.49 $8.75 $10.98 $10.98 $11.25 $8.75 $11.25 $11.25 $11.25 $8.49 $8.49 $8.75 $11.25 $11.25 $21.96 $8.75 $8.49 $8.75 $8.75 $11.25 $11.25 $8.75 $8.75 $8.75 $11.25 $11.25 $10.98 $8.75 $11.25 $8.75 $8.75 $8.75 $8.75 $11.25 $8.49 $8.75 $8.75 $8.75 $16.98 $11.25 $8.75 $11.25 $11.25 $11.25 $8.49 $8.49 $8.75 $11.25 $11.25 $8.75 $8.75 $11.25 $8.75 $11.25 $8.49 $8.49 $10.98 $8.49 $8.75 $8.75 $8.75 $11.25 $11.25 $11.25 $8.75 $8.75 $8.75 $11.25 $11.25 $11.25 $11.25 $8.75 $8.75 $11.25 $11.25 $11.25 $8.75 $8.75 $8.75 $8.75 $8.75 $8.75 $8.75 $8.50 $8.50 $8.75 $8.75 $11.25 $11.25 $8.75 $8.75 $8.75 $11.25 $11.25 $11.25 $11.25 $8.75 $11.25 $8.75 $11.25 $11.25 $11.25 $11.25 $8.75 $8.75 $8.75 $11.25 $8.75 $11.25 $8.75 $11.25 $8.75 $22.50 $11.25 $17.50 $8.75 $8.75 $8.75 $8.75 $8.75 $11.25 $11.25 $11.25 $8.75 $11.25 $11.25 $11.25 $8.75 $8.75 $8.75 $11.25 $11.25 $8.75 $11.25 $8.75 $11.25 $8.75 $8.75 $11.25 $11.25 $11.25 $11.25 $8.75 $8.75 $8.75 $8.75 \"\n        ],\n        \"semantic_type\": \"\",\n        \"description\": \"\"\n      }\n    }\n  ]\n}"
            }
          },
          "metadata": {},
          "execution_count": 20
        }
      ],
      "source": [
        "count = chipo.groupby('item_name').sum().sort_values(by=['quantity'], ascending=False).head(1)\n",
        "count"
      ]
    },
    {
      "cell_type": "markdown",
      "metadata": {
        "id": "QlwbnMh1eG4f"
      },
      "source": [
        "### Step 11. What was the most ordered item in the choice_description column?"
      ]
    },
    {
      "cell_type": "markdown",
      "source": [],
      "metadata": {
        "id": "6Vvw6iLmv58s"
      }
    },
    {
      "cell_type": "code",
      "execution_count": 23,
      "metadata": {
        "colab": {
          "base_uri": "https://localhost:8080/",
          "height": 112
        },
        "id": "Z6xcDNv3eG4f",
        "outputId": "93ccdb82-cd7b-4d2f-925a-d52a40d9d6a3"
      },
      "outputs": [
        {
          "output_type": "execute_result",
          "data": {
            "text/plain": [
              "                    order_id  quantity  \\\n",
              "choice_description                       \n",
              "[Diet Coke]           123455       159   \n",
              "\n",
              "                                                            item_name  \\\n",
              "choice_description                                                      \n",
              "[Diet Coke]         Canned SodaCanned SodaCanned Soda6 Pack Soft D...   \n",
              "\n",
              "                                                           item_price  \n",
              "choice_description                                                     \n",
              "[Diet Coke]         $2.18 $1.09 $1.09 $6.49 $2.18 $1.25 $1.09 $6.4...  "
            ],
            "text/html": [
              "\n",
              "  <div id=\"df-72e13c72-fea4-4eae-b2ed-717d12b3c1ad\" class=\"colab-df-container\">\n",
              "    <div>\n",
              "<style scoped>\n",
              "    .dataframe tbody tr th:only-of-type {\n",
              "        vertical-align: middle;\n",
              "    }\n",
              "\n",
              "    .dataframe tbody tr th {\n",
              "        vertical-align: top;\n",
              "    }\n",
              "\n",
              "    .dataframe thead th {\n",
              "        text-align: right;\n",
              "    }\n",
              "</style>\n",
              "<table border=\"1\" class=\"dataframe\">\n",
              "  <thead>\n",
              "    <tr style=\"text-align: right;\">\n",
              "      <th></th>\n",
              "      <th>order_id</th>\n",
              "      <th>quantity</th>\n",
              "      <th>item_name</th>\n",
              "      <th>item_price</th>\n",
              "    </tr>\n",
              "    <tr>\n",
              "      <th>choice_description</th>\n",
              "      <th></th>\n",
              "      <th></th>\n",
              "      <th></th>\n",
              "      <th></th>\n",
              "    </tr>\n",
              "  </thead>\n",
              "  <tbody>\n",
              "    <tr>\n",
              "      <th>[Diet Coke]</th>\n",
              "      <td>123455</td>\n",
              "      <td>159</td>\n",
              "      <td>Canned SodaCanned SodaCanned Soda6 Pack Soft D...</td>\n",
              "      <td>$2.18 $1.09 $1.09 $6.49 $2.18 $1.25 $1.09 $6.4...</td>\n",
              "    </tr>\n",
              "  </tbody>\n",
              "</table>\n",
              "</div>\n",
              "    <div class=\"colab-df-buttons\">\n",
              "\n",
              "  <div class=\"colab-df-container\">\n",
              "    <button class=\"colab-df-convert\" onclick=\"convertToInteractive('df-72e13c72-fea4-4eae-b2ed-717d12b3c1ad')\"\n",
              "            title=\"Convert this dataframe to an interactive table.\"\n",
              "            style=\"display:none;\">\n",
              "\n",
              "  <svg xmlns=\"http://www.w3.org/2000/svg\" height=\"24px\" viewBox=\"0 -960 960 960\">\n",
              "    <path d=\"M120-120v-720h720v720H120Zm60-500h600v-160H180v160Zm220 220h160v-160H400v160Zm0 220h160v-160H400v160ZM180-400h160v-160H180v160Zm440 0h160v-160H620v160ZM180-180h160v-160H180v160Zm440 0h160v-160H620v160Z\"/>\n",
              "  </svg>\n",
              "    </button>\n",
              "\n",
              "  <style>\n",
              "    .colab-df-container {\n",
              "      display:flex;\n",
              "      gap: 12px;\n",
              "    }\n",
              "\n",
              "    .colab-df-convert {\n",
              "      background-color: #E8F0FE;\n",
              "      border: none;\n",
              "      border-radius: 50%;\n",
              "      cursor: pointer;\n",
              "      display: none;\n",
              "      fill: #1967D2;\n",
              "      height: 32px;\n",
              "      padding: 0 0 0 0;\n",
              "      width: 32px;\n",
              "    }\n",
              "\n",
              "    .colab-df-convert:hover {\n",
              "      background-color: #E2EBFA;\n",
              "      box-shadow: 0px 1px 2px rgba(60, 64, 67, 0.3), 0px 1px 3px 1px rgba(60, 64, 67, 0.15);\n",
              "      fill: #174EA6;\n",
              "    }\n",
              "\n",
              "    .colab-df-buttons div {\n",
              "      margin-bottom: 4px;\n",
              "    }\n",
              "\n",
              "    [theme=dark] .colab-df-convert {\n",
              "      background-color: #3B4455;\n",
              "      fill: #D2E3FC;\n",
              "    }\n",
              "\n",
              "    [theme=dark] .colab-df-convert:hover {\n",
              "      background-color: #434B5C;\n",
              "      box-shadow: 0px 1px 3px 1px rgba(0, 0, 0, 0.15);\n",
              "      filter: drop-shadow(0px 1px 2px rgba(0, 0, 0, 0.3));\n",
              "      fill: #FFFFFF;\n",
              "    }\n",
              "  </style>\n",
              "\n",
              "    <script>\n",
              "      const buttonEl =\n",
              "        document.querySelector('#df-72e13c72-fea4-4eae-b2ed-717d12b3c1ad button.colab-df-convert');\n",
              "      buttonEl.style.display =\n",
              "        google.colab.kernel.accessAllowed ? 'block' : 'none';\n",
              "\n",
              "      async function convertToInteractive(key) {\n",
              "        const element = document.querySelector('#df-72e13c72-fea4-4eae-b2ed-717d12b3c1ad');\n",
              "        const dataTable =\n",
              "          await google.colab.kernel.invokeFunction('convertToInteractive',\n",
              "                                                    [key], {});\n",
              "        if (!dataTable) return;\n",
              "\n",
              "        const docLinkHtml = 'Like what you see? Visit the ' +\n",
              "          '<a target=\"_blank\" href=https://colab.research.google.com/notebooks/data_table.ipynb>data table notebook</a>'\n",
              "          + ' to learn more about interactive tables.';\n",
              "        element.innerHTML = '';\n",
              "        dataTable['output_type'] = 'display_data';\n",
              "        await google.colab.output.renderOutput(dataTable, element);\n",
              "        const docLink = document.createElement('div');\n",
              "        docLink.innerHTML = docLinkHtml;\n",
              "        element.appendChild(docLink);\n",
              "      }\n",
              "    </script>\n",
              "  </div>\n",
              "\n",
              "\n",
              "  <div id=\"id_017b5802-7b03-4c1f-b461-5f0960c1ea78\">\n",
              "    <style>\n",
              "      .colab-df-generate {\n",
              "        background-color: #E8F0FE;\n",
              "        border: none;\n",
              "        border-radius: 50%;\n",
              "        cursor: pointer;\n",
              "        display: none;\n",
              "        fill: #1967D2;\n",
              "        height: 32px;\n",
              "        padding: 0 0 0 0;\n",
              "        width: 32px;\n",
              "      }\n",
              "\n",
              "      .colab-df-generate:hover {\n",
              "        background-color: #E2EBFA;\n",
              "        box-shadow: 0px 1px 2px rgba(60, 64, 67, 0.3), 0px 1px 3px 1px rgba(60, 64, 67, 0.15);\n",
              "        fill: #174EA6;\n",
              "      }\n",
              "\n",
              "      [theme=dark] .colab-df-generate {\n",
              "        background-color: #3B4455;\n",
              "        fill: #D2E3FC;\n",
              "      }\n",
              "\n",
              "      [theme=dark] .colab-df-generate:hover {\n",
              "        background-color: #434B5C;\n",
              "        box-shadow: 0px 1px 3px 1px rgba(0, 0, 0, 0.15);\n",
              "        filter: drop-shadow(0px 1px 2px rgba(0, 0, 0, 0.3));\n",
              "        fill: #FFFFFF;\n",
              "      }\n",
              "    </style>\n",
              "    <button class=\"colab-df-generate\" onclick=\"generateWithVariable('choice')\"\n",
              "            title=\"Generate code using this dataframe.\"\n",
              "            style=\"display:none;\">\n",
              "\n",
              "  <svg xmlns=\"http://www.w3.org/2000/svg\" height=\"24px\"viewBox=\"0 0 24 24\"\n",
              "       width=\"24px\">\n",
              "    <path d=\"M7,19H8.4L18.45,9,17,7.55,7,17.6ZM5,21V16.75L18.45,3.32a2,2,0,0,1,2.83,0l1.4,1.43a1.91,1.91,0,0,1,.58,1.4,1.91,1.91,0,0,1-.58,1.4L9.25,21ZM18.45,9,17,7.55Zm-12,3A5.31,5.31,0,0,0,4.9,8.1,5.31,5.31,0,0,0,1,6.5,5.31,5.31,0,0,0,4.9,4.9,5.31,5.31,0,0,0,6.5,1,5.31,5.31,0,0,0,8.1,4.9,5.31,5.31,0,0,0,12,6.5,5.46,5.46,0,0,0,6.5,12Z\"/>\n",
              "  </svg>\n",
              "    </button>\n",
              "    <script>\n",
              "      (() => {\n",
              "      const buttonEl =\n",
              "        document.querySelector('#id_017b5802-7b03-4c1f-b461-5f0960c1ea78 button.colab-df-generate');\n",
              "      buttonEl.style.display =\n",
              "        google.colab.kernel.accessAllowed ? 'block' : 'none';\n",
              "\n",
              "      buttonEl.onclick = () => {\n",
              "        google.colab.notebook.generateWithVariable('choice');\n",
              "      }\n",
              "      })();\n",
              "    </script>\n",
              "  </div>\n",
              "\n",
              "    </div>\n",
              "  </div>\n"
            ],
            "application/vnd.google.colaboratory.intrinsic+json": {
              "type": "dataframe",
              "variable_name": "choice",
              "summary": "{\n  \"name\": \"choice\",\n  \"rows\": 1,\n  \"fields\": [\n    {\n      \"column\": \"choice_description\",\n      \"properties\": {\n        \"dtype\": \"string\",\n        \"num_unique_values\": 1,\n        \"samples\": [\n          \"[Diet Coke]\"\n        ],\n        \"semantic_type\": \"\",\n        \"description\": \"\"\n      }\n    },\n    {\n      \"column\": \"order_id\",\n      \"properties\": {\n        \"dtype\": \"number\",\n        \"std\": null,\n        \"min\": 123455,\n        \"max\": 123455,\n        \"num_unique_values\": 1,\n        \"samples\": [\n          123455\n        ],\n        \"semantic_type\": \"\",\n        \"description\": \"\"\n      }\n    },\n    {\n      \"column\": \"quantity\",\n      \"properties\": {\n        \"dtype\": \"number\",\n        \"std\": null,\n        \"min\": 159,\n        \"max\": 159,\n        \"num_unique_values\": 1,\n        \"samples\": [\n          159\n        ],\n        \"semantic_type\": \"\",\n        \"description\": \"\"\n      }\n    },\n    {\n      \"column\": \"item_name\",\n      \"properties\": {\n        \"dtype\": \"string\",\n        \"num_unique_values\": 1,\n        \"samples\": [\n          \"Canned SodaCanned SodaCanned Soda6 Pack Soft DrinkCanned SodaCanned Soft DrinkCanned Soda6 Pack Soft Drink6 Pack Soft DrinkCanned Soft DrinkCanned Soft DrinkCanned Soft Drink6 Pack Soft DrinkCanned Soft DrinkCanned Soft DrinkCanned Soft Drink6 Pack Soft DrinkCanned Soft DrinkCanned Soft DrinkCanned Soft DrinkCanned SodaCanned Soft DrinkCanned Soft DrinkCanned Soft DrinkCanned Soft DrinkCanned Soft DrinkCanned Soft DrinkCanned Soft DrinkCanned Soft DrinkCanned Soft DrinkCanned Soft DrinkCanned Soft DrinkCanned Soft DrinkCanned Soft DrinkCanned SodaCanned Soft DrinkCanned Soft DrinkCanned Soft DrinkCanned Soft DrinkCanned Soft DrinkCanned Soft Drink6 Pack Soft DrinkCanned Soft DrinkCanned Soft DrinkCanned Soft DrinkCanned Soft DrinkCanned Soft DrinkCanned Soft DrinkCanned Soft DrinkCanned Soft DrinkCanned Soft DrinkCanned Soft DrinkCanned Soft DrinkCanned SodaCanned Soft Drink6 Pack Soft DrinkCanned Soft DrinkCanned Soft DrinkCanned Soft Drink6 Pack Soft DrinkCanned Soft Drink6 Pack Soft Drink6 Pack Soft DrinkCanned Soda6 Pack Soft DrinkCanned Soft DrinkCanned Soft DrinkCanned Soft DrinkCanned SodaCanned Soft DrinkCanned Soft DrinkCanned Soft DrinkCanned Soft DrinkCanned Soft DrinkCanned Soft DrinkCanned SodaCanned Soft DrinkCanned Soft DrinkCanned Soft DrinkCanned Soft DrinkCanned Soft Drink6 Pack Soft DrinkCanned SodaCanned Soft Drink6 Pack Soft DrinkCanned Soft DrinkCanned Soft Drink6 Pack Soft DrinkCanned Soft DrinkCanned Soft DrinkCanned Soft Drink6 Pack Soft DrinkCanned Soft DrinkCanned Soft DrinkCanned Soft DrinkCanned Soft DrinkCanned Soft DrinkCanned Soft DrinkCanned Soft Drink6 Pack Soft DrinkCanned Soft DrinkCanned Soft DrinkCanned Soft DrinkCanned Soft DrinkCanned SodaCanned Soft Drink6 Pack Soft DrinkCanned Soft DrinkCanned Soft DrinkCanned Soft Drink6 Pack Soft DrinkCanned Soda6 Pack Soft Drink6 Pack Soft DrinkCanned SodaCanned Soft DrinkCanned Soft DrinkCanned Soft Drink6 Pack Soft DrinkCanned Soft DrinkCanned Soft DrinkCanned Soft DrinkCanned Soft Drink6 Pack Soft DrinkCanned Soft DrinkCanned Soft DrinkCanned Soft DrinkCanned Soft Drink6 Pack Soft Drink6 Pack Soft DrinkCanned Soft DrinkCanned Soft DrinkCanned Soft DrinkCanned Soft Drink\"\n        ],\n        \"semantic_type\": \"\",\n        \"description\": \"\"\n      }\n    },\n    {\n      \"column\": \"item_price\",\n      \"properties\": {\n        \"dtype\": \"string\",\n        \"num_unique_values\": 1,\n        \"samples\": [\n          \"$2.18 $1.09 $1.09 $6.49 $2.18 $1.25 $1.09 $6.49 $6.49 $2.50 $1.25 $1.25 $6.49 $1.25 $1.25 $1.25 $6.49 $3.75 $1.25 $1.25 $1.09 $1.25 $1.25 $1.25 $1.25 $1.25 $1.25 $1.25 $1.25 $1.25 $1.25 $1.25 $1.25 $1.25 $1.09 $1.25 $1.25 $1.25 $1.25 $1.25 $1.25 $6.49 $1.25 $1.25 $2.50 $1.25 $1.25 $1.25 $1.25 $1.25 $1.25 $1.25 $1.25 $1.09 $1.25 $6.49 $2.50 $1.25 $1.25 $6.49 $2.50 $6.49 $6.49 $1.09 $6.49 $1.25 $1.25 $1.25 $2.18 $1.25 $1.25 $1.25 $1.25 $1.25 $1.25 $1.09 $1.25 $1.25 $1.25 $1.25 $2.50 $6.49 $1.09 $1.25 $6.49 $1.25 $1.25 $6.49 $2.50 $3.75 $3.75 $6.49 $2.50 $1.25 $2.50 $1.25 $1.25 $1.25 $1.25 $12.98 $2.50 $1.25 $1.25 $1.25 $2.18 $2.50 $6.49 $2.50 $1.25 $1.25 $6.49 $1.09 $6.49 $6.49 $1.09 $2.50 $1.25 $3.75 $6.49 $1.25 $1.25 $1.25 $1.25 $6.49 $1.25 $1.25 $1.25 $1.25 $6.49 $6.49 $1.25 $1.25 $1.25 $1.25 \"\n        ],\n        \"semantic_type\": \"\",\n        \"description\": \"\"\n      }\n    }\n  ]\n}"
            }
          },
          "metadata": {},
          "execution_count": 23
        }
      ],
      "source": [
        "choice = chipo.groupby('choice_description').sum().sort_values(by='quantity', ascending=False).head(1)\n",
        "choice"
      ]
    },
    {
      "cell_type": "markdown",
      "metadata": {
        "id": "SUvoh-AYeG4f"
      },
      "source": [
        "### Step 12. How many items were orderd in total?"
      ]
    },
    {
      "cell_type": "code",
      "execution_count": 31,
      "metadata": {
        "colab": {
          "base_uri": "https://localhost:8080/"
        },
        "id": "NpGsKWXSeG4f",
        "outputId": "6584e407-20a9-46af-afb3-270d30e0a92d"
      },
      "outputs": [
        {
          "output_type": "execute_result",
          "data": {
            "text/plain": [
              "4972"
            ]
          },
          "metadata": {},
          "execution_count": 31
        }
      ],
      "source": [
        "items = chipo['quantity'].sum()\n",
        "items"
      ]
    },
    {
      "cell_type": "markdown",
      "metadata": {
        "id": "WmbmeeipeG4f"
      },
      "source": [
        "### Step 13. Turn the item price into a float"
      ]
    },
    {
      "cell_type": "markdown",
      "metadata": {
        "id": "xeWaC072eG4f"
      },
      "source": [
        "#### Step 13.a. Check the item price type"
      ]
    },
    {
      "cell_type": "code",
      "execution_count": 32,
      "metadata": {
        "colab": {
          "base_uri": "https://localhost:8080/"
        },
        "id": "HPMZbxPbeG4f",
        "outputId": "9082ac54-c82c-4ed9-804a-e27fbcd0a5d6"
      },
      "outputs": [
        {
          "output_type": "execute_result",
          "data": {
            "text/plain": [
              "dtype('float64')"
            ]
          },
          "metadata": {},
          "execution_count": 32
        }
      ],
      "source": [
        "chipo['item_price'].dtype"
      ]
    },
    {
      "cell_type": "markdown",
      "metadata": {
        "id": "Nzb3nDS5eG4f"
      },
      "source": [
        "#### Step 13.b. Create a lambda function and change the type of item price"
      ]
    },
    {
      "cell_type": "code",
      "execution_count": 33,
      "metadata": {
        "collapsed": true,
        "colab": {
          "base_uri": "https://localhost:8080/",
          "height": 321
        },
        "id": "IhCc_0TPeG4f",
        "outputId": "5d6f65a3-fce4-4b8b-befa-2851ad1947f5"
      },
      "outputs": [
        {
          "output_type": "error",
          "ename": "TypeError",
          "evalue": "'float' object is not subscriptable",
          "traceback": [
            "\u001b[0;31m---------------------------------------------------------------------------\u001b[0m",
            "\u001b[0;31mTypeError\u001b[0m                                 Traceback (most recent call last)",
            "\u001b[0;32m<ipython-input-33-d309eeb20f72>\u001b[0m in \u001b[0;36m<cell line: 0>\u001b[0;34m()\u001b[0m\n\u001b[1;32m      1\u001b[0m \u001b[0ml1\u001b[0m \u001b[0;34m=\u001b[0m \u001b[0;32mlambda\u001b[0m \u001b[0mx\u001b[0m\u001b[0;34m:\u001b[0m \u001b[0mfloat\u001b[0m\u001b[0;34m(\u001b[0m\u001b[0mx\u001b[0m\u001b[0;34m[\u001b[0m\u001b[0;36m1\u001b[0m\u001b[0;34m:\u001b[0m\u001b[0;34m-\u001b[0m\u001b[0;36m1\u001b[0m\u001b[0;34m]\u001b[0m\u001b[0;34m)\u001b[0m\u001b[0;34m\u001b[0m\u001b[0;34m\u001b[0m\u001b[0m\n\u001b[0;32m----> 2\u001b[0;31m \u001b[0mchipo\u001b[0m\u001b[0;34m[\u001b[0m\u001b[0;34m'item_price'\u001b[0m\u001b[0;34m]\u001b[0m \u001b[0;34m=\u001b[0m \u001b[0mchipo\u001b[0m\u001b[0;34m[\u001b[0m\u001b[0;34m'item_price'\u001b[0m\u001b[0;34m]\u001b[0m\u001b[0;34m.\u001b[0m\u001b[0mapply\u001b[0m\u001b[0;34m(\u001b[0m\u001b[0ml1\u001b[0m\u001b[0;34m)\u001b[0m\u001b[0;34m\u001b[0m\u001b[0;34m\u001b[0m\u001b[0m\n\u001b[0m\u001b[1;32m      3\u001b[0m \u001b[0mchipo\u001b[0m\u001b[0;34m[\u001b[0m\u001b[0;34m'item_price'\u001b[0m\u001b[0;34m]\u001b[0m\u001b[0;34m\u001b[0m\u001b[0;34m\u001b[0m\u001b[0m\n",
            "\u001b[0;32m/usr/local/lib/python3.11/dist-packages/pandas/core/series.py\u001b[0m in \u001b[0;36mapply\u001b[0;34m(self, func, convert_dtype, args, by_row, **kwargs)\u001b[0m\n\u001b[1;32m   4922\u001b[0m             \u001b[0margs\u001b[0m\u001b[0;34m=\u001b[0m\u001b[0margs\u001b[0m\u001b[0;34m,\u001b[0m\u001b[0;34m\u001b[0m\u001b[0;34m\u001b[0m\u001b[0m\n\u001b[1;32m   4923\u001b[0m             \u001b[0mkwargs\u001b[0m\u001b[0;34m=\u001b[0m\u001b[0mkwargs\u001b[0m\u001b[0;34m,\u001b[0m\u001b[0;34m\u001b[0m\u001b[0;34m\u001b[0m\u001b[0m\n\u001b[0;32m-> 4924\u001b[0;31m         ).apply()\n\u001b[0m\u001b[1;32m   4925\u001b[0m \u001b[0;34m\u001b[0m\u001b[0m\n\u001b[1;32m   4926\u001b[0m     def _reindex_indexer(\n",
            "\u001b[0;32m/usr/local/lib/python3.11/dist-packages/pandas/core/apply.py\u001b[0m in \u001b[0;36mapply\u001b[0;34m(self)\u001b[0m\n\u001b[1;32m   1425\u001b[0m \u001b[0;34m\u001b[0m\u001b[0m\n\u001b[1;32m   1426\u001b[0m         \u001b[0;31m# self.func is Callable\u001b[0m\u001b[0;34m\u001b[0m\u001b[0;34m\u001b[0m\u001b[0m\n\u001b[0;32m-> 1427\u001b[0;31m         \u001b[0;32mreturn\u001b[0m \u001b[0mself\u001b[0m\u001b[0;34m.\u001b[0m\u001b[0mapply_standard\u001b[0m\u001b[0;34m(\u001b[0m\u001b[0;34m)\u001b[0m\u001b[0;34m\u001b[0m\u001b[0;34m\u001b[0m\u001b[0m\n\u001b[0m\u001b[1;32m   1428\u001b[0m \u001b[0;34m\u001b[0m\u001b[0m\n\u001b[1;32m   1429\u001b[0m     \u001b[0;32mdef\u001b[0m \u001b[0magg\u001b[0m\u001b[0;34m(\u001b[0m\u001b[0mself\u001b[0m\u001b[0;34m)\u001b[0m\u001b[0;34m:\u001b[0m\u001b[0;34m\u001b[0m\u001b[0;34m\u001b[0m\u001b[0m\n",
            "\u001b[0;32m/usr/local/lib/python3.11/dist-packages/pandas/core/apply.py\u001b[0m in \u001b[0;36mapply_standard\u001b[0;34m(self)\u001b[0m\n\u001b[1;32m   1505\u001b[0m         \u001b[0;31m#  Categorical (GH51645).\u001b[0m\u001b[0;34m\u001b[0m\u001b[0;34m\u001b[0m\u001b[0m\n\u001b[1;32m   1506\u001b[0m         \u001b[0maction\u001b[0m \u001b[0;34m=\u001b[0m \u001b[0;34m\"ignore\"\u001b[0m \u001b[0;32mif\u001b[0m \u001b[0misinstance\u001b[0m\u001b[0;34m(\u001b[0m\u001b[0mobj\u001b[0m\u001b[0;34m.\u001b[0m\u001b[0mdtype\u001b[0m\u001b[0;34m,\u001b[0m \u001b[0mCategoricalDtype\u001b[0m\u001b[0;34m)\u001b[0m \u001b[0;32melse\u001b[0m \u001b[0;32mNone\u001b[0m\u001b[0;34m\u001b[0m\u001b[0;34m\u001b[0m\u001b[0m\n\u001b[0;32m-> 1507\u001b[0;31m         mapped = obj._map_values(\n\u001b[0m\u001b[1;32m   1508\u001b[0m             \u001b[0mmapper\u001b[0m\u001b[0;34m=\u001b[0m\u001b[0mcurried\u001b[0m\u001b[0;34m,\u001b[0m \u001b[0mna_action\u001b[0m\u001b[0;34m=\u001b[0m\u001b[0maction\u001b[0m\u001b[0;34m,\u001b[0m \u001b[0mconvert\u001b[0m\u001b[0;34m=\u001b[0m\u001b[0mself\u001b[0m\u001b[0;34m.\u001b[0m\u001b[0mconvert_dtype\u001b[0m\u001b[0;34m\u001b[0m\u001b[0;34m\u001b[0m\u001b[0m\n\u001b[1;32m   1509\u001b[0m         )\n",
            "\u001b[0;32m/usr/local/lib/python3.11/dist-packages/pandas/core/base.py\u001b[0m in \u001b[0;36m_map_values\u001b[0;34m(self, mapper, na_action, convert)\u001b[0m\n\u001b[1;32m    919\u001b[0m             \u001b[0;32mreturn\u001b[0m \u001b[0marr\u001b[0m\u001b[0;34m.\u001b[0m\u001b[0mmap\u001b[0m\u001b[0;34m(\u001b[0m\u001b[0mmapper\u001b[0m\u001b[0;34m,\u001b[0m \u001b[0mna_action\u001b[0m\u001b[0;34m=\u001b[0m\u001b[0mna_action\u001b[0m\u001b[0;34m)\u001b[0m\u001b[0;34m\u001b[0m\u001b[0;34m\u001b[0m\u001b[0m\n\u001b[1;32m    920\u001b[0m \u001b[0;34m\u001b[0m\u001b[0m\n\u001b[0;32m--> 921\u001b[0;31m         \u001b[0;32mreturn\u001b[0m \u001b[0malgorithms\u001b[0m\u001b[0;34m.\u001b[0m\u001b[0mmap_array\u001b[0m\u001b[0;34m(\u001b[0m\u001b[0marr\u001b[0m\u001b[0;34m,\u001b[0m \u001b[0mmapper\u001b[0m\u001b[0;34m,\u001b[0m \u001b[0mna_action\u001b[0m\u001b[0;34m=\u001b[0m\u001b[0mna_action\u001b[0m\u001b[0;34m,\u001b[0m \u001b[0mconvert\u001b[0m\u001b[0;34m=\u001b[0m\u001b[0mconvert\u001b[0m\u001b[0;34m)\u001b[0m\u001b[0;34m\u001b[0m\u001b[0;34m\u001b[0m\u001b[0m\n\u001b[0m\u001b[1;32m    922\u001b[0m \u001b[0;34m\u001b[0m\u001b[0m\n\u001b[1;32m    923\u001b[0m     \u001b[0;34m@\u001b[0m\u001b[0mfinal\u001b[0m\u001b[0;34m\u001b[0m\u001b[0;34m\u001b[0m\u001b[0m\n",
            "\u001b[0;32m/usr/local/lib/python3.11/dist-packages/pandas/core/algorithms.py\u001b[0m in \u001b[0;36mmap_array\u001b[0;34m(arr, mapper, na_action, convert)\u001b[0m\n\u001b[1;32m   1741\u001b[0m     \u001b[0mvalues\u001b[0m \u001b[0;34m=\u001b[0m \u001b[0marr\u001b[0m\u001b[0;34m.\u001b[0m\u001b[0mastype\u001b[0m\u001b[0;34m(\u001b[0m\u001b[0mobject\u001b[0m\u001b[0;34m,\u001b[0m \u001b[0mcopy\u001b[0m\u001b[0;34m=\u001b[0m\u001b[0;32mFalse\u001b[0m\u001b[0;34m)\u001b[0m\u001b[0;34m\u001b[0m\u001b[0;34m\u001b[0m\u001b[0m\n\u001b[1;32m   1742\u001b[0m     \u001b[0;32mif\u001b[0m \u001b[0mna_action\u001b[0m \u001b[0;32mis\u001b[0m \u001b[0;32mNone\u001b[0m\u001b[0;34m:\u001b[0m\u001b[0;34m\u001b[0m\u001b[0;34m\u001b[0m\u001b[0m\n\u001b[0;32m-> 1743\u001b[0;31m         \u001b[0;32mreturn\u001b[0m \u001b[0mlib\u001b[0m\u001b[0;34m.\u001b[0m\u001b[0mmap_infer\u001b[0m\u001b[0;34m(\u001b[0m\u001b[0mvalues\u001b[0m\u001b[0;34m,\u001b[0m \u001b[0mmapper\u001b[0m\u001b[0;34m,\u001b[0m \u001b[0mconvert\u001b[0m\u001b[0;34m=\u001b[0m\u001b[0mconvert\u001b[0m\u001b[0;34m)\u001b[0m\u001b[0;34m\u001b[0m\u001b[0;34m\u001b[0m\u001b[0m\n\u001b[0m\u001b[1;32m   1744\u001b[0m     \u001b[0;32melse\u001b[0m\u001b[0;34m:\u001b[0m\u001b[0;34m\u001b[0m\u001b[0;34m\u001b[0m\u001b[0m\n\u001b[1;32m   1745\u001b[0m         return lib.map_infer_mask(\n",
            "\u001b[0;32mlib.pyx\u001b[0m in \u001b[0;36mpandas._libs.lib.map_infer\u001b[0;34m()\u001b[0m\n",
            "\u001b[0;32m<ipython-input-33-d309eeb20f72>\u001b[0m in \u001b[0;36m<lambda>\u001b[0;34m(x)\u001b[0m\n\u001b[0;32m----> 1\u001b[0;31m \u001b[0ml1\u001b[0m \u001b[0;34m=\u001b[0m \u001b[0;32mlambda\u001b[0m \u001b[0mx\u001b[0m\u001b[0;34m:\u001b[0m \u001b[0mfloat\u001b[0m\u001b[0;34m(\u001b[0m\u001b[0mx\u001b[0m\u001b[0;34m[\u001b[0m\u001b[0;36m1\u001b[0m\u001b[0;34m:\u001b[0m\u001b[0;34m-\u001b[0m\u001b[0;36m1\u001b[0m\u001b[0;34m]\u001b[0m\u001b[0;34m)\u001b[0m\u001b[0;34m\u001b[0m\u001b[0;34m\u001b[0m\u001b[0m\n\u001b[0m\u001b[1;32m      2\u001b[0m \u001b[0mchipo\u001b[0m\u001b[0;34m[\u001b[0m\u001b[0;34m'item_price'\u001b[0m\u001b[0;34m]\u001b[0m \u001b[0;34m=\u001b[0m \u001b[0mchipo\u001b[0m\u001b[0;34m[\u001b[0m\u001b[0;34m'item_price'\u001b[0m\u001b[0;34m]\u001b[0m\u001b[0;34m.\u001b[0m\u001b[0mapply\u001b[0m\u001b[0;34m(\u001b[0m\u001b[0ml1\u001b[0m\u001b[0;34m)\u001b[0m\u001b[0;34m\u001b[0m\u001b[0;34m\u001b[0m\u001b[0m\n\u001b[1;32m      3\u001b[0m \u001b[0mchipo\u001b[0m\u001b[0;34m[\u001b[0m\u001b[0;34m'item_price'\u001b[0m\u001b[0;34m]\u001b[0m\u001b[0;34m\u001b[0m\u001b[0;34m\u001b[0m\u001b[0m\n",
            "\u001b[0;31mTypeError\u001b[0m: 'float' object is not subscriptable"
          ]
        }
      ],
      "source": [
        "l1 = lambda x: float(x[1:-1])\n",
        "chipo['item_price'] = chipo['item_price'].apply(l1)\n",
        "chipo['item_price']"
      ]
    },
    {
      "cell_type": "markdown",
      "metadata": {
        "id": "hOyr6I-neG4f"
      },
      "source": [
        "#### Step 13.c. Check the item price type"
      ]
    },
    {
      "cell_type": "code",
      "execution_count": 29,
      "metadata": {
        "colab": {
          "base_uri": "https://localhost:8080/"
        },
        "id": "ja0rXqrReG4f",
        "outputId": "980d9afb-549b-49a0-bec8-eaa6eb8a9d59"
      },
      "outputs": [
        {
          "output_type": "execute_result",
          "data": {
            "text/plain": [
              "dtype('float64')"
            ]
          },
          "metadata": {},
          "execution_count": 29
        }
      ],
      "source": [
        "chipo['item_price'].dtype"
      ]
    },
    {
      "cell_type": "markdown",
      "metadata": {
        "id": "C4bHADwneG4f"
      },
      "source": [
        "### Step 14. How much was the revenue for the period in the dataset?"
      ]
    },
    {
      "cell_type": "code",
      "execution_count": 34,
      "metadata": {
        "colab": {
          "base_uri": "https://localhost:8080/",
          "height": 80
        },
        "id": "x_bDczkdeG4f",
        "outputId": "57e42408-9005-44af-a734-e72054e758d8"
      },
      "outputs": [
        {
          "output_type": "execute_result",
          "data": {
            "text/plain": [
              "   order_id  quantity                     item_name choice_description  \\\n",
              "0         1         1  Chips and Fresh Tomato Salsa                NaN   \n",
              "\n",
              "   item_price  \n",
              "0        2.39  "
            ],
            "text/html": [
              "\n",
              "  <div id=\"df-c223324e-d6b1-4bdb-9f82-b4abc552090c\" class=\"colab-df-container\">\n",
              "    <div>\n",
              "<style scoped>\n",
              "    .dataframe tbody tr th:only-of-type {\n",
              "        vertical-align: middle;\n",
              "    }\n",
              "\n",
              "    .dataframe tbody tr th {\n",
              "        vertical-align: top;\n",
              "    }\n",
              "\n",
              "    .dataframe thead th {\n",
              "        text-align: right;\n",
              "    }\n",
              "</style>\n",
              "<table border=\"1\" class=\"dataframe\">\n",
              "  <thead>\n",
              "    <tr style=\"text-align: right;\">\n",
              "      <th></th>\n",
              "      <th>order_id</th>\n",
              "      <th>quantity</th>\n",
              "      <th>item_name</th>\n",
              "      <th>choice_description</th>\n",
              "      <th>item_price</th>\n",
              "    </tr>\n",
              "  </thead>\n",
              "  <tbody>\n",
              "    <tr>\n",
              "      <th>0</th>\n",
              "      <td>1</td>\n",
              "      <td>1</td>\n",
              "      <td>Chips and Fresh Tomato Salsa</td>\n",
              "      <td>NaN</td>\n",
              "      <td>2.39</td>\n",
              "    </tr>\n",
              "  </tbody>\n",
              "</table>\n",
              "</div>\n",
              "    <div class=\"colab-df-buttons\">\n",
              "\n",
              "  <div class=\"colab-df-container\">\n",
              "    <button class=\"colab-df-convert\" onclick=\"convertToInteractive('df-c223324e-d6b1-4bdb-9f82-b4abc552090c')\"\n",
              "            title=\"Convert this dataframe to an interactive table.\"\n",
              "            style=\"display:none;\">\n",
              "\n",
              "  <svg xmlns=\"http://www.w3.org/2000/svg\" height=\"24px\" viewBox=\"0 -960 960 960\">\n",
              "    <path d=\"M120-120v-720h720v720H120Zm60-500h600v-160H180v160Zm220 220h160v-160H400v160Zm0 220h160v-160H400v160ZM180-400h160v-160H180v160Zm440 0h160v-160H620v160ZM180-180h160v-160H180v160Zm440 0h160v-160H620v160Z\"/>\n",
              "  </svg>\n",
              "    </button>\n",
              "\n",
              "  <style>\n",
              "    .colab-df-container {\n",
              "      display:flex;\n",
              "      gap: 12px;\n",
              "    }\n",
              "\n",
              "    .colab-df-convert {\n",
              "      background-color: #E8F0FE;\n",
              "      border: none;\n",
              "      border-radius: 50%;\n",
              "      cursor: pointer;\n",
              "      display: none;\n",
              "      fill: #1967D2;\n",
              "      height: 32px;\n",
              "      padding: 0 0 0 0;\n",
              "      width: 32px;\n",
              "    }\n",
              "\n",
              "    .colab-df-convert:hover {\n",
              "      background-color: #E2EBFA;\n",
              "      box-shadow: 0px 1px 2px rgba(60, 64, 67, 0.3), 0px 1px 3px 1px rgba(60, 64, 67, 0.15);\n",
              "      fill: #174EA6;\n",
              "    }\n",
              "\n",
              "    .colab-df-buttons div {\n",
              "      margin-bottom: 4px;\n",
              "    }\n",
              "\n",
              "    [theme=dark] .colab-df-convert {\n",
              "      background-color: #3B4455;\n",
              "      fill: #D2E3FC;\n",
              "    }\n",
              "\n",
              "    [theme=dark] .colab-df-convert:hover {\n",
              "      background-color: #434B5C;\n",
              "      box-shadow: 0px 1px 3px 1px rgba(0, 0, 0, 0.15);\n",
              "      filter: drop-shadow(0px 1px 2px rgba(0, 0, 0, 0.3));\n",
              "      fill: #FFFFFF;\n",
              "    }\n",
              "  </style>\n",
              "\n",
              "    <script>\n",
              "      const buttonEl =\n",
              "        document.querySelector('#df-c223324e-d6b1-4bdb-9f82-b4abc552090c button.colab-df-convert');\n",
              "      buttonEl.style.display =\n",
              "        google.colab.kernel.accessAllowed ? 'block' : 'none';\n",
              "\n",
              "      async function convertToInteractive(key) {\n",
              "        const element = document.querySelector('#df-c223324e-d6b1-4bdb-9f82-b4abc552090c');\n",
              "        const dataTable =\n",
              "          await google.colab.kernel.invokeFunction('convertToInteractive',\n",
              "                                                    [key], {});\n",
              "        if (!dataTable) return;\n",
              "\n",
              "        const docLinkHtml = 'Like what you see? Visit the ' +\n",
              "          '<a target=\"_blank\" href=https://colab.research.google.com/notebooks/data_table.ipynb>data table notebook</a>'\n",
              "          + ' to learn more about interactive tables.';\n",
              "        element.innerHTML = '';\n",
              "        dataTable['output_type'] = 'display_data';\n",
              "        await google.colab.output.renderOutput(dataTable, element);\n",
              "        const docLink = document.createElement('div');\n",
              "        docLink.innerHTML = docLinkHtml;\n",
              "        element.appendChild(docLink);\n",
              "      }\n",
              "    </script>\n",
              "  </div>\n",
              "\n",
              "\n",
              "    </div>\n",
              "  </div>\n"
            ],
            "application/vnd.google.colaboratory.intrinsic+json": {
              "type": "dataframe",
              "variable_name": "chipo",
              "summary": "{\n  \"name\": \"chipo\",\n  \"rows\": 4622,\n  \"fields\": [\n    {\n      \"column\": \"order_id\",\n      \"properties\": {\n        \"dtype\": \"number\",\n        \"std\": 528,\n        \"min\": 1,\n        \"max\": 1834,\n        \"num_unique_values\": 1834,\n        \"samples\": [\n          644,\n          333,\n          991\n        ],\n        \"semantic_type\": \"\",\n        \"description\": \"\"\n      }\n    },\n    {\n      \"column\": \"quantity\",\n      \"properties\": {\n        \"dtype\": \"number\",\n        \"std\": 0,\n        \"min\": 1,\n        \"max\": 15,\n        \"num_unique_values\": 9,\n        \"samples\": [\n          8,\n          2,\n          15\n        ],\n        \"semantic_type\": \"\",\n        \"description\": \"\"\n      }\n    },\n    {\n      \"column\": \"item_name\",\n      \"properties\": {\n        \"dtype\": \"category\",\n        \"num_unique_values\": 50,\n        \"samples\": [\n          \"Barbacoa Burrito\",\n          \"Crispy Tacos\",\n          \"Chips and Roasted Chili Corn Salsa\"\n        ],\n        \"semantic_type\": \"\",\n        \"description\": \"\"\n      }\n    },\n    {\n      \"column\": \"choice_description\",\n      \"properties\": {\n        \"dtype\": \"category\",\n        \"num_unique_values\": 1043,\n        \"samples\": [\n          \"[Roasted Chili Corn Salsa, [Black Beans, Sour Cream, Cheese, Guacamole]]\",\n          \"[Tomatillo Red Chili Salsa, [Guacamole, Cheese]]\",\n          \"[Fresh Tomato Salsa, [Rice, Cheese, Sour Cream, Guacamole, Lettuce]]\"\n        ],\n        \"semantic_type\": \"\",\n        \"description\": \"\"\n      }\n    },\n    {\n      \"column\": \"item_price\",\n      \"properties\": {\n        \"dtype\": \"number\",\n        \"std\": 4.245557197940349,\n        \"min\": 1.09,\n        \"max\": 44.25,\n        \"num_unique_values\": 78,\n        \"samples\": [\n          23.5,\n          2.39,\n          7.4\n        ],\n        \"semantic_type\": \"\",\n        \"description\": \"\"\n      }\n    }\n  ]\n}"
            }
          },
          "metadata": {},
          "execution_count": 34
        }
      ],
      "source": [
        "chipo.head(1)"
      ]
    },
    {
      "cell_type": "code",
      "source": [
        "revenue = (chipo['item_price'] * chipo['quantity']).sum()\n",
        "revenue"
      ],
      "metadata": {
        "id": "O4f31fcrxq6N",
        "outputId": "57c07172-28cc-451e-99da-1cec5ff0bb76",
        "colab": {
          "base_uri": "https://localhost:8080/"
        }
      },
      "execution_count": 37,
      "outputs": [
        {
          "output_type": "execute_result",
          "data": {
            "text/plain": [
              "39237.02"
            ]
          },
          "metadata": {},
          "execution_count": 37
        }
      ]
    },
    {
      "cell_type": "markdown",
      "metadata": {
        "id": "VOAr0BypeG4f"
      },
      "source": [
        "### Step 15. How many orders were made in the period?"
      ]
    },
    {
      "cell_type": "code",
      "execution_count": 41,
      "metadata": {
        "colab": {
          "base_uri": "https://localhost:8080/"
        },
        "id": "bD6N8QmMeG4f",
        "outputId": "82ac57e3-a419-4700-deae-b88142e2b836"
      },
      "outputs": [
        {
          "output_type": "execute_result",
          "data": {
            "text/plain": [
              "1834"
            ]
          },
          "metadata": {},
          "execution_count": 41
        }
      ],
      "source": [
        "count = chipo['order_id'].value_counts().count()\n",
        "count"
      ]
    },
    {
      "cell_type": "markdown",
      "metadata": {
        "id": "Sn8RmSXDeG4f"
      },
      "source": [
        "### Step 16. What is the average revenue amount per order?"
      ]
    },
    {
      "cell_type": "code",
      "execution_count": 43,
      "metadata": {
        "colab": {
          "base_uri": "https://localhost:8080/",
          "height": 489
        },
        "id": "kPMTcSApeG4g",
        "outputId": "406a30e1-bd86-4884-d7fe-b87b5ba54316"
      },
      "outputs": [
        {
          "output_type": "execute_result",
          "data": {
            "text/plain": [
              "order_id\n",
              "926      1705.957391\n",
              "1483     2802.644286\n",
              "205      3269.751667\n",
              "759      3567.001818\n",
              "1786     3567.001818\n",
              "            ...     \n",
              "768     39237.020000\n",
              "341     39237.020000\n",
              "1048    39237.020000\n",
              "94      39237.020000\n",
              "1199    39237.020000\n",
              "Name: count, Length: 1834, dtype: float64"
            ],
            "text/html": [
              "<div>\n",
              "<style scoped>\n",
              "    .dataframe tbody tr th:only-of-type {\n",
              "        vertical-align: middle;\n",
              "    }\n",
              "\n",
              "    .dataframe tbody tr th {\n",
              "        vertical-align: top;\n",
              "    }\n",
              "\n",
              "    .dataframe thead th {\n",
              "        text-align: right;\n",
              "    }\n",
              "</style>\n",
              "<table border=\"1\" class=\"dataframe\">\n",
              "  <thead>\n",
              "    <tr style=\"text-align: right;\">\n",
              "      <th></th>\n",
              "      <th>count</th>\n",
              "    </tr>\n",
              "    <tr>\n",
              "      <th>order_id</th>\n",
              "      <th></th>\n",
              "    </tr>\n",
              "  </thead>\n",
              "  <tbody>\n",
              "    <tr>\n",
              "      <th>926</th>\n",
              "      <td>1705.957391</td>\n",
              "    </tr>\n",
              "    <tr>\n",
              "      <th>1483</th>\n",
              "      <td>2802.644286</td>\n",
              "    </tr>\n",
              "    <tr>\n",
              "      <th>205</th>\n",
              "      <td>3269.751667</td>\n",
              "    </tr>\n",
              "    <tr>\n",
              "      <th>759</th>\n",
              "      <td>3567.001818</td>\n",
              "    </tr>\n",
              "    <tr>\n",
              "      <th>1786</th>\n",
              "      <td>3567.001818</td>\n",
              "    </tr>\n",
              "    <tr>\n",
              "      <th>...</th>\n",
              "      <td>...</td>\n",
              "    </tr>\n",
              "    <tr>\n",
              "      <th>768</th>\n",
              "      <td>39237.020000</td>\n",
              "    </tr>\n",
              "    <tr>\n",
              "      <th>341</th>\n",
              "      <td>39237.020000</td>\n",
              "    </tr>\n",
              "    <tr>\n",
              "      <th>1048</th>\n",
              "      <td>39237.020000</td>\n",
              "    </tr>\n",
              "    <tr>\n",
              "      <th>94</th>\n",
              "      <td>39237.020000</td>\n",
              "    </tr>\n",
              "    <tr>\n",
              "      <th>1199</th>\n",
              "      <td>39237.020000</td>\n",
              "    </tr>\n",
              "  </tbody>\n",
              "</table>\n",
              "<p>1834 rows × 1 columns</p>\n",
              "</div><br><label><b>dtype:</b> float64</label>"
            ]
          },
          "metadata": {},
          "execution_count": 43
        }
      ],
      "source": [
        "# Solution 1\n",
        "\n",
        "avg_revenue = (chipo['item_price'] * chipo['quantity']).sum()/chipo['order_id'].value_counts()\n",
        "avg_revenue"
      ]
    },
    {
      "cell_type": "code",
      "execution_count": null,
      "metadata": {
        "id": "zvvbnIh1eG4g"
      },
      "outputs": [],
      "source": [
        "# Solution 2\n",
        "\n"
      ]
    },
    {
      "cell_type": "markdown",
      "metadata": {
        "id": "FXje7SnCeG4l"
      },
      "source": [
        "### Step 17. How many different items are sold?"
      ]
    },
    {
      "cell_type": "code",
      "execution_count": null,
      "metadata": {
        "id": "4jwap6naeG4l"
      },
      "outputs": [],
      "source": []
    }
  ],
  "metadata": {
    "anaconda-cloud": {},
    "kernelspec": {
      "display_name": "Python [default]",
      "language": "python",
      "name": "python2"
    },
    "language_info": {
      "codemirror_mode": {
        "name": "ipython",
        "version": 2
      },
      "file_extension": ".py",
      "mimetype": "text/x-python",
      "name": "python",
      "nbconvert_exporter": "python",
      "pygments_lexer": "ipython2",
      "version": "2.7.12"
    },
    "colab": {
      "provenance": []
    }
  },
  "nbformat": 4,
  "nbformat_minor": 0
}